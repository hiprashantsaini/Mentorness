{
 "cells": [
  {
   "cell_type": "code",
   "execution_count": 238,
   "id": "b4bde4a8",
   "metadata": {},
   "outputs": [],
   "source": [
    "# Import required libraries\n",
    "import numpy as np\n",
    "import pandas as pd\n",
    "import matplotlib.pyplot as plt\n",
    "import seaborn as sns\n"
   ]
  },
  {
   "cell_type": "code",
   "execution_count": 636,
   "id": "087edfc5",
   "metadata": {},
   "outputs": [
    {
     "data": {
      "text/html": [
       "<div>\n",
       "<style scoped>\n",
       "    .dataframe tbody tr th:only-of-type {\n",
       "        vertical-align: middle;\n",
       "    }\n",
       "\n",
       "    .dataframe tbody tr th {\n",
       "        vertical-align: top;\n",
       "    }\n",
       "\n",
       "    .dataframe thead th {\n",
       "        text-align: right;\n",
       "    }\n",
       "</style>\n",
       "<table border=\"1\" class=\"dataframe\">\n",
       "  <thead>\n",
       "    <tr style=\"text-align: right;\">\n",
       "      <th></th>\n",
       "      <th>ID</th>\n",
       "      <th>Gender</th>\n",
       "      <th>Has a car</th>\n",
       "      <th>Has a property</th>\n",
       "      <th>Children count</th>\n",
       "      <th>Income</th>\n",
       "      <th>Employment status</th>\n",
       "      <th>Education level</th>\n",
       "      <th>Marital status</th>\n",
       "      <th>Dwelling</th>\n",
       "      <th>Age</th>\n",
       "      <th>Employment length</th>\n",
       "      <th>Has a mobile phone</th>\n",
       "      <th>Has a work phone</th>\n",
       "      <th>Has a phone</th>\n",
       "      <th>Has an email</th>\n",
       "      <th>Job title</th>\n",
       "      <th>Family member count</th>\n",
       "      <th>Account age</th>\n",
       "      <th>Is high risk</th>\n",
       "    </tr>\n",
       "  </thead>\n",
       "  <tbody>\n",
       "    <tr>\n",
       "      <th>0</th>\n",
       "      <td>5091261</td>\n",
       "      <td>F</td>\n",
       "      <td>N</td>\n",
       "      <td>Y</td>\n",
       "      <td>0</td>\n",
       "      <td>202500.0</td>\n",
       "      <td>State servant</td>\n",
       "      <td>Secondary / secondary special</td>\n",
       "      <td>Separated</td>\n",
       "      <td>House / apartment</td>\n",
       "      <td>-16834</td>\n",
       "      <td>-1692</td>\n",
       "      <td>1</td>\n",
       "      <td>0</td>\n",
       "      <td>0</td>\n",
       "      <td>0</td>\n",
       "      <td>Medicine staff</td>\n",
       "      <td>1.0</td>\n",
       "      <td>-6.0</td>\n",
       "      <td>0</td>\n",
       "    </tr>\n",
       "    <tr>\n",
       "      <th>1</th>\n",
       "      <td>5096963</td>\n",
       "      <td>M</td>\n",
       "      <td>Y</td>\n",
       "      <td>N</td>\n",
       "      <td>0</td>\n",
       "      <td>675000.0</td>\n",
       "      <td>Commercial associate</td>\n",
       "      <td>Higher education</td>\n",
       "      <td>Married</td>\n",
       "      <td>House / apartment</td>\n",
       "      <td>-18126</td>\n",
       "      <td>-948</td>\n",
       "      <td>1</td>\n",
       "      <td>0</td>\n",
       "      <td>1</td>\n",
       "      <td>0</td>\n",
       "      <td>Managers</td>\n",
       "      <td>2.0</td>\n",
       "      <td>-16.0</td>\n",
       "      <td>0</td>\n",
       "    </tr>\n",
       "    <tr>\n",
       "      <th>2</th>\n",
       "      <td>5087880</td>\n",
       "      <td>F</td>\n",
       "      <td>N</td>\n",
       "      <td>N</td>\n",
       "      <td>0</td>\n",
       "      <td>234000.0</td>\n",
       "      <td>State servant</td>\n",
       "      <td>Higher education</td>\n",
       "      <td>Civil marriage</td>\n",
       "      <td>House / apartment</td>\n",
       "      <td>-21967</td>\n",
       "      <td>-5215</td>\n",
       "      <td>1</td>\n",
       "      <td>0</td>\n",
       "      <td>0</td>\n",
       "      <td>1</td>\n",
       "      <td>Core staff</td>\n",
       "      <td>2.0</td>\n",
       "      <td>-52.0</td>\n",
       "      <td>0</td>\n",
       "    </tr>\n",
       "    <tr>\n",
       "      <th>3</th>\n",
       "      <td>5021949</td>\n",
       "      <td>F</td>\n",
       "      <td>Y</td>\n",
       "      <td>Y</td>\n",
       "      <td>0</td>\n",
       "      <td>445500.0</td>\n",
       "      <td>Commercial associate</td>\n",
       "      <td>Higher education</td>\n",
       "      <td>Married</td>\n",
       "      <td>House / apartment</td>\n",
       "      <td>-12477</td>\n",
       "      <td>-456</td>\n",
       "      <td>1</td>\n",
       "      <td>0</td>\n",
       "      <td>0</td>\n",
       "      <td>0</td>\n",
       "      <td>Managers</td>\n",
       "      <td>2.0</td>\n",
       "      <td>-54.0</td>\n",
       "      <td>0</td>\n",
       "    </tr>\n",
       "    <tr>\n",
       "      <th>4</th>\n",
       "      <td>5105705</td>\n",
       "      <td>F</td>\n",
       "      <td>Y</td>\n",
       "      <td>N</td>\n",
       "      <td>0</td>\n",
       "      <td>225000.0</td>\n",
       "      <td>Working</td>\n",
       "      <td>Secondary / secondary special</td>\n",
       "      <td>Married</td>\n",
       "      <td>Municipal apartment</td>\n",
       "      <td>-12155</td>\n",
       "      <td>-667</td>\n",
       "      <td>1</td>\n",
       "      <td>0</td>\n",
       "      <td>0</td>\n",
       "      <td>0</td>\n",
       "      <td>Laborers</td>\n",
       "      <td>2.0</td>\n",
       "      <td>-48.0</td>\n",
       "      <td>0</td>\n",
       "    </tr>\n",
       "  </tbody>\n",
       "</table>\n",
       "</div>"
      ],
      "text/plain": [
       "        ID Gender Has a car Has a property  Children count    Income  \\\n",
       "0  5091261      F         N              Y               0  202500.0   \n",
       "1  5096963      M         Y              N               0  675000.0   \n",
       "2  5087880      F         N              N               0  234000.0   \n",
       "3  5021949      F         Y              Y               0  445500.0   \n",
       "4  5105705      F         Y              N               0  225000.0   \n",
       "\n",
       "      Employment status                Education level  Marital status  \\\n",
       "0         State servant  Secondary / secondary special       Separated   \n",
       "1  Commercial associate               Higher education         Married   \n",
       "2         State servant               Higher education  Civil marriage   \n",
       "3  Commercial associate               Higher education         Married   \n",
       "4               Working  Secondary / secondary special         Married   \n",
       "\n",
       "              Dwelling    Age  Employment length  Has a mobile phone  \\\n",
       "0    House / apartment -16834              -1692                   1   \n",
       "1    House / apartment -18126               -948                   1   \n",
       "2    House / apartment -21967              -5215                   1   \n",
       "3    House / apartment -12477               -456                   1   \n",
       "4  Municipal apartment -12155               -667                   1   \n",
       "\n",
       "   Has a work phone  Has a phone  Has an email       Job title  \\\n",
       "0                 0            0             0  Medicine staff   \n",
       "1                 0            1             0        Managers   \n",
       "2                 0            0             1      Core staff   \n",
       "3                 0            0             0        Managers   \n",
       "4                 0            0             0        Laborers   \n",
       "\n",
       "   Family member count  Account age  Is high risk  \n",
       "0                  1.0         -6.0             0  \n",
       "1                  2.0        -16.0             0  \n",
       "2                  2.0        -52.0             0  \n",
       "3                  2.0        -54.0             0  \n",
       "4                  2.0        -48.0             0  "
      ]
     },
     "execution_count": 636,
     "metadata": {},
     "output_type": "execute_result"
    }
   ],
   "source": [
    "#Loading the test dataset\n",
    "test_df=pd.read_csv(r\"C:\\Users\\prash\\OneDrive\\Desktop\\Mentorness\\Task 3_ Credit card Prediction\\\\test_data.csv\")\n",
    "test_df.head()"
   ]
  },
  {
   "cell_type": "code",
   "execution_count": 637,
   "id": "8a5199de",
   "metadata": {
    "scrolled": true
   },
   "outputs": [
    {
     "data": {
      "text/html": [
       "<div>\n",
       "<style scoped>\n",
       "    .dataframe tbody tr th:only-of-type {\n",
       "        vertical-align: middle;\n",
       "    }\n",
       "\n",
       "    .dataframe tbody tr th {\n",
       "        vertical-align: top;\n",
       "    }\n",
       "\n",
       "    .dataframe thead th {\n",
       "        text-align: right;\n",
       "    }\n",
       "</style>\n",
       "<table border=\"1\" class=\"dataframe\">\n",
       "  <thead>\n",
       "    <tr style=\"text-align: right;\">\n",
       "      <th></th>\n",
       "      <th>ID</th>\n",
       "      <th>Gender</th>\n",
       "      <th>Has a car</th>\n",
       "      <th>Has a property</th>\n",
       "      <th>Children count</th>\n",
       "      <th>Income</th>\n",
       "      <th>Employment status</th>\n",
       "      <th>Education level</th>\n",
       "      <th>Marital status</th>\n",
       "      <th>Dwelling</th>\n",
       "      <th>Age</th>\n",
       "      <th>Employment length</th>\n",
       "      <th>Has a mobile phone</th>\n",
       "      <th>Has a work phone</th>\n",
       "      <th>Has a phone</th>\n",
       "      <th>Has an email</th>\n",
       "      <th>Job title</th>\n",
       "      <th>Family member count</th>\n",
       "      <th>Account age</th>\n",
       "      <th>Is high risk</th>\n",
       "    </tr>\n",
       "  </thead>\n",
       "  <tbody>\n",
       "    <tr>\n",
       "      <th>0</th>\n",
       "      <td>5037048</td>\n",
       "      <td>M</td>\n",
       "      <td>Y</td>\n",
       "      <td>Y</td>\n",
       "      <td>0</td>\n",
       "      <td>135000.0</td>\n",
       "      <td>Working</td>\n",
       "      <td>Secondary / secondary special</td>\n",
       "      <td>Married</td>\n",
       "      <td>With parents</td>\n",
       "      <td>-16271</td>\n",
       "      <td>-3111</td>\n",
       "      <td>1</td>\n",
       "      <td>0</td>\n",
       "      <td>0</td>\n",
       "      <td>0</td>\n",
       "      <td>Core staff</td>\n",
       "      <td>2.0</td>\n",
       "      <td>-17.0</td>\n",
       "      <td>0</td>\n",
       "    </tr>\n",
       "    <tr>\n",
       "      <th>1</th>\n",
       "      <td>5044630</td>\n",
       "      <td>F</td>\n",
       "      <td>Y</td>\n",
       "      <td>N</td>\n",
       "      <td>1</td>\n",
       "      <td>135000.0</td>\n",
       "      <td>Commercial associate</td>\n",
       "      <td>Higher education</td>\n",
       "      <td>Single / not married</td>\n",
       "      <td>House / apartment</td>\n",
       "      <td>-10130</td>\n",
       "      <td>-1651</td>\n",
       "      <td>1</td>\n",
       "      <td>0</td>\n",
       "      <td>0</td>\n",
       "      <td>0</td>\n",
       "      <td>Accountants</td>\n",
       "      <td>2.0</td>\n",
       "      <td>-1.0</td>\n",
       "      <td>0</td>\n",
       "    </tr>\n",
       "    <tr>\n",
       "      <th>2</th>\n",
       "      <td>5079079</td>\n",
       "      <td>F</td>\n",
       "      <td>N</td>\n",
       "      <td>Y</td>\n",
       "      <td>2</td>\n",
       "      <td>180000.0</td>\n",
       "      <td>Commercial associate</td>\n",
       "      <td>Secondary / secondary special</td>\n",
       "      <td>Married</td>\n",
       "      <td>House / apartment</td>\n",
       "      <td>-12821</td>\n",
       "      <td>-5657</td>\n",
       "      <td>1</td>\n",
       "      <td>0</td>\n",
       "      <td>0</td>\n",
       "      <td>0</td>\n",
       "      <td>Laborers</td>\n",
       "      <td>4.0</td>\n",
       "      <td>-38.0</td>\n",
       "      <td>0</td>\n",
       "    </tr>\n",
       "    <tr>\n",
       "      <th>3</th>\n",
       "      <td>5112872</td>\n",
       "      <td>F</td>\n",
       "      <td>Y</td>\n",
       "      <td>Y</td>\n",
       "      <td>0</td>\n",
       "      <td>360000.0</td>\n",
       "      <td>Commercial associate</td>\n",
       "      <td>Higher education</td>\n",
       "      <td>Single / not married</td>\n",
       "      <td>House / apartment</td>\n",
       "      <td>-20929</td>\n",
       "      <td>-2046</td>\n",
       "      <td>1</td>\n",
       "      <td>0</td>\n",
       "      <td>0</td>\n",
       "      <td>1</td>\n",
       "      <td>Managers</td>\n",
       "      <td>1.0</td>\n",
       "      <td>-11.0</td>\n",
       "      <td>0</td>\n",
       "    </tr>\n",
       "    <tr>\n",
       "      <th>4</th>\n",
       "      <td>5105858</td>\n",
       "      <td>F</td>\n",
       "      <td>N</td>\n",
       "      <td>N</td>\n",
       "      <td>0</td>\n",
       "      <td>270000.0</td>\n",
       "      <td>Working</td>\n",
       "      <td>Secondary / secondary special</td>\n",
       "      <td>Separated</td>\n",
       "      <td>House / apartment</td>\n",
       "      <td>-16207</td>\n",
       "      <td>-515</td>\n",
       "      <td>1</td>\n",
       "      <td>0</td>\n",
       "      <td>1</td>\n",
       "      <td>0</td>\n",
       "      <td>NaN</td>\n",
       "      <td>1.0</td>\n",
       "      <td>-41.0</td>\n",
       "      <td>0</td>\n",
       "    </tr>\n",
       "  </tbody>\n",
       "</table>\n",
       "</div>"
      ],
      "text/plain": [
       "        ID Gender Has a car Has a property  Children count    Income  \\\n",
       "0  5037048      M         Y              Y               0  135000.0   \n",
       "1  5044630      F         Y              N               1  135000.0   \n",
       "2  5079079      F         N              Y               2  180000.0   \n",
       "3  5112872      F         Y              Y               0  360000.0   \n",
       "4  5105858      F         N              N               0  270000.0   \n",
       "\n",
       "      Employment status                Education level        Marital status  \\\n",
       "0               Working  Secondary / secondary special               Married   \n",
       "1  Commercial associate               Higher education  Single / not married   \n",
       "2  Commercial associate  Secondary / secondary special               Married   \n",
       "3  Commercial associate               Higher education  Single / not married   \n",
       "4               Working  Secondary / secondary special             Separated   \n",
       "\n",
       "            Dwelling    Age  Employment length  Has a mobile phone  \\\n",
       "0       With parents -16271              -3111                   1   \n",
       "1  House / apartment -10130              -1651                   1   \n",
       "2  House / apartment -12821              -5657                   1   \n",
       "3  House / apartment -20929              -2046                   1   \n",
       "4  House / apartment -16207               -515                   1   \n",
       "\n",
       "   Has a work phone  Has a phone  Has an email    Job title  \\\n",
       "0                 0            0             0   Core staff   \n",
       "1                 0            0             0  Accountants   \n",
       "2                 0            0             0     Laborers   \n",
       "3                 0            0             1     Managers   \n",
       "4                 0            1             0          NaN   \n",
       "\n",
       "   Family member count  Account age  Is high risk  \n",
       "0                  2.0        -17.0             0  \n",
       "1                  2.0         -1.0             0  \n",
       "2                  4.0        -38.0             0  \n",
       "3                  1.0        -11.0             0  \n",
       "4                  1.0        -41.0             0  "
      ]
     },
     "execution_count": 637,
     "metadata": {},
     "output_type": "execute_result"
    }
   ],
   "source": [
    "###Loading test dataset\n",
    "train_df=pd.read_csv(r\"C:\\Users\\prash\\OneDrive\\Desktop\\Mentorness\\Task 3_ Credit card Prediction\\train_data.csv\")\n",
    "train_df.head()"
   ]
  },
  {
   "cell_type": "code",
   "execution_count": 638,
   "id": "3248ce0c",
   "metadata": {},
   "outputs": [],
   "source": [
    "# from ydata_profiling import ProfileReport"
   ]
  },
  {
   "cell_type": "code",
   "execution_count": 639,
   "id": "45f1c7bf",
   "metadata": {},
   "outputs": [],
   "source": [
    "# credit_card_profile=ProfileReport(train_df)## Credit card approval data profile."
   ]
  },
  {
   "cell_type": "markdown",
   "id": "167a37d7",
   "metadata": {},
   "source": [
    "#### Train and test dataset preprocessing"
   ]
  },
  {
   "cell_type": "code",
   "execution_count": 640,
   "id": "691b5e8e",
   "metadata": {},
   "outputs": [
    {
     "data": {
      "text/plain": [
       "(7292, 20)"
      ]
     },
     "execution_count": 640,
     "metadata": {},
     "output_type": "execute_result"
    }
   ],
   "source": [
    "\n",
    "test_df.shape"
   ]
  },
  {
   "cell_type": "code",
   "execution_count": 641,
   "id": "c0a47ab1",
   "metadata": {},
   "outputs": [
    {
     "data": {
      "text/plain": [
       "(29165, 20)"
      ]
     },
     "execution_count": 641,
     "metadata": {},
     "output_type": "execute_result"
    }
   ],
   "source": [
    "train_df.shape"
   ]
  },
  {
   "cell_type": "code",
   "execution_count": 642,
   "id": "ed41449f",
   "metadata": {},
   "outputs": [
    {
     "data": {
      "text/html": [
       "<div>\n",
       "<style scoped>\n",
       "    .dataframe tbody tr th:only-of-type {\n",
       "        vertical-align: middle;\n",
       "    }\n",
       "\n",
       "    .dataframe tbody tr th {\n",
       "        vertical-align: top;\n",
       "    }\n",
       "\n",
       "    .dataframe thead th {\n",
       "        text-align: right;\n",
       "    }\n",
       "</style>\n",
       "<table border=\"1\" class=\"dataframe\">\n",
       "  <thead>\n",
       "    <tr style=\"text-align: right;\">\n",
       "      <th></th>\n",
       "      <th>ID</th>\n",
       "      <th>Gender</th>\n",
       "      <th>Has a car</th>\n",
       "      <th>Has a property</th>\n",
       "      <th>Children count</th>\n",
       "      <th>Income</th>\n",
       "      <th>Employment status</th>\n",
       "      <th>Education level</th>\n",
       "      <th>Marital status</th>\n",
       "      <th>Dwelling</th>\n",
       "      <th>Age</th>\n",
       "      <th>Employment length</th>\n",
       "      <th>Has a mobile phone</th>\n",
       "      <th>Has a work phone</th>\n",
       "      <th>Has a phone</th>\n",
       "      <th>Has an email</th>\n",
       "      <th>Job title</th>\n",
       "      <th>Family member count</th>\n",
       "      <th>Account age</th>\n",
       "      <th>Is high risk</th>\n",
       "    </tr>\n",
       "  </thead>\n",
       "  <tbody>\n",
       "    <tr>\n",
       "      <th>1340</th>\n",
       "      <td>5023544</td>\n",
       "      <td>F</td>\n",
       "      <td>N</td>\n",
       "      <td>Y</td>\n",
       "      <td>0</td>\n",
       "      <td>90000.0</td>\n",
       "      <td>State servant</td>\n",
       "      <td>Secondary / secondary special</td>\n",
       "      <td>Civil marriage</td>\n",
       "      <td>House / apartment</td>\n",
       "      <td>-15945</td>\n",
       "      <td>-3673</td>\n",
       "      <td>1</td>\n",
       "      <td>1</td>\n",
       "      <td>1</td>\n",
       "      <td>0</td>\n",
       "      <td>Core staff</td>\n",
       "      <td>2.0</td>\n",
       "      <td>-26.0</td>\n",
       "      <td>0</td>\n",
       "    </tr>\n",
       "    <tr>\n",
       "      <th>4772</th>\n",
       "      <td>5053069</td>\n",
       "      <td>F</td>\n",
       "      <td>N</td>\n",
       "      <td>Y</td>\n",
       "      <td>0</td>\n",
       "      <td>193500.0</td>\n",
       "      <td>State servant</td>\n",
       "      <td>Secondary / secondary special</td>\n",
       "      <td>Married</td>\n",
       "      <td>Office apartment</td>\n",
       "      <td>-22168</td>\n",
       "      <td>-10155</td>\n",
       "      <td>1</td>\n",
       "      <td>0</td>\n",
       "      <td>0</td>\n",
       "      <td>0</td>\n",
       "      <td>Cooking staff</td>\n",
       "      <td>2.0</td>\n",
       "      <td>-16.0</td>\n",
       "      <td>0</td>\n",
       "    </tr>\n",
       "    <tr>\n",
       "      <th>6032</th>\n",
       "      <td>5135630</td>\n",
       "      <td>M</td>\n",
       "      <td>Y</td>\n",
       "      <td>Y</td>\n",
       "      <td>0</td>\n",
       "      <td>220500.0</td>\n",
       "      <td>Pensioner</td>\n",
       "      <td>Secondary / secondary special</td>\n",
       "      <td>Married</td>\n",
       "      <td>House / apartment</td>\n",
       "      <td>-23113</td>\n",
       "      <td>365243</td>\n",
       "      <td>1</td>\n",
       "      <td>0</td>\n",
       "      <td>0</td>\n",
       "      <td>0</td>\n",
       "      <td>NaN</td>\n",
       "      <td>2.0</td>\n",
       "      <td>-30.0</td>\n",
       "      <td>0</td>\n",
       "    </tr>\n",
       "    <tr>\n",
       "      <th>2067</th>\n",
       "      <td>5033501</td>\n",
       "      <td>M</td>\n",
       "      <td>Y</td>\n",
       "      <td>Y</td>\n",
       "      <td>0</td>\n",
       "      <td>270000.0</td>\n",
       "      <td>Working</td>\n",
       "      <td>Secondary / secondary special</td>\n",
       "      <td>Married</td>\n",
       "      <td>House / apartment</td>\n",
       "      <td>-15487</td>\n",
       "      <td>-3093</td>\n",
       "      <td>1</td>\n",
       "      <td>0</td>\n",
       "      <td>1</td>\n",
       "      <td>0</td>\n",
       "      <td>Laborers</td>\n",
       "      <td>2.0</td>\n",
       "      <td>-12.0</td>\n",
       "      <td>0</td>\n",
       "    </tr>\n",
       "    <tr>\n",
       "      <th>4835</th>\n",
       "      <td>5090801</td>\n",
       "      <td>F</td>\n",
       "      <td>N</td>\n",
       "      <td>Y</td>\n",
       "      <td>0</td>\n",
       "      <td>112500.0</td>\n",
       "      <td>Working</td>\n",
       "      <td>Secondary / secondary special</td>\n",
       "      <td>Married</td>\n",
       "      <td>House / apartment</td>\n",
       "      <td>-18575</td>\n",
       "      <td>-4113</td>\n",
       "      <td>1</td>\n",
       "      <td>0</td>\n",
       "      <td>0</td>\n",
       "      <td>0</td>\n",
       "      <td>Accountants</td>\n",
       "      <td>2.0</td>\n",
       "      <td>-34.0</td>\n",
       "      <td>0</td>\n",
       "    </tr>\n",
       "    <tr>\n",
       "      <th>3165</th>\n",
       "      <td>5149079</td>\n",
       "      <td>F</td>\n",
       "      <td>Y</td>\n",
       "      <td>N</td>\n",
       "      <td>0</td>\n",
       "      <td>202500.0</td>\n",
       "      <td>Commercial associate</td>\n",
       "      <td>Secondary / secondary special</td>\n",
       "      <td>Married</td>\n",
       "      <td>House / apartment</td>\n",
       "      <td>-14207</td>\n",
       "      <td>-625</td>\n",
       "      <td>1</td>\n",
       "      <td>0</td>\n",
       "      <td>0</td>\n",
       "      <td>0</td>\n",
       "      <td>Sales staff</td>\n",
       "      <td>2.0</td>\n",
       "      <td>-15.0</td>\n",
       "      <td>0</td>\n",
       "    </tr>\n",
       "    <tr>\n",
       "      <th>6198</th>\n",
       "      <td>5050910</td>\n",
       "      <td>M</td>\n",
       "      <td>N</td>\n",
       "      <td>N</td>\n",
       "      <td>1</td>\n",
       "      <td>225000.0</td>\n",
       "      <td>Commercial associate</td>\n",
       "      <td>Secondary / secondary special</td>\n",
       "      <td>Married</td>\n",
       "      <td>House / apartment</td>\n",
       "      <td>-12865</td>\n",
       "      <td>-804</td>\n",
       "      <td>1</td>\n",
       "      <td>0</td>\n",
       "      <td>0</td>\n",
       "      <td>0</td>\n",
       "      <td>NaN</td>\n",
       "      <td>3.0</td>\n",
       "      <td>-24.0</td>\n",
       "      <td>0</td>\n",
       "    </tr>\n",
       "    <tr>\n",
       "      <th>3741</th>\n",
       "      <td>5079271</td>\n",
       "      <td>F</td>\n",
       "      <td>N</td>\n",
       "      <td>Y</td>\n",
       "      <td>2</td>\n",
       "      <td>225000.0</td>\n",
       "      <td>Working</td>\n",
       "      <td>Higher education</td>\n",
       "      <td>Married</td>\n",
       "      <td>House / apartment</td>\n",
       "      <td>-10029</td>\n",
       "      <td>-2705</td>\n",
       "      <td>1</td>\n",
       "      <td>0</td>\n",
       "      <td>0</td>\n",
       "      <td>0</td>\n",
       "      <td>NaN</td>\n",
       "      <td>4.0</td>\n",
       "      <td>-26.0</td>\n",
       "      <td>0</td>\n",
       "    </tr>\n",
       "  </tbody>\n",
       "</table>\n",
       "</div>"
      ],
      "text/plain": [
       "           ID Gender Has a car Has a property  Children count    Income  \\\n",
       "1340  5023544      F         N              Y               0   90000.0   \n",
       "4772  5053069      F         N              Y               0  193500.0   \n",
       "6032  5135630      M         Y              Y               0  220500.0   \n",
       "2067  5033501      M         Y              Y               0  270000.0   \n",
       "4835  5090801      F         N              Y               0  112500.0   \n",
       "3165  5149079      F         Y              N               0  202500.0   \n",
       "6198  5050910      M         N              N               1  225000.0   \n",
       "3741  5079271      F         N              Y               2  225000.0   \n",
       "\n",
       "         Employment status                Education level  Marital status  \\\n",
       "1340         State servant  Secondary / secondary special  Civil marriage   \n",
       "4772         State servant  Secondary / secondary special         Married   \n",
       "6032             Pensioner  Secondary / secondary special         Married   \n",
       "2067               Working  Secondary / secondary special         Married   \n",
       "4835               Working  Secondary / secondary special         Married   \n",
       "3165  Commercial associate  Secondary / secondary special         Married   \n",
       "6198  Commercial associate  Secondary / secondary special         Married   \n",
       "3741               Working               Higher education         Married   \n",
       "\n",
       "               Dwelling    Age  Employment length  Has a mobile phone  \\\n",
       "1340  House / apartment -15945              -3673                   1   \n",
       "4772   Office apartment -22168             -10155                   1   \n",
       "6032  House / apartment -23113             365243                   1   \n",
       "2067  House / apartment -15487              -3093                   1   \n",
       "4835  House / apartment -18575              -4113                   1   \n",
       "3165  House / apartment -14207               -625                   1   \n",
       "6198  House / apartment -12865               -804                   1   \n",
       "3741  House / apartment -10029              -2705                   1   \n",
       "\n",
       "      Has a work phone  Has a phone  Has an email      Job title  \\\n",
       "1340                 1            1             0     Core staff   \n",
       "4772                 0            0             0  Cooking staff   \n",
       "6032                 0            0             0            NaN   \n",
       "2067                 0            1             0       Laborers   \n",
       "4835                 0            0             0    Accountants   \n",
       "3165                 0            0             0    Sales staff   \n",
       "6198                 0            0             0            NaN   \n",
       "3741                 0            0             0            NaN   \n",
       "\n",
       "      Family member count  Account age  Is high risk  \n",
       "1340                  2.0        -26.0             0  \n",
       "4772                  2.0        -16.0             0  \n",
       "6032                  2.0        -30.0             0  \n",
       "2067                  2.0        -12.0             0  \n",
       "4835                  2.0        -34.0             0  \n",
       "3165                  2.0        -15.0             0  \n",
       "6198                  3.0        -24.0             0  \n",
       "3741                  4.0        -26.0             0  "
      ]
     },
     "execution_count": 642,
     "metadata": {},
     "output_type": "execute_result"
    }
   ],
   "source": [
    "test_df.sample(8)"
   ]
  },
  {
   "cell_type": "code",
   "execution_count": 643,
   "id": "09c35aff",
   "metadata": {
    "scrolled": false
   },
   "outputs": [
    {
     "name": "stdout",
     "output_type": "stream",
     "text": [
      "<class 'pandas.core.frame.DataFrame'>\n",
      "RangeIndex: 7292 entries, 0 to 7291\n",
      "Data columns (total 20 columns):\n",
      " #   Column               Non-Null Count  Dtype  \n",
      "---  ------               --------------  -----  \n",
      " 0   ID                   7292 non-null   int64  \n",
      " 1   Gender               7292 non-null   object \n",
      " 2   Has a car            7292 non-null   object \n",
      " 3   Has a property       7292 non-null   object \n",
      " 4   Children count       7292 non-null   int64  \n",
      " 5   Income               7292 non-null   float64\n",
      " 6   Employment status    7292 non-null   object \n",
      " 7   Education level      7292 non-null   object \n",
      " 8   Marital status       7292 non-null   object \n",
      " 9   Dwelling             7292 non-null   object \n",
      " 10  Age                  7292 non-null   int64  \n",
      " 11  Employment length    7292 non-null   int64  \n",
      " 12  Has a mobile phone   7292 non-null   int64  \n",
      " 13  Has a work phone     7292 non-null   int64  \n",
      " 14  Has a phone          7292 non-null   int64  \n",
      " 15  Has an email         7292 non-null   int64  \n",
      " 16  Job title            4996 non-null   object \n",
      " 17  Family member count  7292 non-null   float64\n",
      " 18  Account age          7292 non-null   float64\n",
      " 19  Is high risk         7292 non-null   int64  \n",
      "dtypes: float64(3), int64(9), object(8)\n",
      "memory usage: 1.1+ MB\n"
     ]
    }
   ],
   "source": [
    "test_df.info()"
   ]
  },
  {
   "cell_type": "code",
   "execution_count": 644,
   "id": "9412c5a8",
   "metadata": {},
   "outputs": [
    {
     "data": {
      "text/html": [
       "<div>\n",
       "<style scoped>\n",
       "    .dataframe tbody tr th:only-of-type {\n",
       "        vertical-align: middle;\n",
       "    }\n",
       "\n",
       "    .dataframe tbody tr th {\n",
       "        vertical-align: top;\n",
       "    }\n",
       "\n",
       "    .dataframe thead th {\n",
       "        text-align: right;\n",
       "    }\n",
       "</style>\n",
       "<table border=\"1\" class=\"dataframe\">\n",
       "  <thead>\n",
       "    <tr style=\"text-align: right;\">\n",
       "      <th></th>\n",
       "      <th>ID</th>\n",
       "      <th>Gender</th>\n",
       "      <th>Has a car</th>\n",
       "      <th>Has a property</th>\n",
       "      <th>Children count</th>\n",
       "      <th>Income</th>\n",
       "      <th>Employment status</th>\n",
       "      <th>Education level</th>\n",
       "      <th>Marital status</th>\n",
       "      <th>Dwelling</th>\n",
       "      <th>Age</th>\n",
       "      <th>Employment length</th>\n",
       "      <th>Has a mobile phone</th>\n",
       "      <th>Has a work phone</th>\n",
       "      <th>Has a phone</th>\n",
       "      <th>Has an email</th>\n",
       "      <th>Job title</th>\n",
       "      <th>Family member count</th>\n",
       "      <th>Account age</th>\n",
       "      <th>Is high risk</th>\n",
       "    </tr>\n",
       "  </thead>\n",
       "  <tbody>\n",
       "    <tr>\n",
       "      <th>20322</th>\n",
       "      <td>5009808</td>\n",
       "      <td>F</td>\n",
       "      <td>N</td>\n",
       "      <td>N</td>\n",
       "      <td>1</td>\n",
       "      <td>202500.0</td>\n",
       "      <td>Working</td>\n",
       "      <td>Secondary / secondary special</td>\n",
       "      <td>Married</td>\n",
       "      <td>House / apartment</td>\n",
       "      <td>-11813</td>\n",
       "      <td>-3266</td>\n",
       "      <td>1</td>\n",
       "      <td>1</td>\n",
       "      <td>1</td>\n",
       "      <td>0</td>\n",
       "      <td>Sales staff</td>\n",
       "      <td>3.0</td>\n",
       "      <td>-34.0</td>\n",
       "      <td>0</td>\n",
       "    </tr>\n",
       "    <tr>\n",
       "      <th>7304</th>\n",
       "      <td>5036542</td>\n",
       "      <td>M</td>\n",
       "      <td>Y</td>\n",
       "      <td>N</td>\n",
       "      <td>2</td>\n",
       "      <td>180000.0</td>\n",
       "      <td>Working</td>\n",
       "      <td>Secondary / secondary special</td>\n",
       "      <td>Married</td>\n",
       "      <td>House / apartment</td>\n",
       "      <td>-14390</td>\n",
       "      <td>-6386</td>\n",
       "      <td>1</td>\n",
       "      <td>0</td>\n",
       "      <td>0</td>\n",
       "      <td>0</td>\n",
       "      <td>Drivers</td>\n",
       "      <td>4.0</td>\n",
       "      <td>-41.0</td>\n",
       "      <td>0</td>\n",
       "    </tr>\n",
       "    <tr>\n",
       "      <th>17507</th>\n",
       "      <td>5126725</td>\n",
       "      <td>F</td>\n",
       "      <td>N</td>\n",
       "      <td>Y</td>\n",
       "      <td>2</td>\n",
       "      <td>112500.0</td>\n",
       "      <td>Working</td>\n",
       "      <td>Secondary / secondary special</td>\n",
       "      <td>Civil marriage</td>\n",
       "      <td>House / apartment</td>\n",
       "      <td>-13552</td>\n",
       "      <td>-2418</td>\n",
       "      <td>1</td>\n",
       "      <td>0</td>\n",
       "      <td>0</td>\n",
       "      <td>0</td>\n",
       "      <td>Sales staff</td>\n",
       "      <td>4.0</td>\n",
       "      <td>-17.0</td>\n",
       "      <td>0</td>\n",
       "    </tr>\n",
       "    <tr>\n",
       "      <th>27511</th>\n",
       "      <td>5029411</td>\n",
       "      <td>F</td>\n",
       "      <td>N</td>\n",
       "      <td>N</td>\n",
       "      <td>0</td>\n",
       "      <td>90000.0</td>\n",
       "      <td>State servant</td>\n",
       "      <td>Secondary / secondary special</td>\n",
       "      <td>Married</td>\n",
       "      <td>Rented apartment</td>\n",
       "      <td>-17213</td>\n",
       "      <td>-1143</td>\n",
       "      <td>1</td>\n",
       "      <td>0</td>\n",
       "      <td>0</td>\n",
       "      <td>0</td>\n",
       "      <td>Core staff</td>\n",
       "      <td>2.0</td>\n",
       "      <td>-6.0</td>\n",
       "      <td>0</td>\n",
       "    </tr>\n",
       "  </tbody>\n",
       "</table>\n",
       "</div>"
      ],
      "text/plain": [
       "            ID Gender Has a car Has a property  Children count    Income  \\\n",
       "20322  5009808      F         N              N               1  202500.0   \n",
       "7304   5036542      M         Y              N               2  180000.0   \n",
       "17507  5126725      F         N              Y               2  112500.0   \n",
       "27511  5029411      F         N              N               0   90000.0   \n",
       "\n",
       "      Employment status                Education level  Marital status  \\\n",
       "20322           Working  Secondary / secondary special         Married   \n",
       "7304            Working  Secondary / secondary special         Married   \n",
       "17507           Working  Secondary / secondary special  Civil marriage   \n",
       "27511     State servant  Secondary / secondary special         Married   \n",
       "\n",
       "                Dwelling    Age  Employment length  Has a mobile phone  \\\n",
       "20322  House / apartment -11813              -3266                   1   \n",
       "7304   House / apartment -14390              -6386                   1   \n",
       "17507  House / apartment -13552              -2418                   1   \n",
       "27511   Rented apartment -17213              -1143                   1   \n",
       "\n",
       "       Has a work phone  Has a phone  Has an email    Job title  \\\n",
       "20322                 1            1             0  Sales staff   \n",
       "7304                  0            0             0      Drivers   \n",
       "17507                 0            0             0  Sales staff   \n",
       "27511                 0            0             0   Core staff   \n",
       "\n",
       "       Family member count  Account age  Is high risk  \n",
       "20322                  3.0        -34.0             0  \n",
       "7304                   4.0        -41.0             0  \n",
       "17507                  4.0        -17.0             0  \n",
       "27511                  2.0         -6.0             0  "
      ]
     },
     "execution_count": 644,
     "metadata": {},
     "output_type": "execute_result"
    }
   ],
   "source": [
    "train_df.sample(4)"
   ]
  },
  {
   "cell_type": "code",
   "execution_count": 645,
   "id": "69a70932",
   "metadata": {
    "scrolled": true
   },
   "outputs": [
    {
     "data": {
      "text/plain": [
       "ID                        0\n",
       "Gender                    0\n",
       "Has a car                 0\n",
       "Has a property            0\n",
       "Children count            0\n",
       "Income                    0\n",
       "Employment status         0\n",
       "Education level           0\n",
       "Marital status            0\n",
       "Dwelling                  0\n",
       "Age                       0\n",
       "Employment length         0\n",
       "Has a mobile phone        0\n",
       "Has a work phone          0\n",
       "Has a phone               0\n",
       "Has an email              0\n",
       "Job title              2296\n",
       "Family member count       0\n",
       "Account age               0\n",
       "Is high risk              0\n",
       "dtype: int64"
      ]
     },
     "execution_count": 645,
     "metadata": {},
     "output_type": "execute_result"
    }
   ],
   "source": [
    "test_df.isnull().sum()"
   ]
  },
  {
   "cell_type": "code",
   "execution_count": 646,
   "id": "d27eeabe",
   "metadata": {},
   "outputs": [
    {
     "data": {
      "text/plain": [
       "ID                        0\n",
       "Gender                    0\n",
       "Has a car                 0\n",
       "Has a property            0\n",
       "Children count            0\n",
       "Income                    0\n",
       "Employment status         0\n",
       "Education level           0\n",
       "Marital status            0\n",
       "Dwelling                  0\n",
       "Age                       0\n",
       "Employment length         0\n",
       "Has a mobile phone        0\n",
       "Has a work phone          0\n",
       "Has a phone               0\n",
       "Has an email              0\n",
       "Job title              9027\n",
       "Family member count       0\n",
       "Account age               0\n",
       "Is high risk              0\n",
       "dtype: int64"
      ]
     },
     "execution_count": 646,
     "metadata": {},
     "output_type": "execute_result"
    }
   ],
   "source": [
    "train_df.isnull().sum()"
   ]
  },
  {
   "cell_type": "code",
   "execution_count": 647,
   "id": "53666bcd",
   "metadata": {},
   "outputs": [
    {
     "data": {
      "text/html": [
       "<div>\n",
       "<style scoped>\n",
       "    .dataframe tbody tr th:only-of-type {\n",
       "        vertical-align: middle;\n",
       "    }\n",
       "\n",
       "    .dataframe tbody tr th {\n",
       "        vertical-align: top;\n",
       "    }\n",
       "\n",
       "    .dataframe thead th {\n",
       "        text-align: right;\n",
       "    }\n",
       "</style>\n",
       "<table border=\"1\" class=\"dataframe\">\n",
       "  <thead>\n",
       "    <tr style=\"text-align: right;\">\n",
       "      <th></th>\n",
       "      <th>ID</th>\n",
       "      <th>Children count</th>\n",
       "      <th>Income</th>\n",
       "      <th>Age</th>\n",
       "      <th>Employment length</th>\n",
       "      <th>Has a mobile phone</th>\n",
       "      <th>Has a work phone</th>\n",
       "      <th>Has a phone</th>\n",
       "      <th>Has an email</th>\n",
       "      <th>Family member count</th>\n",
       "      <th>Account age</th>\n",
       "      <th>Is high risk</th>\n",
       "    </tr>\n",
       "  </thead>\n",
       "  <tbody>\n",
       "    <tr>\n",
       "      <th>count</th>\n",
       "      <td>7.292000e+03</td>\n",
       "      <td>7292.000000</td>\n",
       "      <td>7.292000e+03</td>\n",
       "      <td>7292.000000</td>\n",
       "      <td>7292.000000</td>\n",
       "      <td>7292.0</td>\n",
       "      <td>7292.000000</td>\n",
       "      <td>7292.000000</td>\n",
       "      <td>7292.000000</td>\n",
       "      <td>7292.000000</td>\n",
       "      <td>7292.000000</td>\n",
       "      <td>7292.000000</td>\n",
       "    </tr>\n",
       "    <tr>\n",
       "      <th>mean</th>\n",
       "      <td>5.078209e+06</td>\n",
       "      <td>0.428415</td>\n",
       "      <td>1.858672e+05</td>\n",
       "      <td>-15957.958722</td>\n",
       "      <td>59283.630691</td>\n",
       "      <td>1.0</td>\n",
       "      <td>0.230389</td>\n",
       "      <td>0.294158</td>\n",
       "      <td>0.087493</td>\n",
       "      <td>2.202139</td>\n",
       "      <td>-26.270022</td>\n",
       "      <td>0.016045</td>\n",
       "    </tr>\n",
       "    <tr>\n",
       "      <th>std</th>\n",
       "      <td>4.208243e+04</td>\n",
       "      <td>0.744350</td>\n",
       "      <td>1.032964e+05</td>\n",
       "      <td>4190.990010</td>\n",
       "      <td>137642.577749</td>\n",
       "      <td>0.0</td>\n",
       "      <td>0.421111</td>\n",
       "      <td>0.455695</td>\n",
       "      <td>0.282576</td>\n",
       "      <td>0.909726</td>\n",
       "      <td>16.563032</td>\n",
       "      <td>0.125657</td>\n",
       "    </tr>\n",
       "    <tr>\n",
       "      <th>min</th>\n",
       "      <td>5.008809e+06</td>\n",
       "      <td>0.000000</td>\n",
       "      <td>2.700000e+04</td>\n",
       "      <td>-25152.000000</td>\n",
       "      <td>-15661.000000</td>\n",
       "      <td>1.0</td>\n",
       "      <td>0.000000</td>\n",
       "      <td>0.000000</td>\n",
       "      <td>0.000000</td>\n",
       "      <td>1.000000</td>\n",
       "      <td>-60.000000</td>\n",
       "      <td>0.000000</td>\n",
       "    </tr>\n",
       "    <tr>\n",
       "      <th>25%</th>\n",
       "      <td>5.041912e+06</td>\n",
       "      <td>0.000000</td>\n",
       "      <td>1.170000e+05</td>\n",
       "      <td>-19382.000000</td>\n",
       "      <td>-3141.000000</td>\n",
       "      <td>1.0</td>\n",
       "      <td>0.000000</td>\n",
       "      <td>0.000000</td>\n",
       "      <td>0.000000</td>\n",
       "      <td>2.000000</td>\n",
       "      <td>-39.000000</td>\n",
       "      <td>0.000000</td>\n",
       "    </tr>\n",
       "    <tr>\n",
       "      <th>50%</th>\n",
       "      <td>5.069416e+06</td>\n",
       "      <td>0.000000</td>\n",
       "      <td>1.575000e+05</td>\n",
       "      <td>-15522.000000</td>\n",
       "      <td>-1534.000000</td>\n",
       "      <td>1.0</td>\n",
       "      <td>0.000000</td>\n",
       "      <td>0.000000</td>\n",
       "      <td>0.000000</td>\n",
       "      <td>2.000000</td>\n",
       "      <td>-24.000000</td>\n",
       "      <td>0.000000</td>\n",
       "    </tr>\n",
       "    <tr>\n",
       "      <th>75%</th>\n",
       "      <td>5.115503e+06</td>\n",
       "      <td>1.000000</td>\n",
       "      <td>2.250000e+05</td>\n",
       "      <td>-12454.000000</td>\n",
       "      <td>-397.000000</td>\n",
       "      <td>1.0</td>\n",
       "      <td>0.000000</td>\n",
       "      <td>1.000000</td>\n",
       "      <td>0.000000</td>\n",
       "      <td>3.000000</td>\n",
       "      <td>-12.000000</td>\n",
       "      <td>0.000000</td>\n",
       "    </tr>\n",
       "    <tr>\n",
       "      <th>max</th>\n",
       "      <td>5.150487e+06</td>\n",
       "      <td>14.000000</td>\n",
       "      <td>1.575000e+06</td>\n",
       "      <td>-7489.000000</td>\n",
       "      <td>365243.000000</td>\n",
       "      <td>1.0</td>\n",
       "      <td>1.000000</td>\n",
       "      <td>1.000000</td>\n",
       "      <td>1.000000</td>\n",
       "      <td>15.000000</td>\n",
       "      <td>0.000000</td>\n",
       "      <td>1.000000</td>\n",
       "    </tr>\n",
       "  </tbody>\n",
       "</table>\n",
       "</div>"
      ],
      "text/plain": [
       "                 ID  Children count        Income           Age  \\\n",
       "count  7.292000e+03     7292.000000  7.292000e+03   7292.000000   \n",
       "mean   5.078209e+06        0.428415  1.858672e+05 -15957.958722   \n",
       "std    4.208243e+04        0.744350  1.032964e+05   4190.990010   \n",
       "min    5.008809e+06        0.000000  2.700000e+04 -25152.000000   \n",
       "25%    5.041912e+06        0.000000  1.170000e+05 -19382.000000   \n",
       "50%    5.069416e+06        0.000000  1.575000e+05 -15522.000000   \n",
       "75%    5.115503e+06        1.000000  2.250000e+05 -12454.000000   \n",
       "max    5.150487e+06       14.000000  1.575000e+06  -7489.000000   \n",
       "\n",
       "       Employment length  Has a mobile phone  Has a work phone  Has a phone  \\\n",
       "count        7292.000000              7292.0       7292.000000  7292.000000   \n",
       "mean        59283.630691                 1.0          0.230389     0.294158   \n",
       "std        137642.577749                 0.0          0.421111     0.455695   \n",
       "min        -15661.000000                 1.0          0.000000     0.000000   \n",
       "25%         -3141.000000                 1.0          0.000000     0.000000   \n",
       "50%         -1534.000000                 1.0          0.000000     0.000000   \n",
       "75%          -397.000000                 1.0          0.000000     1.000000   \n",
       "max        365243.000000                 1.0          1.000000     1.000000   \n",
       "\n",
       "       Has an email  Family member count  Account age  Is high risk  \n",
       "count   7292.000000          7292.000000  7292.000000   7292.000000  \n",
       "mean       0.087493             2.202139   -26.270022      0.016045  \n",
       "std        0.282576             0.909726    16.563032      0.125657  \n",
       "min        0.000000             1.000000   -60.000000      0.000000  \n",
       "25%        0.000000             2.000000   -39.000000      0.000000  \n",
       "50%        0.000000             2.000000   -24.000000      0.000000  \n",
       "75%        0.000000             3.000000   -12.000000      0.000000  \n",
       "max        1.000000            15.000000     0.000000      1.000000  "
      ]
     },
     "execution_count": 647,
     "metadata": {},
     "output_type": "execute_result"
    }
   ],
   "source": [
    "test_df.describe()"
   ]
  },
  {
   "cell_type": "code",
   "execution_count": 648,
   "id": "15a17db2",
   "metadata": {},
   "outputs": [
    {
     "name": "stderr",
     "output_type": "stream",
     "text": [
      "C:\\Users\\prash\\AppData\\Local\\Temp\\ipykernel_25484\\3864624289.py:1: FutureWarning: The default value of numeric_only in DataFrame.corr is deprecated. In a future version, it will default to False. Select only valid columns or specify the value of numeric_only to silence this warning.\n",
      "  sns.heatmap(test_df.corr())\n"
     ]
    },
    {
     "data": {
      "text/plain": [
       "<Axes: >"
      ]
     },
     "execution_count": 648,
     "metadata": {},
     "output_type": "execute_result"
    },
    {
     "data": {
      "image/png": "[encoded data removed]",
      "text/plain": [
       "<Figure size 640x480 with 2 Axes>"
      ]
     },
     "metadata": {},
     "output_type": "display_data"
    }
   ],
   "source": [
    "sns.heatmap(test_df.corr())"
   ]
  },
  {
   "cell_type": "code",
   "execution_count": 649,
   "id": "abaaec81",
   "metadata": {},
   "outputs": [
    {
     "data": {
      "text/html": [
       "<div>\n",
       "<style scoped>\n",
       "    .dataframe tbody tr th:only-of-type {\n",
       "        vertical-align: middle;\n",
       "    }\n",
       "\n",
       "    .dataframe tbody tr th {\n",
       "        vertical-align: top;\n",
       "    }\n",
       "\n",
       "    .dataframe thead th {\n",
       "        text-align: right;\n",
       "    }\n",
       "</style>\n",
       "<table border=\"1\" class=\"dataframe\">\n",
       "  <thead>\n",
       "    <tr style=\"text-align: right;\">\n",
       "      <th></th>\n",
       "      <th>ID</th>\n",
       "      <th>Children count</th>\n",
       "      <th>Income</th>\n",
       "      <th>Age</th>\n",
       "      <th>Employment length</th>\n",
       "      <th>Has a mobile phone</th>\n",
       "      <th>Has a work phone</th>\n",
       "      <th>Has a phone</th>\n",
       "      <th>Has an email</th>\n",
       "      <th>Family member count</th>\n",
       "      <th>Account age</th>\n",
       "      <th>Is high risk</th>\n",
       "    </tr>\n",
       "  </thead>\n",
       "  <tbody>\n",
       "    <tr>\n",
       "      <th>count</th>\n",
       "      <td>2.916500e+04</td>\n",
       "      <td>29165.000000</td>\n",
       "      <td>2.916500e+04</td>\n",
       "      <td>29165.000000</td>\n",
       "      <td>29165.000000</td>\n",
       "      <td>29165.0</td>\n",
       "      <td>29165.000000</td>\n",
       "      <td>29165.000000</td>\n",
       "      <td>29165.000000</td>\n",
       "      <td>29165.000000</td>\n",
       "      <td>29165.000000</td>\n",
       "      <td>29165.000000</td>\n",
       "    </tr>\n",
       "    <tr>\n",
       "      <th>mean</th>\n",
       "      <td>5.078232e+06</td>\n",
       "      <td>0.430790</td>\n",
       "      <td>1.868904e+05</td>\n",
       "      <td>-15979.477490</td>\n",
       "      <td>59257.761255</td>\n",
       "      <td>1.0</td>\n",
       "      <td>0.224310</td>\n",
       "      <td>0.294977</td>\n",
       "      <td>0.090279</td>\n",
       "      <td>2.197531</td>\n",
       "      <td>-26.137734</td>\n",
       "      <td>0.017110</td>\n",
       "    </tr>\n",
       "    <tr>\n",
       "      <th>std</th>\n",
       "      <td>4.182400e+04</td>\n",
       "      <td>0.741882</td>\n",
       "      <td>1.014096e+05</td>\n",
       "      <td>4202.997485</td>\n",
       "      <td>137655.883458</td>\n",
       "      <td>0.0</td>\n",
       "      <td>0.417134</td>\n",
       "      <td>0.456040</td>\n",
       "      <td>0.286587</td>\n",
       "      <td>0.912189</td>\n",
       "      <td>16.486702</td>\n",
       "      <td>0.129682</td>\n",
       "    </tr>\n",
       "    <tr>\n",
       "      <th>min</th>\n",
       "      <td>5.008804e+06</td>\n",
       "      <td>0.000000</td>\n",
       "      <td>2.700000e+04</td>\n",
       "      <td>-25152.000000</td>\n",
       "      <td>-15713.000000</td>\n",
       "      <td>1.0</td>\n",
       "      <td>0.000000</td>\n",
       "      <td>0.000000</td>\n",
       "      <td>0.000000</td>\n",
       "      <td>1.000000</td>\n",
       "      <td>-60.000000</td>\n",
       "      <td>0.000000</td>\n",
       "    </tr>\n",
       "    <tr>\n",
       "      <th>25%</th>\n",
       "      <td>5.042047e+06</td>\n",
       "      <td>0.000000</td>\n",
       "      <td>1.215000e+05</td>\n",
       "      <td>-19444.000000</td>\n",
       "      <td>-3153.000000</td>\n",
       "      <td>1.0</td>\n",
       "      <td>0.000000</td>\n",
       "      <td>0.000000</td>\n",
       "      <td>0.000000</td>\n",
       "      <td>2.000000</td>\n",
       "      <td>-39.000000</td>\n",
       "      <td>0.000000</td>\n",
       "    </tr>\n",
       "    <tr>\n",
       "      <th>50%</th>\n",
       "      <td>5.074666e+06</td>\n",
       "      <td>0.000000</td>\n",
       "      <td>1.575000e+05</td>\n",
       "      <td>-15565.000000</td>\n",
       "      <td>-1557.000000</td>\n",
       "      <td>1.0</td>\n",
       "      <td>0.000000</td>\n",
       "      <td>0.000000</td>\n",
       "      <td>0.000000</td>\n",
       "      <td>2.000000</td>\n",
       "      <td>-24.000000</td>\n",
       "      <td>0.000000</td>\n",
       "    </tr>\n",
       "    <tr>\n",
       "      <th>75%</th>\n",
       "      <td>5.114629e+06</td>\n",
       "      <td>1.000000</td>\n",
       "      <td>2.250000e+05</td>\n",
       "      <td>-12475.000000</td>\n",
       "      <td>-412.000000</td>\n",
       "      <td>1.0</td>\n",
       "      <td>0.000000</td>\n",
       "      <td>1.000000</td>\n",
       "      <td>0.000000</td>\n",
       "      <td>3.000000</td>\n",
       "      <td>-12.000000</td>\n",
       "      <td>0.000000</td>\n",
       "    </tr>\n",
       "    <tr>\n",
       "      <th>max</th>\n",
       "      <td>5.150485e+06</td>\n",
       "      <td>19.000000</td>\n",
       "      <td>1.575000e+06</td>\n",
       "      <td>-7705.000000</td>\n",
       "      <td>365243.000000</td>\n",
       "      <td>1.0</td>\n",
       "      <td>1.000000</td>\n",
       "      <td>1.000000</td>\n",
       "      <td>1.000000</td>\n",
       "      <td>20.000000</td>\n",
       "      <td>0.000000</td>\n",
       "      <td>1.000000</td>\n",
       "    </tr>\n",
       "  </tbody>\n",
       "</table>\n",
       "</div>"
      ],
      "text/plain": [
       "                 ID  Children count        Income           Age  \\\n",
       "count  2.916500e+04    29165.000000  2.916500e+04  29165.000000   \n",
       "mean   5.078232e+06        0.430790  1.868904e+05 -15979.477490   \n",
       "std    4.182400e+04        0.741882  1.014096e+05   4202.997485   \n",
       "min    5.008804e+06        0.000000  2.700000e+04 -25152.000000   \n",
       "25%    5.042047e+06        0.000000  1.215000e+05 -19444.000000   \n",
       "50%    5.074666e+06        0.000000  1.575000e+05 -15565.000000   \n",
       "75%    5.114629e+06        1.000000  2.250000e+05 -12475.000000   \n",
       "max    5.150485e+06       19.000000  1.575000e+06  -7705.000000   \n",
       "\n",
       "       Employment length  Has a mobile phone  Has a work phone   Has a phone  \\\n",
       "count       29165.000000             29165.0      29165.000000  29165.000000   \n",
       "mean        59257.761255                 1.0          0.224310      0.294977   \n",
       "std        137655.883458                 0.0          0.417134      0.456040   \n",
       "min        -15713.000000                 1.0          0.000000      0.000000   \n",
       "25%         -3153.000000                 1.0          0.000000      0.000000   \n",
       "50%         -1557.000000                 1.0          0.000000      0.000000   \n",
       "75%          -412.000000                 1.0          0.000000      1.000000   \n",
       "max        365243.000000                 1.0          1.000000      1.000000   \n",
       "\n",
       "       Has an email  Family member count   Account age  Is high risk  \n",
       "count  29165.000000         29165.000000  29165.000000  29165.000000  \n",
       "mean       0.090279             2.197531    -26.137734      0.017110  \n",
       "std        0.286587             0.912189     16.486702      0.129682  \n",
       "min        0.000000             1.000000    -60.000000      0.000000  \n",
       "25%        0.000000             2.000000    -39.000000      0.000000  \n",
       "50%        0.000000             2.000000    -24.000000      0.000000  \n",
       "75%        0.000000             3.000000    -12.000000      0.000000  \n",
       "max        1.000000            20.000000      0.000000      1.000000  "
      ]
     },
     "execution_count": 649,
     "metadata": {},
     "output_type": "execute_result"
    }
   ],
   "source": [
    "train_df.describe()"
   ]
  },
  {
   "cell_type": "code",
   "execution_count": 650,
   "id": "f9d92753",
   "metadata": {},
   "outputs": [
    {
     "name": "stderr",
     "output_type": "stream",
     "text": [
      "C:\\Users\\prash\\AppData\\Local\\Temp\\ipykernel_25484\\663931128.py:1: FutureWarning: The default value of numeric_only in DataFrame.corr is deprecated. In a future version, it will default to False. Select only valid columns or specify the value of numeric_only to silence this warning.\n",
      "  sns.heatmap(train_df.corr())\n"
     ]
    },
    {
     "data": {
      "text/plain": [
       "<Axes: >"
      ]
     },
     "execution_count": 650,
     "metadata": {},
     "output_type": "execute_result"
    },
    {
     "data": {
      "image/png": "[encoded data removed]",
      "text/plain": [
       "<Figure size 640x480 with 2 Axes>"
      ]
     },
     "metadata": {},
     "output_type": "display_data"
    }
   ],
   "source": [
    "sns.heatmap(train_df.corr())"
   ]
  },
  {
   "cell_type": "markdown",
   "id": "29917f1e",
   "metadata": {},
   "source": [
    "#### Check duplicate rows"
   ]
  },
  {
   "cell_type": "code",
   "execution_count": 651,
   "id": "c6273e20",
   "metadata": {},
   "outputs": [
    {
     "data": {
      "text/plain": [
       "0"
      ]
     },
     "execution_count": 651,
     "metadata": {},
     "output_type": "execute_result"
    }
   ],
   "source": [
    "test_df.duplicated().sum()"
   ]
  },
  {
   "cell_type": "code",
   "execution_count": 652,
   "id": "c509ba56",
   "metadata": {},
   "outputs": [
    {
     "data": {
      "text/plain": [
       "0"
      ]
     },
     "execution_count": 652,
     "metadata": {},
     "output_type": "execute_result"
    }
   ],
   "source": [
    "train_df.duplicated().sum()"
   ]
  },
  {
   "cell_type": "markdown",
   "id": "922846f1",
   "metadata": {},
   "source": [
    "#### Correlation"
   ]
  },
  {
   "cell_type": "code",
   "execution_count": 653,
   "id": "7c512621",
   "metadata": {
    "scrolled": true
   },
   "outputs": [
    {
     "name": "stderr",
     "output_type": "stream",
     "text": [
      "C:\\Users\\prash\\AppData\\Local\\Temp\\ipykernel_25484\\3536928793.py:1: FutureWarning: The default value of numeric_only in DataFrame.corr is deprecated. In a future version, it will default to False. Select only valid columns or specify the value of numeric_only to silence this warning.\n",
      "  test_df.corr()\n"
     ]
    },
    {
     "data": {
      "text/html": [
       "<div>\n",
       "<style scoped>\n",
       "    .dataframe tbody tr th:only-of-type {\n",
       "        vertical-align: middle;\n",
       "    }\n",
       "\n",
       "    .dataframe tbody tr th {\n",
       "        vertical-align: top;\n",
       "    }\n",
       "\n",
       "    .dataframe thead th {\n",
       "        text-align: right;\n",
       "    }\n",
       "</style>\n",
       "<table border=\"1\" class=\"dataframe\">\n",
       "  <thead>\n",
       "    <tr style=\"text-align: right;\">\n",
       "      <th></th>\n",
       "      <th>ID</th>\n",
       "      <th>Children count</th>\n",
       "      <th>Income</th>\n",
       "      <th>Age</th>\n",
       "      <th>Employment length</th>\n",
       "      <th>Has a mobile phone</th>\n",
       "      <th>Has a work phone</th>\n",
       "      <th>Has a phone</th>\n",
       "      <th>Has an email</th>\n",
       "      <th>Family member count</th>\n",
       "      <th>Account age</th>\n",
       "      <th>Is high risk</th>\n",
       "    </tr>\n",
       "  </thead>\n",
       "  <tbody>\n",
       "    <tr>\n",
       "      <th>ID</th>\n",
       "      <td>1.000000</td>\n",
       "      <td>0.039124</td>\n",
       "      <td>-0.023177</td>\n",
       "      <td>0.067566</td>\n",
       "      <td>-0.040677</td>\n",
       "      <td>NaN</td>\n",
       "      <td>0.053806</td>\n",
       "      <td>-0.006180</td>\n",
       "      <td>-0.042030</td>\n",
       "      <td>0.034201</td>\n",
       "      <td>0.012508</td>\n",
       "      <td>0.030560</td>\n",
       "    </tr>\n",
       "    <tr>\n",
       "      <th>Children count</th>\n",
       "      <td>0.039124</td>\n",
       "      <td>1.000000</td>\n",
       "      <td>0.028580</td>\n",
       "      <td>0.340488</td>\n",
       "      <td>-0.225038</td>\n",
       "      <td>NaN</td>\n",
       "      <td>0.045622</td>\n",
       "      <td>-0.021006</td>\n",
       "      <td>0.019348</td>\n",
       "      <td>0.890904</td>\n",
       "      <td>-0.005045</td>\n",
       "      <td>-0.003115</td>\n",
       "    </tr>\n",
       "    <tr>\n",
       "      <th>Income</th>\n",
       "      <td>-0.023177</td>\n",
       "      <td>0.028580</td>\n",
       "      <td>1.000000</td>\n",
       "      <td>0.066987</td>\n",
       "      <td>-0.163423</td>\n",
       "      <td>NaN</td>\n",
       "      <td>-0.042091</td>\n",
       "      <td>0.000447</td>\n",
       "      <td>0.067458</td>\n",
       "      <td>0.017544</td>\n",
       "      <td>-0.021699</td>\n",
       "      <td>0.001724</td>\n",
       "    </tr>\n",
       "    <tr>\n",
       "      <th>Age</th>\n",
       "      <td>0.067566</td>\n",
       "      <td>0.340488</td>\n",
       "      <td>0.066987</td>\n",
       "      <td>1.000000</td>\n",
       "      <td>-0.615879</td>\n",
       "      <td>NaN</td>\n",
       "      <td>0.185262</td>\n",
       "      <td>-0.032820</td>\n",
       "      <td>0.109326</td>\n",
       "      <td>0.312369</td>\n",
       "      <td>0.039758</td>\n",
       "      <td>-0.002395</td>\n",
       "    </tr>\n",
       "    <tr>\n",
       "      <th>Employment length</th>\n",
       "      <td>-0.040677</td>\n",
       "      <td>-0.225038</td>\n",
       "      <td>-0.163423</td>\n",
       "      <td>-0.615879</td>\n",
       "      <td>1.000000</td>\n",
       "      <td>NaN</td>\n",
       "      <td>-0.246125</td>\n",
       "      <td>0.013895</td>\n",
       "      <td>-0.085551</td>\n",
       "      <td>-0.225814</td>\n",
       "      <td>0.023791</td>\n",
       "      <td>0.006763</td>\n",
       "    </tr>\n",
       "    <tr>\n",
       "      <th>Has a mobile phone</th>\n",
       "      <td>NaN</td>\n",
       "      <td>NaN</td>\n",
       "      <td>NaN</td>\n",
       "      <td>NaN</td>\n",
       "      <td>NaN</td>\n",
       "      <td>NaN</td>\n",
       "      <td>NaN</td>\n",
       "      <td>NaN</td>\n",
       "      <td>NaN</td>\n",
       "      <td>NaN</td>\n",
       "      <td>NaN</td>\n",
       "      <td>NaN</td>\n",
       "    </tr>\n",
       "    <tr>\n",
       "      <th>Has a work phone</th>\n",
       "      <td>0.053806</td>\n",
       "      <td>0.045622</td>\n",
       "      <td>-0.042091</td>\n",
       "      <td>0.185262</td>\n",
       "      <td>-0.246125</td>\n",
       "      <td>NaN</td>\n",
       "      <td>1.000000</td>\n",
       "      <td>0.308631</td>\n",
       "      <td>-0.031107</td>\n",
       "      <td>0.062083</td>\n",
       "      <td>-0.008954</td>\n",
       "      <td>0.007891</td>\n",
       "    </tr>\n",
       "    <tr>\n",
       "      <th>Has a phone</th>\n",
       "      <td>-0.006180</td>\n",
       "      <td>-0.021006</td>\n",
       "      <td>0.000447</td>\n",
       "      <td>-0.032820</td>\n",
       "      <td>0.013895</td>\n",
       "      <td>NaN</td>\n",
       "      <td>0.308631</td>\n",
       "      <td>1.000000</td>\n",
       "      <td>0.006739</td>\n",
       "      <td>-0.013098</td>\n",
       "      <td>-0.018877</td>\n",
       "      <td>0.008583</td>\n",
       "    </tr>\n",
       "    <tr>\n",
       "      <th>Has an email</th>\n",
       "      <td>-0.042030</td>\n",
       "      <td>0.019348</td>\n",
       "      <td>0.067458</td>\n",
       "      <td>0.109326</td>\n",
       "      <td>-0.085551</td>\n",
       "      <td>NaN</td>\n",
       "      <td>-0.031107</td>\n",
       "      <td>0.006739</td>\n",
       "      <td>1.000000</td>\n",
       "      <td>0.018159</td>\n",
       "      <td>0.004492</td>\n",
       "      <td>0.006811</td>\n",
       "    </tr>\n",
       "    <tr>\n",
       "      <th>Family member count</th>\n",
       "      <td>0.034201</td>\n",
       "      <td>0.890904</td>\n",
       "      <td>0.017544</td>\n",
       "      <td>0.312369</td>\n",
       "      <td>-0.225814</td>\n",
       "      <td>NaN</td>\n",
       "      <td>0.062083</td>\n",
       "      <td>-0.013098</td>\n",
       "      <td>0.018159</td>\n",
       "      <td>1.000000</td>\n",
       "      <td>-0.017832</td>\n",
       "      <td>-0.003180</td>\n",
       "    </tr>\n",
       "    <tr>\n",
       "      <th>Account age</th>\n",
       "      <td>0.012508</td>\n",
       "      <td>-0.005045</td>\n",
       "      <td>-0.021699</td>\n",
       "      <td>0.039758</td>\n",
       "      <td>0.023791</td>\n",
       "      <td>NaN</td>\n",
       "      <td>-0.008954</td>\n",
       "      <td>-0.018877</td>\n",
       "      <td>0.004492</td>\n",
       "      <td>-0.017832</td>\n",
       "      <td>1.000000</td>\n",
       "      <td>-0.047739</td>\n",
       "    </tr>\n",
       "    <tr>\n",
       "      <th>Is high risk</th>\n",
       "      <td>0.030560</td>\n",
       "      <td>-0.003115</td>\n",
       "      <td>0.001724</td>\n",
       "      <td>-0.002395</td>\n",
       "      <td>0.006763</td>\n",
       "      <td>NaN</td>\n",
       "      <td>0.007891</td>\n",
       "      <td>0.008583</td>\n",
       "      <td>0.006811</td>\n",
       "      <td>-0.003180</td>\n",
       "      <td>-0.047739</td>\n",
       "      <td>1.000000</td>\n",
       "    </tr>\n",
       "  </tbody>\n",
       "</table>\n",
       "</div>"
      ],
      "text/plain": [
       "                           ID  Children count    Income       Age  \\\n",
       "ID                   1.000000        0.039124 -0.023177  0.067566   \n",
       "Children count       0.039124        1.000000  0.028580  0.340488   \n",
       "Income              -0.023177        0.028580  1.000000  0.066987   \n",
       "Age                  0.067566        0.340488  0.066987  1.000000   \n",
       "Employment length   -0.040677       -0.225038 -0.163423 -0.615879   \n",
       "Has a mobile phone        NaN             NaN       NaN       NaN   \n",
       "Has a work phone     0.053806        0.045622 -0.042091  0.185262   \n",
       "Has a phone         -0.006180       -0.021006  0.000447 -0.032820   \n",
       "Has an email        -0.042030        0.019348  0.067458  0.109326   \n",
       "Family member count  0.034201        0.890904  0.017544  0.312369   \n",
       "Account age          0.012508       -0.005045 -0.021699  0.039758   \n",
       "Is high risk         0.030560       -0.003115  0.001724 -0.002395   \n",
       "\n",
       "                     Employment length  Has a mobile phone  Has a work phone  \\\n",
       "ID                           -0.040677                 NaN          0.053806   \n",
       "Children count               -0.225038                 NaN          0.045622   \n",
       "Income                       -0.163423                 NaN         -0.042091   \n",
       "Age                          -0.615879                 NaN          0.185262   \n",
       "Employment length             1.000000                 NaN         -0.246125   \n",
       "Has a mobile phone                 NaN                 NaN               NaN   \n",
       "Has a work phone             -0.246125                 NaN          1.000000   \n",
       "Has a phone                   0.013895                 NaN          0.308631   \n",
       "Has an email                 -0.085551                 NaN         -0.031107   \n",
       "Family member count          -0.225814                 NaN          0.062083   \n",
       "Account age                   0.023791                 NaN         -0.008954   \n",
       "Is high risk                  0.006763                 NaN          0.007891   \n",
       "\n",
       "                     Has a phone  Has an email  Family member count  \\\n",
       "ID                     -0.006180     -0.042030             0.034201   \n",
       "Children count         -0.021006      0.019348             0.890904   \n",
       "Income                  0.000447      0.067458             0.017544   \n",
       "Age                    -0.032820      0.109326             0.312369   \n",
       "Employment length       0.013895     -0.085551            -0.225814   \n",
       "Has a mobile phone           NaN           NaN                  NaN   \n",
       "Has a work phone        0.308631     -0.031107             0.062083   \n",
       "Has a phone             1.000000      0.006739            -0.013098   \n",
       "Has an email            0.006739      1.000000             0.018159   \n",
       "Family member count    -0.013098      0.018159             1.000000   \n",
       "Account age            -0.018877      0.004492            -0.017832   \n",
       "Is high risk            0.008583      0.006811            -0.003180   \n",
       "\n",
       "                     Account age  Is high risk  \n",
       "ID                      0.012508      0.030560  \n",
       "Children count         -0.005045     -0.003115  \n",
       "Income                 -0.021699      0.001724  \n",
       "Age                     0.039758     -0.002395  \n",
       "Employment length       0.023791      0.006763  \n",
       "Has a mobile phone           NaN           NaN  \n",
       "Has a work phone       -0.008954      0.007891  \n",
       "Has a phone            -0.018877      0.008583  \n",
       "Has an email            0.004492      0.006811  \n",
       "Family member count    -0.017832     -0.003180  \n",
       "Account age             1.000000     -0.047739  \n",
       "Is high risk           -0.047739      1.000000  "
      ]
     },
     "execution_count": 653,
     "metadata": {},
     "output_type": "execute_result"
    }
   ],
   "source": [
    "test_df.corr()"
   ]
  },
  {
   "cell_type": "code",
   "execution_count": 654,
   "id": "6585b256",
   "metadata": {},
   "outputs": [
    {
     "name": "stderr",
     "output_type": "stream",
     "text": [
      "C:\\Users\\prash\\AppData\\Local\\Temp\\ipykernel_25484\\1233823885.py:1: FutureWarning: The default value of numeric_only in DataFrame.corr is deprecated. In a future version, it will default to False. Select only valid columns or specify the value of numeric_only to silence this warning.\n",
      "  train_df.corr()\n"
     ]
    },
    {
     "data": {
      "text/html": [
       "<div>\n",
       "<style scoped>\n",
       "    .dataframe tbody tr th:only-of-type {\n",
       "        vertical-align: middle;\n",
       "    }\n",
       "\n",
       "    .dataframe tbody tr th {\n",
       "        vertical-align: top;\n",
       "    }\n",
       "\n",
       "    .dataframe thead th {\n",
       "        text-align: right;\n",
       "    }\n",
       "</style>\n",
       "<table border=\"1\" class=\"dataframe\">\n",
       "  <thead>\n",
       "    <tr style=\"text-align: right;\">\n",
       "      <th></th>\n",
       "      <th>ID</th>\n",
       "      <th>Children count</th>\n",
       "      <th>Income</th>\n",
       "      <th>Age</th>\n",
       "      <th>Employment length</th>\n",
       "      <th>Has a mobile phone</th>\n",
       "      <th>Has a work phone</th>\n",
       "      <th>Has a phone</th>\n",
       "      <th>Has an email</th>\n",
       "      <th>Family member count</th>\n",
       "      <th>Account age</th>\n",
       "      <th>Is high risk</th>\n",
       "    </tr>\n",
       "  </thead>\n",
       "  <tbody>\n",
       "    <tr>\n",
       "      <th>ID</th>\n",
       "      <td>1.000000</td>\n",
       "      <td>0.026291</td>\n",
       "      <td>-0.016257</td>\n",
       "      <td>0.053120</td>\n",
       "      <td>-0.037380</td>\n",
       "      <td>NaN</td>\n",
       "      <td>0.085670</td>\n",
       "      <td>0.013915</td>\n",
       "      <td>-0.048210</td>\n",
       "      <td>0.024724</td>\n",
       "      <td>-0.001453</td>\n",
       "      <td>0.011941</td>\n",
       "    </tr>\n",
       "    <tr>\n",
       "      <th>Children count</th>\n",
       "      <td>0.026291</td>\n",
       "      <td>1.000000</td>\n",
       "      <td>0.034991</td>\n",
       "      <td>0.339080</td>\n",
       "      <td>-0.230468</td>\n",
       "      <td>NaN</td>\n",
       "      <td>0.048727</td>\n",
       "      <td>-0.015110</td>\n",
       "      <td>0.015116</td>\n",
       "      <td>0.888676</td>\n",
       "      <td>-0.003722</td>\n",
       "      <td>0.000369</td>\n",
       "    </tr>\n",
       "    <tr>\n",
       "      <th>Income</th>\n",
       "      <td>-0.016257</td>\n",
       "      <td>0.034991</td>\n",
       "      <td>1.000000</td>\n",
       "      <td>0.068156</td>\n",
       "      <td>-0.169940</td>\n",
       "      <td>NaN</td>\n",
       "      <td>-0.036601</td>\n",
       "      <td>0.021516</td>\n",
       "      <td>0.091500</td>\n",
       "      <td>0.025338</td>\n",
       "      <td>-0.016435</td>\n",
       "      <td>-0.001760</td>\n",
       "    </tr>\n",
       "    <tr>\n",
       "      <th>Age</th>\n",
       "      <td>0.053120</td>\n",
       "      <td>0.339080</td>\n",
       "      <td>0.068156</td>\n",
       "      <td>1.000000</td>\n",
       "      <td>-0.616299</td>\n",
       "      <td>NaN</td>\n",
       "      <td>0.177483</td>\n",
       "      <td>-0.027621</td>\n",
       "      <td>0.104728</td>\n",
       "      <td>0.301941</td>\n",
       "      <td>0.057467</td>\n",
       "      <td>0.002422</td>\n",
       "    </tr>\n",
       "    <tr>\n",
       "      <th>Employment length</th>\n",
       "      <td>-0.037380</td>\n",
       "      <td>-0.230468</td>\n",
       "      <td>-0.169940</td>\n",
       "      <td>-0.616299</td>\n",
       "      <td>1.000000</td>\n",
       "      <td>NaN</td>\n",
       "      <td>-0.242055</td>\n",
       "      <td>-0.012511</td>\n",
       "      <td>-0.085673</td>\n",
       "      <td>-0.220102</td>\n",
       "      <td>0.005643</td>\n",
       "      <td>0.005398</td>\n",
       "    </tr>\n",
       "    <tr>\n",
       "      <th>Has a mobile phone</th>\n",
       "      <td>NaN</td>\n",
       "      <td>NaN</td>\n",
       "      <td>NaN</td>\n",
       "      <td>NaN</td>\n",
       "      <td>NaN</td>\n",
       "      <td>NaN</td>\n",
       "      <td>NaN</td>\n",
       "      <td>NaN</td>\n",
       "      <td>NaN</td>\n",
       "      <td>NaN</td>\n",
       "      <td>NaN</td>\n",
       "      <td>NaN</td>\n",
       "    </tr>\n",
       "    <tr>\n",
       "      <th>Has a work phone</th>\n",
       "      <td>0.085670</td>\n",
       "      <td>0.048727</td>\n",
       "      <td>-0.036601</td>\n",
       "      <td>0.177483</td>\n",
       "      <td>-0.242055</td>\n",
       "      <td>NaN</td>\n",
       "      <td>1.000000</td>\n",
       "      <td>0.312419</td>\n",
       "      <td>-0.035741</td>\n",
       "      <td>0.065130</td>\n",
       "      <td>-0.009882</td>\n",
       "      <td>0.005115</td>\n",
       "    </tr>\n",
       "    <tr>\n",
       "      <th>Has a phone</th>\n",
       "      <td>0.013915</td>\n",
       "      <td>-0.015110</td>\n",
       "      <td>0.021516</td>\n",
       "      <td>-0.027621</td>\n",
       "      <td>-0.012511</td>\n",
       "      <td>NaN</td>\n",
       "      <td>0.312419</td>\n",
       "      <td>1.000000</td>\n",
       "      <td>0.011367</td>\n",
       "      <td>-0.002008</td>\n",
       "      <td>-0.013896</td>\n",
       "      <td>-0.000112</td>\n",
       "    </tr>\n",
       "    <tr>\n",
       "      <th>Has an email</th>\n",
       "      <td>-0.048210</td>\n",
       "      <td>0.015116</td>\n",
       "      <td>0.091500</td>\n",
       "      <td>0.104728</td>\n",
       "      <td>-0.085673</td>\n",
       "      <td>NaN</td>\n",
       "      <td>-0.035741</td>\n",
       "      <td>0.011367</td>\n",
       "      <td>1.000000</td>\n",
       "      <td>0.013759</td>\n",
       "      <td>0.002588</td>\n",
       "      <td>-0.004659</td>\n",
       "    </tr>\n",
       "    <tr>\n",
       "      <th>Family member count</th>\n",
       "      <td>0.024724</td>\n",
       "      <td>0.888676</td>\n",
       "      <td>0.025338</td>\n",
       "      <td>0.301941</td>\n",
       "      <td>-0.220102</td>\n",
       "      <td>NaN</td>\n",
       "      <td>0.065130</td>\n",
       "      <td>-0.002008</td>\n",
       "      <td>0.013759</td>\n",
       "      <td>1.000000</td>\n",
       "      <td>-0.021693</td>\n",
       "      <td>-0.006252</td>\n",
       "    </tr>\n",
       "    <tr>\n",
       "      <th>Account age</th>\n",
       "      <td>-0.001453</td>\n",
       "      <td>-0.003722</td>\n",
       "      <td>-0.016435</td>\n",
       "      <td>0.057467</td>\n",
       "      <td>0.005643</td>\n",
       "      <td>NaN</td>\n",
       "      <td>-0.009882</td>\n",
       "      <td>-0.013896</td>\n",
       "      <td>0.002588</td>\n",
       "      <td>-0.021693</td>\n",
       "      <td>1.000000</td>\n",
       "      <td>-0.063273</td>\n",
       "    </tr>\n",
       "    <tr>\n",
       "      <th>Is high risk</th>\n",
       "      <td>0.011941</td>\n",
       "      <td>0.000369</td>\n",
       "      <td>-0.001760</td>\n",
       "      <td>0.002422</td>\n",
       "      <td>0.005398</td>\n",
       "      <td>NaN</td>\n",
       "      <td>0.005115</td>\n",
       "      <td>-0.000112</td>\n",
       "      <td>-0.004659</td>\n",
       "      <td>-0.006252</td>\n",
       "      <td>-0.063273</td>\n",
       "      <td>1.000000</td>\n",
       "    </tr>\n",
       "  </tbody>\n",
       "</table>\n",
       "</div>"
      ],
      "text/plain": [
       "                           ID  Children count    Income       Age  \\\n",
       "ID                   1.000000        0.026291 -0.016257  0.053120   \n",
       "Children count       0.026291        1.000000  0.034991  0.339080   \n",
       "Income              -0.016257        0.034991  1.000000  0.068156   \n",
       "Age                  0.053120        0.339080  0.068156  1.000000   \n",
       "Employment length   -0.037380       -0.230468 -0.169940 -0.616299   \n",
       "Has a mobile phone        NaN             NaN       NaN       NaN   \n",
       "Has a work phone     0.085670        0.048727 -0.036601  0.177483   \n",
       "Has a phone          0.013915       -0.015110  0.021516 -0.027621   \n",
       "Has an email        -0.048210        0.015116  0.091500  0.104728   \n",
       "Family member count  0.024724        0.888676  0.025338  0.301941   \n",
       "Account age         -0.001453       -0.003722 -0.016435  0.057467   \n",
       "Is high risk         0.011941        0.000369 -0.001760  0.002422   \n",
       "\n",
       "                     Employment length  Has a mobile phone  Has a work phone  \\\n",
       "ID                           -0.037380                 NaN          0.085670   \n",
       "Children count               -0.230468                 NaN          0.048727   \n",
       "Income                       -0.169940                 NaN         -0.036601   \n",
       "Age                          -0.616299                 NaN          0.177483   \n",
       "Employment length             1.000000                 NaN         -0.242055   \n",
       "Has a mobile phone                 NaN                 NaN               NaN   \n",
       "Has a work phone             -0.242055                 NaN          1.000000   \n",
       "Has a phone                  -0.012511                 NaN          0.312419   \n",
       "Has an email                 -0.085673                 NaN         -0.035741   \n",
       "Family member count          -0.220102                 NaN          0.065130   \n",
       "Account age                   0.005643                 NaN         -0.009882   \n",
       "Is high risk                  0.005398                 NaN          0.005115   \n",
       "\n",
       "                     Has a phone  Has an email  Family member count  \\\n",
       "ID                      0.013915     -0.048210             0.024724   \n",
       "Children count         -0.015110      0.015116             0.888676   \n",
       "Income                  0.021516      0.091500             0.025338   \n",
       "Age                    -0.027621      0.104728             0.301941   \n",
       "Employment length      -0.012511     -0.085673            -0.220102   \n",
       "Has a mobile phone           NaN           NaN                  NaN   \n",
       "Has a work phone        0.312419     -0.035741             0.065130   \n",
       "Has a phone             1.000000      0.011367            -0.002008   \n",
       "Has an email            0.011367      1.000000             0.013759   \n",
       "Family member count    -0.002008      0.013759             1.000000   \n",
       "Account age            -0.013896      0.002588            -0.021693   \n",
       "Is high risk           -0.000112     -0.004659            -0.006252   \n",
       "\n",
       "                     Account age  Is high risk  \n",
       "ID                     -0.001453      0.011941  \n",
       "Children count         -0.003722      0.000369  \n",
       "Income                 -0.016435     -0.001760  \n",
       "Age                     0.057467      0.002422  \n",
       "Employment length       0.005643      0.005398  \n",
       "Has a mobile phone           NaN           NaN  \n",
       "Has a work phone       -0.009882      0.005115  \n",
       "Has a phone            -0.013896     -0.000112  \n",
       "Has an email            0.002588     -0.004659  \n",
       "Family member count    -0.021693     -0.006252  \n",
       "Account age             1.000000     -0.063273  \n",
       "Is high risk           -0.063273      1.000000  "
      ]
     },
     "execution_count": 654,
     "metadata": {},
     "output_type": "execute_result"
    }
   ],
   "source": [
    "train_df.corr()"
   ]
  },
  {
   "cell_type": "markdown",
   "id": "7579e0f1",
   "metadata": {},
   "source": [
    "### Data visulization"
   ]
  },
  {
   "cell_type": "code",
   "execution_count": 406,
   "id": "f73e9890",
   "metadata": {},
   "outputs": [
    {
     "data": {
      "text/plain": [
       "<Axes: xlabel='Age', ylabel='Employment length'>"
      ]
     },
     "execution_count": 406,
     "metadata": {},
     "output_type": "execute_result"
    },
    {
     "data": {
      "image/png": "[encoded data removed]",
      "text/plain": [
       "<Figure size 1600x400 with 2 Axes>"
      ]
     },
     "metadata": {},
     "output_type": "display_data"
    }
   ],
   "source": [
    "## Test data set\n",
    "plt.figure(figsize=(16,4))\n",
    "plt.subplot(1,2,1)\n",
    "sns.lineplot(x=test_df['Children count'], y=test_df['Income'])\n",
    "\n",
    "plt.subplot(1,2,2)\n",
    "sns.lineplot(x=test_df['Age'], y=test_df['Employment length'])"
   ]
  },
  {
   "cell_type": "code",
   "execution_count": 407,
   "id": "7df83b09",
   "metadata": {},
   "outputs": [
    {
     "data": {
      "text/plain": [
       "<Axes: xlabel='Age', ylabel='Employment length'>"
      ]
     },
     "execution_count": 407,
     "metadata": {},
     "output_type": "execute_result"
    },
    {
     "data": {
      "image/png": "[encoded data removed]",
      "text/plain": [
       "<Figure size 1600x400 with 2 Axes>"
      ]
     },
     "metadata": {},
     "output_type": "display_data"
    }
   ],
   "source": [
    "## Train data set\n",
    "plt.figure(figsize=(16,4))\n",
    "plt.subplot(1,2,1)\n",
    "sns.lineplot(x=train_df['Children count'], y=train_df['Income'])\n",
    "\n",
    "plt.subplot(1,2,2)\n",
    "sns.lineplot(x=train_df['Age'], y=train_df['Employment length'])"
   ]
  },
  {
   "cell_type": "code",
   "execution_count": 655,
   "id": "2d96a766",
   "metadata": {},
   "outputs": [
    {
     "name": "stderr",
     "output_type": "stream",
     "text": [
      "C:\\Users\\prash\\AppData\\Local\\Temp\\ipykernel_25484\\2455456833.py:1: FutureWarning: The default value of numeric_only in DataFrame.corr is deprecated. In a future version, it will default to False. Select only valid columns or specify the value of numeric_only to silence this warning.\n",
      "  test_df.corr()[['Children count','Income']]\n"
     ]
    },
    {
     "data": {
      "text/html": [
       "<div>\n",
       "<style scoped>\n",
       "    .dataframe tbody tr th:only-of-type {\n",
       "        vertical-align: middle;\n",
       "    }\n",
       "\n",
       "    .dataframe tbody tr th {\n",
       "        vertical-align: top;\n",
       "    }\n",
       "\n",
       "    .dataframe thead th {\n",
       "        text-align: right;\n",
       "    }\n",
       "</style>\n",
       "<table border=\"1\" class=\"dataframe\">\n",
       "  <thead>\n",
       "    <tr style=\"text-align: right;\">\n",
       "      <th></th>\n",
       "      <th>Children count</th>\n",
       "      <th>Income</th>\n",
       "    </tr>\n",
       "  </thead>\n",
       "  <tbody>\n",
       "    <tr>\n",
       "      <th>ID</th>\n",
       "      <td>0.039124</td>\n",
       "      <td>-0.023177</td>\n",
       "    </tr>\n",
       "    <tr>\n",
       "      <th>Children count</th>\n",
       "      <td>1.000000</td>\n",
       "      <td>0.028580</td>\n",
       "    </tr>\n",
       "    <tr>\n",
       "      <th>Income</th>\n",
       "      <td>0.028580</td>\n",
       "      <td>1.000000</td>\n",
       "    </tr>\n",
       "    <tr>\n",
       "      <th>Age</th>\n",
       "      <td>0.340488</td>\n",
       "      <td>0.066987</td>\n",
       "    </tr>\n",
       "    <tr>\n",
       "      <th>Employment length</th>\n",
       "      <td>-0.225038</td>\n",
       "      <td>-0.163423</td>\n",
       "    </tr>\n",
       "    <tr>\n",
       "      <th>Has a mobile phone</th>\n",
       "      <td>NaN</td>\n",
       "      <td>NaN</td>\n",
       "    </tr>\n",
       "    <tr>\n",
       "      <th>Has a work phone</th>\n",
       "      <td>0.045622</td>\n",
       "      <td>-0.042091</td>\n",
       "    </tr>\n",
       "    <tr>\n",
       "      <th>Has a phone</th>\n",
       "      <td>-0.021006</td>\n",
       "      <td>0.000447</td>\n",
       "    </tr>\n",
       "    <tr>\n",
       "      <th>Has an email</th>\n",
       "      <td>0.019348</td>\n",
       "      <td>0.067458</td>\n",
       "    </tr>\n",
       "    <tr>\n",
       "      <th>Family member count</th>\n",
       "      <td>0.890904</td>\n",
       "      <td>0.017544</td>\n",
       "    </tr>\n",
       "    <tr>\n",
       "      <th>Account age</th>\n",
       "      <td>-0.005045</td>\n",
       "      <td>-0.021699</td>\n",
       "    </tr>\n",
       "    <tr>\n",
       "      <th>Is high risk</th>\n",
       "      <td>-0.003115</td>\n",
       "      <td>0.001724</td>\n",
       "    </tr>\n",
       "  </tbody>\n",
       "</table>\n",
       "</div>"
      ],
      "text/plain": [
       "                     Children count    Income\n",
       "ID                         0.039124 -0.023177\n",
       "Children count             1.000000  0.028580\n",
       "Income                     0.028580  1.000000\n",
       "Age                        0.340488  0.066987\n",
       "Employment length         -0.225038 -0.163423\n",
       "Has a mobile phone              NaN       NaN\n",
       "Has a work phone           0.045622 -0.042091\n",
       "Has a phone               -0.021006  0.000447\n",
       "Has an email               0.019348  0.067458\n",
       "Family member count        0.890904  0.017544\n",
       "Account age               -0.005045 -0.021699\n",
       "Is high risk              -0.003115  0.001724"
      ]
     },
     "execution_count": 655,
     "metadata": {},
     "output_type": "execute_result"
    }
   ],
   "source": [
    "test_df.corr()[['Children count','Income']]"
   ]
  },
  {
   "cell_type": "code",
   "execution_count": 656,
   "id": "034163bb",
   "metadata": {},
   "outputs": [
    {
     "name": "stderr",
     "output_type": "stream",
     "text": [
      "C:\\Users\\prash\\AppData\\Local\\Temp\\ipykernel_25484\\4081645894.py:1: FutureWarning: The default value of numeric_only in DataFrame.corr is deprecated. In a future version, it will default to False. Select only valid columns or specify the value of numeric_only to silence this warning.\n",
      "  train_df.corr()[['Children count','Income']]\n"
     ]
    },
    {
     "data": {
      "text/html": [
       "<div>\n",
       "<style scoped>\n",
       "    .dataframe tbody tr th:only-of-type {\n",
       "        vertical-align: middle;\n",
       "    }\n",
       "\n",
       "    .dataframe tbody tr th {\n",
       "        vertical-align: top;\n",
       "    }\n",
       "\n",
       "    .dataframe thead th {\n",
       "        text-align: right;\n",
       "    }\n",
       "</style>\n",
       "<table border=\"1\" class=\"dataframe\">\n",
       "  <thead>\n",
       "    <tr style=\"text-align: right;\">\n",
       "      <th></th>\n",
       "      <th>Children count</th>\n",
       "      <th>Income</th>\n",
       "    </tr>\n",
       "  </thead>\n",
       "  <tbody>\n",
       "    <tr>\n",
       "      <th>ID</th>\n",
       "      <td>0.026291</td>\n",
       "      <td>-0.016257</td>\n",
       "    </tr>\n",
       "    <tr>\n",
       "      <th>Children count</th>\n",
       "      <td>1.000000</td>\n",
       "      <td>0.034991</td>\n",
       "    </tr>\n",
       "    <tr>\n",
       "      <th>Income</th>\n",
       "      <td>0.034991</td>\n",
       "      <td>1.000000</td>\n",
       "    </tr>\n",
       "    <tr>\n",
       "      <th>Age</th>\n",
       "      <td>0.339080</td>\n",
       "      <td>0.068156</td>\n",
       "    </tr>\n",
       "    <tr>\n",
       "      <th>Employment length</th>\n",
       "      <td>-0.230468</td>\n",
       "      <td>-0.169940</td>\n",
       "    </tr>\n",
       "    <tr>\n",
       "      <th>Has a mobile phone</th>\n",
       "      <td>NaN</td>\n",
       "      <td>NaN</td>\n",
       "    </tr>\n",
       "    <tr>\n",
       "      <th>Has a work phone</th>\n",
       "      <td>0.048727</td>\n",
       "      <td>-0.036601</td>\n",
       "    </tr>\n",
       "    <tr>\n",
       "      <th>Has a phone</th>\n",
       "      <td>-0.015110</td>\n",
       "      <td>0.021516</td>\n",
       "    </tr>\n",
       "    <tr>\n",
       "      <th>Has an email</th>\n",
       "      <td>0.015116</td>\n",
       "      <td>0.091500</td>\n",
       "    </tr>\n",
       "    <tr>\n",
       "      <th>Family member count</th>\n",
       "      <td>0.888676</td>\n",
       "      <td>0.025338</td>\n",
       "    </tr>\n",
       "    <tr>\n",
       "      <th>Account age</th>\n",
       "      <td>-0.003722</td>\n",
       "      <td>-0.016435</td>\n",
       "    </tr>\n",
       "    <tr>\n",
       "      <th>Is high risk</th>\n",
       "      <td>0.000369</td>\n",
       "      <td>-0.001760</td>\n",
       "    </tr>\n",
       "  </tbody>\n",
       "</table>\n",
       "</div>"
      ],
      "text/plain": [
       "                     Children count    Income\n",
       "ID                         0.026291 -0.016257\n",
       "Children count             1.000000  0.034991\n",
       "Income                     0.034991  1.000000\n",
       "Age                        0.339080  0.068156\n",
       "Employment length         -0.230468 -0.169940\n",
       "Has a mobile phone              NaN       NaN\n",
       "Has a work phone           0.048727 -0.036601\n",
       "Has a phone               -0.015110  0.021516\n",
       "Has an email               0.015116  0.091500\n",
       "Family member count        0.888676  0.025338\n",
       "Account age               -0.003722 -0.016435\n",
       "Is high risk               0.000369 -0.001760"
      ]
     },
     "execution_count": 656,
     "metadata": {},
     "output_type": "execute_result"
    }
   ],
   "source": [
    "train_df.corr()[['Children count','Income']]"
   ]
  },
  {
   "cell_type": "markdown",
   "id": "9965898f",
   "metadata": {},
   "source": [
    "## EDA (Exploratory data analysis"
   ]
  },
  {
   "cell_type": "markdown",
   "id": "1e620d45",
   "metadata": {},
   "source": [
    "#### Univariate Analysis"
   ]
  },
  {
   "cell_type": "code",
   "execution_count": 657,
   "id": "c87999d1",
   "metadata": {},
   "outputs": [
    {
     "data": {
      "text/plain": [
       "F    4881\n",
       "M    2411\n",
       "Name: Gender, dtype: int64"
      ]
     },
     "execution_count": 657,
     "metadata": {},
     "output_type": "execute_result"
    }
   ],
   "source": [
    "### Gender\n",
    "test_df['Gender'].value_counts()"
   ]
  },
  {
   "cell_type": "code",
   "execution_count": 658,
   "id": "257cf6a2",
   "metadata": {},
   "outputs": [
    {
     "data": {
      "text/plain": [
       "F    19549\n",
       "M     9616\n",
       "Name: Gender, dtype: int64"
      ]
     },
     "execution_count": 658,
     "metadata": {},
     "output_type": "execute_result"
    }
   ],
   "source": [
    "train_df['Gender'].value_counts()"
   ]
  },
  {
   "cell_type": "code",
   "execution_count": 659,
   "id": "d9c3bfa6",
   "metadata": {},
   "outputs": [
    {
     "name": "stdout",
     "output_type": "stream",
     "text": [
      "ID\n",
      "5091261    1\n",
      "5066548    1\n",
      "5137310    1\n",
      "5010838    1\n",
      "5111128    1\n",
      "          ..\n",
      "5042149    1\n",
      "5091331    1\n",
      "5061723    1\n",
      "5111092    1\n",
      "5022903    1\n",
      "Name: ID, Length: 7292, dtype: int64\n",
      "Minimum: 5008809\n",
      "Maximum: 5150487\n",
      "  \n",
      "Gender\n",
      "F    4881\n",
      "M    2411\n",
      "Name: Gender, dtype: int64\n",
      "  \n",
      "Has a car\n",
      "N    4486\n",
      "Y    2806\n",
      "Name: Has a car, dtype: int64\n",
      "  \n",
      "Has a property\n",
      "Y    4949\n",
      "N    2343\n",
      "Name: Has a property, dtype: int64\n",
      "  \n",
      "Children count\n",
      "0     5058\n",
      "1     1489\n",
      "2      632\n",
      "3       96\n",
      "4       11\n",
      "5        5\n",
      "14       1\n",
      "Name: Children count, dtype: int64\n",
      "Minimum: 0\n",
      "Maximum: 14\n",
      "  \n",
      "Income\n",
      "135000.0    841\n",
      "157500.0    620\n",
      "180000.0    610\n",
      "112500.0    597\n",
      "225000.0    553\n",
      "           ... \n",
      "92250.0       1\n",
      "179100.0      1\n",
      "369000.0      1\n",
      "178200.0      1\n",
      "62100.0       1\n",
      "Name: Income, Length: 190, dtype: int64\n",
      "Minimum: 27000.0\n",
      "Maximum: 1575000.0\n",
      "  \n",
      "Employment status\n",
      "Working                 3763\n",
      "Commercial associate    1689\n",
      "Pensioner               1232\n",
      "State servant            604\n",
      "Student                    4\n",
      "Name: Employment status, dtype: int64\n",
      "  \n",
      "Education level\n",
      "Secondary / secondary special    4974\n",
      "Higher education                 1954\n",
      "Incomplete higher                 281\n",
      "Lower secondary                    76\n",
      "Academic degree                     7\n",
      "Name: Education level, dtype: int64\n",
      "  \n",
      "Marital status\n",
      "Married                 5004\n",
      "Single / not married     965\n",
      "Civil marriage           633\n",
      "Separated                391\n",
      "Widow                    299\n",
      "Name: Marital status, dtype: int64\n",
      "  \n",
      "Dwelling\n",
      "House / apartment      6489\n",
      "With parents            370\n",
      "Municipal apartment     216\n",
      "Rented apartment        122\n",
      "Office apartment         54\n",
      "Co-op apartment          41\n",
      "Name: Dwelling, dtype: int64\n",
      "  \n",
      "Age\n",
      "-14667    13\n",
      "-12676    10\n",
      "-15519    10\n",
      "-15675    10\n",
      "-13790     9\n",
      "          ..\n",
      "-12882     1\n",
      "-10359     1\n",
      "-13969     1\n",
      "-14806     1\n",
      "-21464     1\n",
      "Name: Age, Length: 3988, dtype: int64\n",
      "Minimum: -25152\n",
      "Maximum: -7489\n",
      "  \n",
      "Employment length\n",
      " 365243    1227\n",
      "-401         17\n",
      "-1315        15\n",
      "-1678        14\n",
      "-3694        14\n",
      "           ... \n",
      "-2010         1\n",
      "-3810         1\n",
      "-9255         1\n",
      "-312          1\n",
      "-3403         1\n",
      "Name: Employment length, Length: 2429, dtype: int64\n",
      "Minimum: -15661\n",
      "Maximum: 365243\n",
      "  \n",
      "Has a mobile phone\n",
      "1    7292\n",
      "Name: Has a mobile phone, dtype: int64\n",
      "Minimum: 1\n",
      "Maximum: 1\n",
      "  \n",
      "Has a work phone\n",
      "0    5612\n",
      "1    1680\n",
      "Name: Has a work phone, dtype: int64\n",
      "Minimum: 0\n",
      "Maximum: 1\n",
      "  \n",
      "Has a phone\n",
      "0    5147\n",
      "1    2145\n",
      "Name: Has a phone, dtype: int64\n",
      "Minimum: 0\n",
      "Maximum: 1\n",
      "  \n",
      "Has an email\n",
      "0    6654\n",
      "1     638\n",
      "Name: Has an email, dtype: int64\n",
      "Minimum: 0\n",
      "Maximum: 1\n",
      "  \n",
      "Job title\n",
      "Laborers                 1207\n",
      "Core staff                725\n",
      "Sales staff               712\n",
      "Managers                  590\n",
      "Drivers                   416\n",
      "Medicine staff            251\n",
      "High skill tech staff     250\n",
      "Accountants               243\n",
      "Cooking staff             134\n",
      "Security staff            128\n",
      "Cleaning staff            126\n",
      "Private service staff      57\n",
      "Waiters/barmen staff       47\n",
      "Low-skill Laborers         37\n",
      "Secretaries                29\n",
      "Realty agents              19\n",
      "HR staff                   13\n",
      "IT staff                   12\n",
      "Name: Job title, dtype: int64\n",
      "  \n",
      "Family member count\n",
      "2.0     3911\n",
      "1.0     1374\n",
      "3.0     1300\n",
      "4.0      603\n",
      "5.0       88\n",
      "6.0       10\n",
      "7.0        5\n",
      "15.0       1\n",
      "Name: Family member count, dtype: int64\n",
      "Minimum: 1.0\n",
      "Maximum: 15.0\n",
      "  \n",
      "Account age\n",
      "-7.0     199\n",
      "-11.0    186\n",
      "-3.0     174\n",
      "-8.0     165\n",
      "-13.0    161\n",
      "        ... \n",
      " 0.0      68\n",
      "-56.0     67\n",
      "-58.0     63\n",
      "-57.0     60\n",
      "-59.0     57\n",
      "Name: Account age, Length: 61, dtype: int64\n",
      "Minimum: -60.0\n",
      "Maximum: 0.0\n",
      "  \n",
      "Is high risk\n",
      "0    7175\n",
      "1     117\n",
      "Name: Is high risk, dtype: int64\n",
      "Minimum: 0\n",
      "Maximum: 1\n",
      "  \n"
     ]
    }
   ],
   "source": [
    "### check number of categories and their counts in ecah column, and also minimum and maximum value of numeric columns\n",
    "for i in test_df.columns:\n",
    "    print(i)\n",
    "    print(test_df[i].value_counts())\n",
    "    if test_df[i].dtype == 'int64' or test_df[i].dtype == 'float64':\n",
    "        print(\"Minimum:\", test_df[i].min())\n",
    "        print(\"Maximum:\", test_df[i].max())\n",
    "    print(\"  \")"
   ]
  },
  {
   "cell_type": "code",
   "execution_count": 660,
   "id": "e8e1d5fd",
   "metadata": {},
   "outputs": [
    {
     "name": "stdout",
     "output_type": "stream",
     "text": [
      "ID\n",
      "5037048    1\n",
      "5024541    1\n",
      "5112625    1\n",
      "5089643    1\n",
      "5091778    1\n",
      "          ..\n",
      "5035794    1\n",
      "5022836    1\n",
      "5143310    1\n",
      "5142489    1\n",
      "5062632    1\n",
      "Name: ID, Length: 29165, dtype: int64\n",
      "Minimum: 5008804\n",
      "Maximum: 5150485\n",
      "  \n",
      "Gender\n",
      "F    19549\n",
      "M     9616\n",
      "Name: Gender, dtype: int64\n",
      "  \n",
      "Has a car\n",
      "N    18128\n",
      "Y    11037\n",
      "Name: Has a car, dtype: int64\n",
      "  \n",
      "Has a property\n",
      "Y    19557\n",
      "N     9608\n",
      "Name: Has a property, dtype: int64\n",
      "  \n",
      "Children count\n",
      "0     20143\n",
      "1      6003\n",
      "2      2624\n",
      "3       323\n",
      "4        52\n",
      "5        15\n",
      "7         2\n",
      "14        2\n",
      "19        1\n",
      "Name: Children count, dtype: int64\n",
      "Minimum: 0\n",
      "Maximum: 19\n",
      "  \n",
      "Income\n",
      "135000.0    3468\n",
      "180000.0    2487\n",
      "157500.0    2469\n",
      "225000.0    2373\n",
      "112500.0    2359\n",
      "            ... \n",
      "164250.0       1\n",
      "42300.0        1\n",
      "432000.0       1\n",
      "145350.0       1\n",
      "82350.0        1\n",
      "Name: Income, Length: 259, dtype: int64\n",
      "Minimum: 27000.0\n",
      "Maximum: 1575000.0\n",
      "  \n",
      "Employment status\n",
      "Working                 15056\n",
      "Commercial associate     6801\n",
      "Pensioner                4920\n",
      "State servant            2381\n",
      "Student                     7\n",
      "Name: Employment status, dtype: int64\n",
      "  \n",
      "Education level\n",
      "Secondary / secondary special    19803\n",
      "Higher education                  7910\n",
      "Incomplete higher                 1129\n",
      "Lower secondary                    298\n",
      "Academic degree                     25\n",
      "Name: Education level, dtype: int64\n",
      "  \n",
      "Marital status\n",
      "Married                 20044\n",
      "Single / not married     3864\n",
      "Civil marriage           2312\n",
      "Separated                1712\n",
      "Widow                    1233\n",
      "Name: Marital status, dtype: int64\n",
      "  \n",
      "Dwelling\n",
      "House / apartment      26059\n",
      "With parents            1406\n",
      "Municipal apartment      912\n",
      "Rented apartment         453\n",
      "Office apartment         208\n",
      "Co-op apartment          127\n",
      "Name: Dwelling, dtype: int64\n",
      "  \n",
      "Age\n",
      "-12676    44\n",
      "-15519    44\n",
      "-16896    33\n",
      "-16053    26\n",
      "-16768    26\n",
      "          ..\n",
      "-18253     1\n",
      "-23429     1\n",
      "-15478     1\n",
      "-21648     1\n",
      "-19564     1\n",
      "Name: Age, Length: 6794, dtype: int64\n",
      "Minimum: -25152\n",
      "Maximum: -7705\n",
      "  \n",
      "Employment length\n",
      " 365243    4908\n",
      "-401         61\n",
      "-200         55\n",
      "-2087        53\n",
      "-1539        51\n",
      "           ... \n",
      "-8369         1\n",
      "-6288         1\n",
      "-6303         1\n",
      "-3065         1\n",
      "-8256         1\n",
      "Name: Employment length, Length: 3483, dtype: int64\n",
      "Minimum: -15713\n",
      "Maximum: 365243\n",
      "  \n",
      "Has a mobile phone\n",
      "1    29165\n",
      "Name: Has a mobile phone, dtype: int64\n",
      "Minimum: 1\n",
      "Maximum: 1\n",
      "  \n",
      "Has a work phone\n",
      "0    22623\n",
      "1     6542\n",
      "Name: Has a work phone, dtype: int64\n",
      "Minimum: 0\n",
      "Maximum: 1\n",
      "  \n",
      "Has a phone\n",
      "0    20562\n",
      "1     8603\n",
      "Name: Has a phone, dtype: int64\n",
      "Minimum: 0\n",
      "Maximum: 1\n",
      "  \n",
      "Has an email\n",
      "0    26532\n",
      "1     2633\n",
      "Name: Has an email, dtype: int64\n",
      "Minimum: 0\n",
      "Maximum: 1\n",
      "  \n",
      "Job title\n",
      "Laborers                 5004\n",
      "Core staff               2866\n",
      "Sales staff              2773\n",
      "Managers                 2422\n",
      "Drivers                  1722\n",
      "High skill tech staff    1133\n",
      "Accountants               998\n",
      "Medicine staff            956\n",
      "Cooking staff             521\n",
      "Security staff            464\n",
      "Cleaning staff            425\n",
      "Private service staff     287\n",
      "Low-skill Laborers        138\n",
      "Waiters/barmen staff      127\n",
      "Secretaries               122\n",
      "HR staff                   72\n",
      "Realty agents              60\n",
      "IT staff                   48\n",
      "Name: Job title, dtype: int64\n",
      "  \n",
      "Family member count\n",
      "2.0     15552\n",
      "1.0      5613\n",
      "3.0      5121\n",
      "4.0      2503\n",
      "5.0       309\n",
      "6.0        48\n",
      "7.0        14\n",
      "9.0         2\n",
      "15.0        2\n",
      "20.0        1\n",
      "Name: Family member count, dtype: int64\n",
      "Minimum: 1.0\n",
      "Maximum: 20.0\n",
      "  \n",
      "Account age\n",
      "-7.0     690\n",
      "-6.0     669\n",
      "-17.0    659\n",
      "-5.0     656\n",
      "-8.0     655\n",
      "        ... \n",
      "-58.0    270\n",
      "-59.0    250\n",
      "-60.0    249\n",
      " 0.0     247\n",
      "-57.0    244\n",
      "Name: Account age, Length: 61, dtype: int64\n",
      "Minimum: -60.0\n",
      "Maximum: 0.0\n",
      "  \n",
      "Is high risk\n",
      "0    28666\n",
      "1      499\n",
      "Name: Is high risk, dtype: int64\n",
      "Minimum: 0\n",
      "Maximum: 1\n",
      "  \n"
     ]
    }
   ],
   "source": [
    "### check number of categories and their counts in ecah column, and also minimum and maximum value of numeric columns\n",
    "for i in train_df.columns:\n",
    "    print(i)\n",
    "    print(train_df[i].value_counts())\n",
    "    if train_df[i].dtype == 'int64' or train_df[i].dtype == 'float64':\n",
    "        print(\"Minimum:\", train_df[i].min())\n",
    "        print(\"Maximum:\", train_df[i].max())\n",
    "    print(\"  \")"
   ]
  },
  {
   "cell_type": "code",
   "execution_count": 661,
   "id": "d602ab6e",
   "metadata": {},
   "outputs": [
    {
     "data": {
      "image/png": "[encoded data removed]",
      "text/plain": [
       "<Figure size 640x480 with 1 Axes>"
      ]
     },
     "metadata": {},
     "output_type": "display_data"
    }
   ],
   "source": [
    "ax=sns.countplot(x='Employment status', data=test_df)\n",
    "for bars in ax.containers:\n",
    "    ax.bar_label(bars)"
   ]
  },
  {
   "cell_type": "code",
   "execution_count": 662,
   "id": "2b6e4586",
   "metadata": {},
   "outputs": [
    {
     "data": {
      "image/png": "[encoded data removed]",
      "text/plain": [
       "<Figure size 640x480 with 1 Axes>"
      ]
     },
     "metadata": {},
     "output_type": "display_data"
    }
   ],
   "source": [
    "ax=sns.countplot(x='Employment status', data=train_df)\n",
    "for bars in ax.containers:\n",
    "    ax.bar_label(bars)"
   ]
  },
  {
   "cell_type": "markdown",
   "id": "cf716f74",
   "metadata": {},
   "source": [
    "### Data Preprocessing"
   ]
  },
  {
   "cell_type": "code",
   "execution_count": 663,
   "id": "ed7de68e",
   "metadata": {},
   "outputs": [
    {
     "data": {
      "text/plain": [
       "0"
      ]
     },
     "execution_count": 663,
     "metadata": {},
     "output_type": "execute_result"
    }
   ],
   "source": [
    "### Correcting the age column \n",
    "import math  # Import the math module\n",
    "\n",
    "# Correcting the age column. Cverting age -ve to -ve and then days to years.\n",
    "test_df['Age'] = (test_df['Age'] + 25152) / 365.4\n",
    "test_df['Age'] = test_df['Age'].apply(math.floor)  # Applying math.floor to each element\n",
    "test_df['Age'].min()"
   ]
  },
  {
   "cell_type": "code",
   "execution_count": 664,
   "id": "cc8ee997",
   "metadata": {},
   "outputs": [
    {
     "data": {
      "text/plain": [
       "0"
      ]
     },
     "execution_count": 664,
     "metadata": {},
     "output_type": "execute_result"
    }
   ],
   "source": [
    "# Correcting the age column. Cverting age -ve to -ve and then days to years.\n",
    "train_df['Age'] = (train_df['Age'] + 25152) / 365.4\n",
    "train_df['Age'] = train_df['Age'].apply(math.floor)  # Applying math.floor to each element\n",
    "train_df['Age'].min()"
   ]
  },
  {
   "cell_type": "code",
   "execution_count": 665,
   "id": "d2b25693",
   "metadata": {},
   "outputs": [
    {
     "data": {
      "text/plain": [
       "0       22\n",
       "1       19\n",
       "2        8\n",
       "3       34\n",
       "4       35\n",
       "        ..\n",
       "7287     9\n",
       "7288    27\n",
       "7289    12\n",
       "7290    17\n",
       "7291    39\n",
       "Name: Age, Length: 7292, dtype: int64"
      ]
     },
     "execution_count": 665,
     "metadata": {},
     "output_type": "execute_result"
    }
   ],
   "source": [
    "test_df['Age']"
   ]
  },
  {
   "cell_type": "code",
   "execution_count": 666,
   "id": "c6d5b250",
   "metadata": {},
   "outputs": [
    {
     "data": {
      "text/plain": [
       "0        24\n",
       "1        41\n",
       "2        33\n",
       "3        11\n",
       "4        24\n",
       "         ..\n",
       "29160     4\n",
       "29161    26\n",
       "29162    20\n",
       "29163     9\n",
       "29164    17\n",
       "Name: Age, Length: 29165, dtype: int64"
      ]
     },
     "execution_count": 666,
     "metadata": {},
     "output_type": "execute_result"
    }
   ],
   "source": [
    "train_df['Age']"
   ]
  },
  {
   "cell_type": "code",
   "execution_count": 667,
   "id": "f3c18219",
   "metadata": {},
   "outputs": [
    {
     "name": "stderr",
     "output_type": "stream",
     "text": [
      "C:\\Users\\prash\\AppData\\Local\\Temp\\ipykernel_25484\\3041180735.py:1: UserWarning: \n",
      "\n",
      "`distplot` is a deprecated function and will be removed in seaborn v0.14.0.\n",
      "\n",
      "Please adapt your code to use either `displot` (a figure-level function with\n",
      "similar flexibility) or `histplot` (an axes-level function for histograms).\n",
      "\n",
      "For a guide to updating your code to use the new functions, please see\n",
      "https://gist.github.com/mwaskom/de44147ed2974457ad6372750bbe5751\n",
      "\n",
      "  sns.distplot(test_df['Age'])\n"
     ]
    },
    {
     "data": {
      "text/plain": [
       "<Axes: xlabel='Age', ylabel='Density'>"
      ]
     },
     "execution_count": 667,
     "metadata": {},
     "output_type": "execute_result"
    },
    {
     "data": {
      "image/png": "[encoded data removed]",
      "text/plain": [
       "<Figure size 640x480 with 1 Axes>"
      ]
     },
     "metadata": {},
     "output_type": "display_data"
    }
   ],
   "source": [
    "sns.distplot(test_df['Age'])"
   ]
  },
  {
   "cell_type": "code",
   "execution_count": 668,
   "id": "ade237a8",
   "metadata": {},
   "outputs": [
    {
     "name": "stderr",
     "output_type": "stream",
     "text": [
      "C:\\Users\\prash\\AppData\\Local\\Temp\\ipykernel_25484\\2951157067.py:1: UserWarning: \n",
      "\n",
      "`distplot` is a deprecated function and will be removed in seaborn v0.14.0.\n",
      "\n",
      "Please adapt your code to use either `displot` (a figure-level function with\n",
      "similar flexibility) or `histplot` (an axes-level function for histograms).\n",
      "\n",
      "For a guide to updating your code to use the new functions, please see\n",
      "https://gist.github.com/mwaskom/de44147ed2974457ad6372750bbe5751\n",
      "\n",
      "  sns.distplot(train_df['Age'])\n"
     ]
    },
    {
     "data": {
      "text/plain": [
       "<Axes: xlabel='Age', ylabel='Density'>"
      ]
     },
     "execution_count": 668,
     "metadata": {},
     "output_type": "execute_result"
    },
    {
     "data": {
      "image/png": "[encoded data removed]",
      "text/plain": [
       "<Figure size 640x480 with 1 Axes>"
      ]
     },
     "metadata": {},
     "output_type": "display_data"
    }
   ],
   "source": [
    "sns.distplot(train_df['Age'])"
   ]
  },
  {
   "cell_type": "code",
   "execution_count": 669,
   "id": "19b012c9",
   "metadata": {},
   "outputs": [
    {
     "data": {
      "text/html": [
       "<div>\n",
       "<style scoped>\n",
       "    .dataframe tbody tr th:only-of-type {\n",
       "        vertical-align: middle;\n",
       "    }\n",
       "\n",
       "    .dataframe tbody tr th {\n",
       "        vertical-align: top;\n",
       "    }\n",
       "\n",
       "    .dataframe thead th {\n",
       "        text-align: right;\n",
       "    }\n",
       "</style>\n",
       "<table border=\"1\" class=\"dataframe\">\n",
       "  <thead>\n",
       "    <tr style=\"text-align: right;\">\n",
       "      <th></th>\n",
       "      <th>ID</th>\n",
       "      <th>Gender</th>\n",
       "      <th>Has a car</th>\n",
       "      <th>Has a property</th>\n",
       "      <th>Children count</th>\n",
       "      <th>Income</th>\n",
       "      <th>Employment status</th>\n",
       "      <th>Education level</th>\n",
       "      <th>Marital status</th>\n",
       "      <th>Dwelling</th>\n",
       "      <th>Age</th>\n",
       "      <th>Employment length</th>\n",
       "      <th>Has a mobile phone</th>\n",
       "      <th>Has a work phone</th>\n",
       "      <th>Has a phone</th>\n",
       "      <th>Has an email</th>\n",
       "      <th>Job title</th>\n",
       "      <th>Family member count</th>\n",
       "      <th>Account age</th>\n",
       "      <th>Is high risk</th>\n",
       "    </tr>\n",
       "  </thead>\n",
       "  <tbody>\n",
       "    <tr>\n",
       "      <th>4198</th>\n",
       "      <td>5149286</td>\n",
       "      <td>F</td>\n",
       "      <td>Y</td>\n",
       "      <td>Y</td>\n",
       "      <td>1</td>\n",
       "      <td>225000.0</td>\n",
       "      <td>Working</td>\n",
       "      <td>Secondary / secondary special</td>\n",
       "      <td>Civil marriage</td>\n",
       "      <td>House / apartment</td>\n",
       "      <td>26</td>\n",
       "      <td>-290</td>\n",
       "      <td>1</td>\n",
       "      <td>0</td>\n",
       "      <td>0</td>\n",
       "      <td>0</td>\n",
       "      <td>Sales staff</td>\n",
       "      <td>3.0</td>\n",
       "      <td>-31.0</td>\n",
       "      <td>0</td>\n",
       "    </tr>\n",
       "    <tr>\n",
       "      <th>7098</th>\n",
       "      <td>5118382</td>\n",
       "      <td>M</td>\n",
       "      <td>Y</td>\n",
       "      <td>N</td>\n",
       "      <td>0</td>\n",
       "      <td>270000.0</td>\n",
       "      <td>Commercial associate</td>\n",
       "      <td>Secondary / secondary special</td>\n",
       "      <td>Married</td>\n",
       "      <td>House / apartment</td>\n",
       "      <td>11</td>\n",
       "      <td>-2745</td>\n",
       "      <td>1</td>\n",
       "      <td>1</td>\n",
       "      <td>1</td>\n",
       "      <td>0</td>\n",
       "      <td>Managers</td>\n",
       "      <td>2.0</td>\n",
       "      <td>-38.0</td>\n",
       "      <td>0</td>\n",
       "    </tr>\n",
       "    <tr>\n",
       "      <th>4599</th>\n",
       "      <td>5146577</td>\n",
       "      <td>M</td>\n",
       "      <td>Y</td>\n",
       "      <td>Y</td>\n",
       "      <td>0</td>\n",
       "      <td>135000.0</td>\n",
       "      <td>Working</td>\n",
       "      <td>Secondary / secondary special</td>\n",
       "      <td>Married</td>\n",
       "      <td>With parents</td>\n",
       "      <td>24</td>\n",
       "      <td>-3111</td>\n",
       "      <td>1</td>\n",
       "      <td>0</td>\n",
       "      <td>0</td>\n",
       "      <td>0</td>\n",
       "      <td>Core staff</td>\n",
       "      <td>2.0</td>\n",
       "      <td>-30.0</td>\n",
       "      <td>0</td>\n",
       "    </tr>\n",
       "    <tr>\n",
       "      <th>5715</th>\n",
       "      <td>5069502</td>\n",
       "      <td>F</td>\n",
       "      <td>Y</td>\n",
       "      <td>Y</td>\n",
       "      <td>0</td>\n",
       "      <td>180000.0</td>\n",
       "      <td>State servant</td>\n",
       "      <td>Higher education</td>\n",
       "      <td>Married</td>\n",
       "      <td>House / apartment</td>\n",
       "      <td>27</td>\n",
       "      <td>-3700</td>\n",
       "      <td>1</td>\n",
       "      <td>0</td>\n",
       "      <td>0</td>\n",
       "      <td>0</td>\n",
       "      <td>Core staff</td>\n",
       "      <td>2.0</td>\n",
       "      <td>-37.0</td>\n",
       "      <td>0</td>\n",
       "    </tr>\n",
       "    <tr>\n",
       "      <th>19</th>\n",
       "      <td>5023302</td>\n",
       "      <td>F</td>\n",
       "      <td>Y</td>\n",
       "      <td>Y</td>\n",
       "      <td>1</td>\n",
       "      <td>67500.0</td>\n",
       "      <td>Commercial associate</td>\n",
       "      <td>Secondary / secondary special</td>\n",
       "      <td>Married</td>\n",
       "      <td>House / apartment</td>\n",
       "      <td>36</td>\n",
       "      <td>-3553</td>\n",
       "      <td>1</td>\n",
       "      <td>0</td>\n",
       "      <td>0</td>\n",
       "      <td>1</td>\n",
       "      <td>NaN</td>\n",
       "      <td>3.0</td>\n",
       "      <td>-8.0</td>\n",
       "      <td>0</td>\n",
       "    </tr>\n",
       "    <tr>\n",
       "      <th>4020</th>\n",
       "      <td>5035843</td>\n",
       "      <td>F</td>\n",
       "      <td>N</td>\n",
       "      <td>Y</td>\n",
       "      <td>1</td>\n",
       "      <td>252000.0</td>\n",
       "      <td>Working</td>\n",
       "      <td>Secondary / secondary special</td>\n",
       "      <td>Separated</td>\n",
       "      <td>House / apartment</td>\n",
       "      <td>18</td>\n",
       "      <td>-7404</td>\n",
       "      <td>1</td>\n",
       "      <td>0</td>\n",
       "      <td>0</td>\n",
       "      <td>0</td>\n",
       "      <td>Medicine staff</td>\n",
       "      <td>2.0</td>\n",
       "      <td>-58.0</td>\n",
       "      <td>0</td>\n",
       "    </tr>\n",
       "    <tr>\n",
       "      <th>2909</th>\n",
       "      <td>5099984</td>\n",
       "      <td>M</td>\n",
       "      <td>Y</td>\n",
       "      <td>N</td>\n",
       "      <td>0</td>\n",
       "      <td>225000.0</td>\n",
       "      <td>Working</td>\n",
       "      <td>Secondary / secondary special</td>\n",
       "      <td>Married</td>\n",
       "      <td>House / apartment</td>\n",
       "      <td>31</td>\n",
       "      <td>-2256</td>\n",
       "      <td>1</td>\n",
       "      <td>1</td>\n",
       "      <td>1</td>\n",
       "      <td>0</td>\n",
       "      <td>Drivers</td>\n",
       "      <td>2.0</td>\n",
       "      <td>-20.0</td>\n",
       "      <td>0</td>\n",
       "    </tr>\n",
       "    <tr>\n",
       "      <th>4855</th>\n",
       "      <td>5068043</td>\n",
       "      <td>F</td>\n",
       "      <td>Y</td>\n",
       "      <td>Y</td>\n",
       "      <td>0</td>\n",
       "      <td>247500.0</td>\n",
       "      <td>Working</td>\n",
       "      <td>Secondary / secondary special</td>\n",
       "      <td>Married</td>\n",
       "      <td>House / apartment</td>\n",
       "      <td>23</td>\n",
       "      <td>-1601</td>\n",
       "      <td>1</td>\n",
       "      <td>0</td>\n",
       "      <td>0</td>\n",
       "      <td>0</td>\n",
       "      <td>Security staff</td>\n",
       "      <td>2.0</td>\n",
       "      <td>-8.0</td>\n",
       "      <td>0</td>\n",
       "    </tr>\n",
       "    <tr>\n",
       "      <th>3168</th>\n",
       "      <td>5069235</td>\n",
       "      <td>F</td>\n",
       "      <td>Y</td>\n",
       "      <td>Y</td>\n",
       "      <td>0</td>\n",
       "      <td>202500.0</td>\n",
       "      <td>State servant</td>\n",
       "      <td>Secondary / secondary special</td>\n",
       "      <td>Married</td>\n",
       "      <td>House / apartment</td>\n",
       "      <td>36</td>\n",
       "      <td>-4646</td>\n",
       "      <td>1</td>\n",
       "      <td>0</td>\n",
       "      <td>0</td>\n",
       "      <td>1</td>\n",
       "      <td>Medicine staff</td>\n",
       "      <td>2.0</td>\n",
       "      <td>-8.0</td>\n",
       "      <td>0</td>\n",
       "    </tr>\n",
       "    <tr>\n",
       "      <th>1061</th>\n",
       "      <td>5046027</td>\n",
       "      <td>M</td>\n",
       "      <td>Y</td>\n",
       "      <td>Y</td>\n",
       "      <td>1</td>\n",
       "      <td>247500.0</td>\n",
       "      <td>State servant</td>\n",
       "      <td>Secondary / secondary special</td>\n",
       "      <td>Married</td>\n",
       "      <td>House / apartment</td>\n",
       "      <td>36</td>\n",
       "      <td>-3579</td>\n",
       "      <td>1</td>\n",
       "      <td>0</td>\n",
       "      <td>0</td>\n",
       "      <td>0</td>\n",
       "      <td>Managers</td>\n",
       "      <td>3.0</td>\n",
       "      <td>-20.0</td>\n",
       "      <td>0</td>\n",
       "    </tr>\n",
       "  </tbody>\n",
       "</table>\n",
       "</div>"
      ],
      "text/plain": [
       "           ID Gender Has a car Has a property  Children count    Income  \\\n",
       "4198  5149286      F         Y              Y               1  225000.0   \n",
       "7098  5118382      M         Y              N               0  270000.0   \n",
       "4599  5146577      M         Y              Y               0  135000.0   \n",
       "5715  5069502      F         Y              Y               0  180000.0   \n",
       "19    5023302      F         Y              Y               1   67500.0   \n",
       "4020  5035843      F         N              Y               1  252000.0   \n",
       "2909  5099984      M         Y              N               0  225000.0   \n",
       "4855  5068043      F         Y              Y               0  247500.0   \n",
       "3168  5069235      F         Y              Y               0  202500.0   \n",
       "1061  5046027      M         Y              Y               1  247500.0   \n",
       "\n",
       "         Employment status                Education level  Marital status  \\\n",
       "4198               Working  Secondary / secondary special  Civil marriage   \n",
       "7098  Commercial associate  Secondary / secondary special         Married   \n",
       "4599               Working  Secondary / secondary special         Married   \n",
       "5715         State servant               Higher education         Married   \n",
       "19    Commercial associate  Secondary / secondary special         Married   \n",
       "4020               Working  Secondary / secondary special       Separated   \n",
       "2909               Working  Secondary / secondary special         Married   \n",
       "4855               Working  Secondary / secondary special         Married   \n",
       "3168         State servant  Secondary / secondary special         Married   \n",
       "1061         State servant  Secondary / secondary special         Married   \n",
       "\n",
       "               Dwelling  Age  Employment length  Has a mobile phone  \\\n",
       "4198  House / apartment   26               -290                   1   \n",
       "7098  House / apartment   11              -2745                   1   \n",
       "4599       With parents   24              -3111                   1   \n",
       "5715  House / apartment   27              -3700                   1   \n",
       "19    House / apartment   36              -3553                   1   \n",
       "4020  House / apartment   18              -7404                   1   \n",
       "2909  House / apartment   31              -2256                   1   \n",
       "4855  House / apartment   23              -1601                   1   \n",
       "3168  House / apartment   36              -4646                   1   \n",
       "1061  House / apartment   36              -3579                   1   \n",
       "\n",
       "      Has a work phone  Has a phone  Has an email       Job title  \\\n",
       "4198                 0            0             0     Sales staff   \n",
       "7098                 1            1             0        Managers   \n",
       "4599                 0            0             0      Core staff   \n",
       "5715                 0            0             0      Core staff   \n",
       "19                   0            0             1             NaN   \n",
       "4020                 0            0             0  Medicine staff   \n",
       "2909                 1            1             0         Drivers   \n",
       "4855                 0            0             0  Security staff   \n",
       "3168                 0            0             1  Medicine staff   \n",
       "1061                 0            0             0        Managers   \n",
       "\n",
       "      Family member count  Account age  Is high risk  \n",
       "4198                  3.0        -31.0             0  \n",
       "7098                  2.0        -38.0             0  \n",
       "4599                  2.0        -30.0             0  \n",
       "5715                  2.0        -37.0             0  \n",
       "19                    3.0         -8.0             0  \n",
       "4020                  2.0        -58.0             0  \n",
       "2909                  2.0        -20.0             0  \n",
       "4855                  2.0         -8.0             0  \n",
       "3168                  2.0         -8.0             0  \n",
       "1061                  3.0        -20.0             0  "
      ]
     },
     "execution_count": 669,
     "metadata": {},
     "output_type": "execute_result"
    }
   ],
   "source": [
    "test_df.sample(10)"
   ]
  },
  {
   "cell_type": "code",
   "execution_count": 670,
   "id": "d3d6a0db",
   "metadata": {},
   "outputs": [
    {
     "data": {
      "text/html": [
       "<div>\n",
       "<style scoped>\n",
       "    .dataframe tbody tr th:only-of-type {\n",
       "        vertical-align: middle;\n",
       "    }\n",
       "\n",
       "    .dataframe tbody tr th {\n",
       "        vertical-align: top;\n",
       "    }\n",
       "\n",
       "    .dataframe thead th {\n",
       "        text-align: right;\n",
       "    }\n",
       "</style>\n",
       "<table border=\"1\" class=\"dataframe\">\n",
       "  <thead>\n",
       "    <tr style=\"text-align: right;\">\n",
       "      <th></th>\n",
       "      <th>ID</th>\n",
       "      <th>Gender</th>\n",
       "      <th>Has a car</th>\n",
       "      <th>Has a property</th>\n",
       "      <th>Children count</th>\n",
       "      <th>Income</th>\n",
       "      <th>Employment status</th>\n",
       "      <th>Education level</th>\n",
       "      <th>Marital status</th>\n",
       "      <th>Dwelling</th>\n",
       "      <th>Age</th>\n",
       "      <th>Employment length</th>\n",
       "      <th>Has a mobile phone</th>\n",
       "      <th>Has a work phone</th>\n",
       "      <th>Has a phone</th>\n",
       "      <th>Has an email</th>\n",
       "      <th>Job title</th>\n",
       "      <th>Family member count</th>\n",
       "      <th>Account age</th>\n",
       "      <th>Is high risk</th>\n",
       "    </tr>\n",
       "  </thead>\n",
       "  <tbody>\n",
       "    <tr>\n",
       "      <th>22677</th>\n",
       "      <td>5009420</td>\n",
       "      <td>F</td>\n",
       "      <td>N</td>\n",
       "      <td>N</td>\n",
       "      <td>0</td>\n",
       "      <td>90000.0</td>\n",
       "      <td>Working</td>\n",
       "      <td>Secondary / secondary special</td>\n",
       "      <td>Single / not married</td>\n",
       "      <td>House / apartment</td>\n",
       "      <td>16</td>\n",
       "      <td>-464</td>\n",
       "      <td>1</td>\n",
       "      <td>1</td>\n",
       "      <td>1</td>\n",
       "      <td>0</td>\n",
       "      <td>Core staff</td>\n",
       "      <td>1.0</td>\n",
       "      <td>-16.0</td>\n",
       "      <td>0</td>\n",
       "    </tr>\n",
       "    <tr>\n",
       "      <th>13557</th>\n",
       "      <td>5044520</td>\n",
       "      <td>F</td>\n",
       "      <td>Y</td>\n",
       "      <td>N</td>\n",
       "      <td>0</td>\n",
       "      <td>202500.0</td>\n",
       "      <td>Commercial associate</td>\n",
       "      <td>Secondary / secondary special</td>\n",
       "      <td>Married</td>\n",
       "      <td>Municipal apartment</td>\n",
       "      <td>29</td>\n",
       "      <td>-829</td>\n",
       "      <td>1</td>\n",
       "      <td>0</td>\n",
       "      <td>0</td>\n",
       "      <td>0</td>\n",
       "      <td>High skill tech staff</td>\n",
       "      <td>2.0</td>\n",
       "      <td>-6.0</td>\n",
       "      <td>0</td>\n",
       "    </tr>\n",
       "    <tr>\n",
       "      <th>7628</th>\n",
       "      <td>5009125</td>\n",
       "      <td>F</td>\n",
       "      <td>N</td>\n",
       "      <td>N</td>\n",
       "      <td>0</td>\n",
       "      <td>157500.0</td>\n",
       "      <td>Commercial associate</td>\n",
       "      <td>Higher education</td>\n",
       "      <td>Separated</td>\n",
       "      <td>With parents</td>\n",
       "      <td>25</td>\n",
       "      <td>-432</td>\n",
       "      <td>1</td>\n",
       "      <td>0</td>\n",
       "      <td>0</td>\n",
       "      <td>0</td>\n",
       "      <td>NaN</td>\n",
       "      <td>1.0</td>\n",
       "      <td>-46.0</td>\n",
       "      <td>0</td>\n",
       "    </tr>\n",
       "    <tr>\n",
       "      <th>9517</th>\n",
       "      <td>5066522</td>\n",
       "      <td>F</td>\n",
       "      <td>N</td>\n",
       "      <td>Y</td>\n",
       "      <td>0</td>\n",
       "      <td>144000.0</td>\n",
       "      <td>Working</td>\n",
       "      <td>Secondary / secondary special</td>\n",
       "      <td>Married</td>\n",
       "      <td>House / apartment</td>\n",
       "      <td>14</td>\n",
       "      <td>-10780</td>\n",
       "      <td>1</td>\n",
       "      <td>1</td>\n",
       "      <td>1</td>\n",
       "      <td>0</td>\n",
       "      <td>Laborers</td>\n",
       "      <td>2.0</td>\n",
       "      <td>-8.0</td>\n",
       "      <td>0</td>\n",
       "    </tr>\n",
       "    <tr>\n",
       "      <th>12160</th>\n",
       "      <td>5139703</td>\n",
       "      <td>F</td>\n",
       "      <td>N</td>\n",
       "      <td>Y</td>\n",
       "      <td>0</td>\n",
       "      <td>180000.0</td>\n",
       "      <td>Pensioner</td>\n",
       "      <td>Higher education</td>\n",
       "      <td>Separated</td>\n",
       "      <td>House / apartment</td>\n",
       "      <td>3</td>\n",
       "      <td>365243</td>\n",
       "      <td>1</td>\n",
       "      <td>0</td>\n",
       "      <td>0</td>\n",
       "      <td>0</td>\n",
       "      <td>NaN</td>\n",
       "      <td>1.0</td>\n",
       "      <td>-60.0</td>\n",
       "      <td>0</td>\n",
       "    </tr>\n",
       "  </tbody>\n",
       "</table>\n",
       "</div>"
      ],
      "text/plain": [
       "            ID Gender Has a car Has a property  Children count    Income  \\\n",
       "22677  5009420      F         N              N               0   90000.0   \n",
       "13557  5044520      F         Y              N               0  202500.0   \n",
       "7628   5009125      F         N              N               0  157500.0   \n",
       "9517   5066522      F         N              Y               0  144000.0   \n",
       "12160  5139703      F         N              Y               0  180000.0   \n",
       "\n",
       "          Employment status                Education level  \\\n",
       "22677               Working  Secondary / secondary special   \n",
       "13557  Commercial associate  Secondary / secondary special   \n",
       "7628   Commercial associate               Higher education   \n",
       "9517                Working  Secondary / secondary special   \n",
       "12160             Pensioner               Higher education   \n",
       "\n",
       "             Marital status             Dwelling  Age  Employment length  \\\n",
       "22677  Single / not married    House / apartment   16               -464   \n",
       "13557               Married  Municipal apartment   29               -829   \n",
       "7628              Separated         With parents   25               -432   \n",
       "9517                Married    House / apartment   14             -10780   \n",
       "12160             Separated    House / apartment    3             365243   \n",
       "\n",
       "       Has a mobile phone  Has a work phone  Has a phone  Has an email  \\\n",
       "22677                   1                 1            1             0   \n",
       "13557                   1                 0            0             0   \n",
       "7628                    1                 0            0             0   \n",
       "9517                    1                 1            1             0   \n",
       "12160                   1                 0            0             0   \n",
       "\n",
       "                   Job title  Family member count  Account age  Is high risk  \n",
       "22677             Core staff                  1.0        -16.0             0  \n",
       "13557  High skill tech staff                  2.0         -6.0             0  \n",
       "7628                     NaN                  1.0        -46.0             0  \n",
       "9517                Laborers                  2.0         -8.0             0  \n",
       "12160                    NaN                  1.0        -60.0             0  "
      ]
     },
     "execution_count": 670,
     "metadata": {},
     "output_type": "execute_result"
    }
   ],
   "source": [
    "train_df.sample(5)"
   ]
  },
  {
   "cell_type": "markdown",
   "id": "67c08ada",
   "metadata": {},
   "source": [
    "### Correcting and scaling of 'Employment length'"
   ]
  },
  {
   "cell_type": "code",
   "execution_count": 671,
   "id": "7b33aaa2",
   "metadata": {},
   "outputs": [],
   "source": [
    "## Test dataset\n",
    "df1=test_df[test_df['Employment length']<365243]\n"
   ]
  },
  {
   "cell_type": "code",
   "execution_count": 672,
   "id": "eaa08b91",
   "metadata": {},
   "outputs": [
    {
     "data": {
      "text/plain": [
       "365243"
      ]
     },
     "execution_count": 672,
     "metadata": {},
     "output_type": "execute_result"
    }
   ],
   "source": [
    "train_df['Employment length'].max()"
   ]
  },
  {
   "cell_type": "code",
   "execution_count": 673,
   "id": "aef177ad",
   "metadata": {},
   "outputs": [],
   "source": [
    "df2=train_df[train_df['Employment length']<365243]\n"
   ]
  },
  {
   "cell_type": "code",
   "execution_count": 674,
   "id": "25e670a2",
   "metadata": {
    "scrolled": true
   },
   "outputs": [
    {
     "data": {
      "text/plain": [
       "-17"
      ]
     },
     "execution_count": 674,
     "metadata": {},
     "output_type": "execute_result"
    }
   ],
   "source": [
    "df1['Employment length'].max()"
   ]
  },
  {
   "cell_type": "code",
   "execution_count": 675,
   "id": "4ce43b4d",
   "metadata": {},
   "outputs": [
    {
     "data": {
      "text/plain": [
       "-17"
      ]
     },
     "execution_count": 675,
     "metadata": {},
     "output_type": "execute_result"
    }
   ],
   "source": [
    "df2['Employment length'].max()"
   ]
  },
  {
   "cell_type": "code",
   "execution_count": 676,
   "id": "b4a4e7f7",
   "metadata": {},
   "outputs": [],
   "source": [
    "newtestdf=test_df['Employment length'].replace(365243,-17)"
   ]
  },
  {
   "cell_type": "code",
   "execution_count": 677,
   "id": "c28dea21",
   "metadata": {},
   "outputs": [
    {
     "data": {
      "text/plain": [
       "0      -1692\n",
       "1       -948\n",
       "2      -5215\n",
       "3       -456\n",
       "4       -667\n",
       "        ... \n",
       "7287   -1351\n",
       "7288   -3550\n",
       "7289   -5030\n",
       "7290   -6678\n",
       "7291   -2196\n",
       "Name: Employment length, Length: 7292, dtype: int64"
      ]
     },
     "execution_count": 677,
     "metadata": {},
     "output_type": "execute_result"
    }
   ],
   "source": [
    "newtestdf"
   ]
  },
  {
   "cell_type": "code",
   "execution_count": 678,
   "id": "c36c8061",
   "metadata": {},
   "outputs": [
    {
     "data": {
      "text/plain": [
       "-15661"
      ]
     },
     "execution_count": 678,
     "metadata": {},
     "output_type": "execute_result"
    }
   ],
   "source": [
    "newtestdf.min()"
   ]
  },
  {
   "cell_type": "code",
   "execution_count": 679,
   "id": "1fa68f5a",
   "metadata": {},
   "outputs": [
    {
     "data": {
      "text/plain": [
       "-17"
      ]
     },
     "execution_count": 679,
     "metadata": {},
     "output_type": "execute_result"
    }
   ],
   "source": [
    "newtestdf.max()"
   ]
  },
  {
   "cell_type": "code",
   "execution_count": 680,
   "id": "86b1fd03",
   "metadata": {},
   "outputs": [
    {
     "data": {
      "text/plain": [
       "7292"
      ]
     },
     "execution_count": 680,
     "metadata": {},
     "output_type": "execute_result"
    }
   ],
   "source": [
    "newtestdf.value_counts().sum()"
   ]
  },
  {
   "cell_type": "code",
   "execution_count": 681,
   "id": "4b263af4",
   "metadata": {},
   "outputs": [],
   "source": [
    "newtestdf=(newtestdf+15661)/365.4 ## In years"
   ]
  },
  {
   "cell_type": "code",
   "execution_count": 682,
   "id": "28dd35c7",
   "metadata": {},
   "outputs": [
    {
     "data": {
      "text/plain": [
       "0       38.229338\n",
       "1       40.265463\n",
       "2       28.587849\n",
       "3       41.611932\n",
       "4       41.034483\n",
       "          ...    \n",
       "7287    39.162562\n",
       "7288    33.144499\n",
       "7289    29.094143\n",
       "7290    24.584018\n",
       "7291    36.850027\n",
       "Name: Employment length, Length: 7292, dtype: float64"
      ]
     },
     "execution_count": 682,
     "metadata": {},
     "output_type": "execute_result"
    }
   ],
   "source": [
    "newtestdf"
   ]
  },
  {
   "cell_type": "code",
   "execution_count": 683,
   "id": "b74c6184",
   "metadata": {},
   "outputs": [
    {
     "data": {
      "text/plain": [
       "0       38\n",
       "1       40\n",
       "2       28\n",
       "3       41\n",
       "4       41\n",
       "        ..\n",
       "7287    39\n",
       "7288    33\n",
       "7289    29\n",
       "7290    24\n",
       "7291    36\n",
       "Name: Employment length, Length: 7292, dtype: int64"
      ]
     },
     "execution_count": 683,
     "metadata": {},
     "output_type": "execute_result"
    }
   ],
   "source": [
    "newtestdf=newtestdf.apply(math.floor)\n",
    "newtestdf"
   ]
  },
  {
   "cell_type": "code",
   "execution_count": 684,
   "id": "601669c3",
   "metadata": {},
   "outputs": [
    {
     "data": {
      "text/plain": [
       "0"
      ]
     },
     "execution_count": 684,
     "metadata": {},
     "output_type": "execute_result"
    }
   ],
   "source": [
    "newtestdf.min()"
   ]
  },
  {
   "cell_type": "code",
   "execution_count": 685,
   "id": "6fc5e87a",
   "metadata": {},
   "outputs": [
    {
     "data": {
      "text/plain": [
       "42"
      ]
     },
     "execution_count": 685,
     "metadata": {},
     "output_type": "execute_result"
    }
   ],
   "source": [
    "newtestdf.max()"
   ]
  },
  {
   "cell_type": "code",
   "execution_count": 686,
   "id": "ac5a77fc",
   "metadata": {},
   "outputs": [
    {
     "data": {
      "text/plain": [
       "<bound method IndexOpsMixin.value_counts of 0       38\n",
       "1       40\n",
       "2       28\n",
       "3       41\n",
       "4       41\n",
       "        ..\n",
       "7287    39\n",
       "7288    33\n",
       "7289    29\n",
       "7290    24\n",
       "7291    36\n",
       "Name: Employment length, Length: 7292, dtype: int64>"
      ]
     },
     "execution_count": 686,
     "metadata": {},
     "output_type": "execute_result"
    }
   ],
   "source": [
    "newtestdf.value_counts"
   ]
  },
  {
   "cell_type": "code",
   "execution_count": 687,
   "id": "028c782e",
   "metadata": {},
   "outputs": [],
   "source": [
    "### Training dataset"
   ]
  },
  {
   "cell_type": "code",
   "execution_count": 688,
   "id": "11f03451",
   "metadata": {},
   "outputs": [],
   "source": [
    "newtraindf=train_df['Employment length'].replace(365243,-17)"
   ]
  },
  {
   "cell_type": "code",
   "execution_count": 689,
   "id": "9a71b5c6",
   "metadata": {},
   "outputs": [
    {
     "data": {
      "text/plain": [
       "-15713"
      ]
     },
     "execution_count": 689,
     "metadata": {},
     "output_type": "execute_result"
    }
   ],
   "source": [
    "newtraindf.min()"
   ]
  },
  {
   "cell_type": "code",
   "execution_count": 690,
   "id": "d877ea50",
   "metadata": {},
   "outputs": [
    {
     "data": {
      "text/plain": [
       "-17"
      ]
     },
     "execution_count": 690,
     "metadata": {},
     "output_type": "execute_result"
    }
   ],
   "source": [
    "newtraindf.max()"
   ]
  },
  {
   "cell_type": "code",
   "execution_count": 691,
   "id": "65bb88c3",
   "metadata": {},
   "outputs": [
    {
     "data": {
      "text/plain": [
       "29165"
      ]
     },
     "execution_count": 691,
     "metadata": {},
     "output_type": "execute_result"
    }
   ],
   "source": [
    "newtraindf.value_counts().sum()"
   ]
  },
  {
   "cell_type": "code",
   "execution_count": 692,
   "id": "5021195e",
   "metadata": {},
   "outputs": [],
   "source": [
    "newtraindf=(newtraindf+15713)/365.4 ## In years"
   ]
  },
  {
   "cell_type": "code",
   "execution_count": 693,
   "id": "3b51792d",
   "metadata": {},
   "outputs": [
    {
     "data": {
      "text/plain": [
       "0        34.488232\n",
       "1        38.483853\n",
       "2        27.520525\n",
       "3        37.402846\n",
       "4        41.592775\n",
       "           ...    \n",
       "29160    42.955665\n",
       "29161    20.407772\n",
       "29162    33.995621\n",
       "29163    42.955665\n",
       "29164    37.501368\n",
       "Name: Employment length, Length: 29165, dtype: float64"
      ]
     },
     "execution_count": 693,
     "metadata": {},
     "output_type": "execute_result"
    }
   ],
   "source": [
    "newtraindf"
   ]
  },
  {
   "cell_type": "code",
   "execution_count": 694,
   "id": "4d9592cb",
   "metadata": {},
   "outputs": [
    {
     "data": {
      "text/plain": [
       "0        34\n",
       "1        38\n",
       "2        27\n",
       "3        37\n",
       "4        41\n",
       "         ..\n",
       "29160    42\n",
       "29161    20\n",
       "29162    33\n",
       "29163    42\n",
       "29164    37\n",
       "Name: Employment length, Length: 29165, dtype: int64"
      ]
     },
     "execution_count": 694,
     "metadata": {},
     "output_type": "execute_result"
    }
   ],
   "source": [
    "newtraindf=newtraindf.apply(math.floor)\n",
    "newtraindf"
   ]
  },
  {
   "cell_type": "code",
   "execution_count": 695,
   "id": "4f3daa9e",
   "metadata": {},
   "outputs": [
    {
     "data": {
      "text/plain": [
       "0"
      ]
     },
     "execution_count": 695,
     "metadata": {},
     "output_type": "execute_result"
    }
   ],
   "source": [
    "newtraindf.min()"
   ]
  },
  {
   "cell_type": "code",
   "execution_count": 696,
   "id": "a767931e",
   "metadata": {},
   "outputs": [
    {
     "data": {
      "text/plain": [
       "42"
      ]
     },
     "execution_count": 696,
     "metadata": {},
     "output_type": "execute_result"
    }
   ],
   "source": [
    "newtraindf.max()"
   ]
  },
  {
   "cell_type": "code",
   "execution_count": 697,
   "id": "05600cfa",
   "metadata": {},
   "outputs": [],
   "source": [
    "### Correcting the 'Employment length'.  Duration of the applicant's current employment\n",
    "test_df['Employment length']=newtestdf"
   ]
  },
  {
   "cell_type": "code",
   "execution_count": 698,
   "id": "f8c68a18",
   "metadata": {},
   "outputs": [
    {
     "data": {
      "text/html": [
       "<div>\n",
       "<style scoped>\n",
       "    .dataframe tbody tr th:only-of-type {\n",
       "        vertical-align: middle;\n",
       "    }\n",
       "\n",
       "    .dataframe tbody tr th {\n",
       "        vertical-align: top;\n",
       "    }\n",
       "\n",
       "    .dataframe thead th {\n",
       "        text-align: right;\n",
       "    }\n",
       "</style>\n",
       "<table border=\"1\" class=\"dataframe\">\n",
       "  <thead>\n",
       "    <tr style=\"text-align: right;\">\n",
       "      <th></th>\n",
       "      <th>ID</th>\n",
       "      <th>Gender</th>\n",
       "      <th>Has a car</th>\n",
       "      <th>Has a property</th>\n",
       "      <th>Children count</th>\n",
       "      <th>Income</th>\n",
       "      <th>Employment status</th>\n",
       "      <th>Education level</th>\n",
       "      <th>Marital status</th>\n",
       "      <th>Dwelling</th>\n",
       "      <th>Age</th>\n",
       "      <th>Employment length</th>\n",
       "      <th>Has a mobile phone</th>\n",
       "      <th>Has a work phone</th>\n",
       "      <th>Has a phone</th>\n",
       "      <th>Has an email</th>\n",
       "      <th>Job title</th>\n",
       "      <th>Family member count</th>\n",
       "      <th>Account age</th>\n",
       "      <th>Is high risk</th>\n",
       "    </tr>\n",
       "  </thead>\n",
       "  <tbody>\n",
       "    <tr>\n",
       "      <th>303</th>\n",
       "      <td>5135462</td>\n",
       "      <td>F</td>\n",
       "      <td>N</td>\n",
       "      <td>Y</td>\n",
       "      <td>3</td>\n",
       "      <td>37800.0</td>\n",
       "      <td>Pensioner</td>\n",
       "      <td>Secondary / secondary special</td>\n",
       "      <td>Married</td>\n",
       "      <td>House / apartment</td>\n",
       "      <td>33</td>\n",
       "      <td>42</td>\n",
       "      <td>1</td>\n",
       "      <td>0</td>\n",
       "      <td>0</td>\n",
       "      <td>0</td>\n",
       "      <td>NaN</td>\n",
       "      <td>5.0</td>\n",
       "      <td>-1.0</td>\n",
       "      <td>0</td>\n",
       "    </tr>\n",
       "    <tr>\n",
       "      <th>7242</th>\n",
       "      <td>5025850</td>\n",
       "      <td>F</td>\n",
       "      <td>N</td>\n",
       "      <td>Y</td>\n",
       "      <td>0</td>\n",
       "      <td>49500.0</td>\n",
       "      <td>Pensioner</td>\n",
       "      <td>Secondary / secondary special</td>\n",
       "      <td>Married</td>\n",
       "      <td>House / apartment</td>\n",
       "      <td>7</td>\n",
       "      <td>42</td>\n",
       "      <td>1</td>\n",
       "      <td>0</td>\n",
       "      <td>0</td>\n",
       "      <td>0</td>\n",
       "      <td>NaN</td>\n",
       "      <td>2.0</td>\n",
       "      <td>-55.0</td>\n",
       "      <td>0</td>\n",
       "    </tr>\n",
       "  </tbody>\n",
       "</table>\n",
       "</div>"
      ],
      "text/plain": [
       "           ID Gender Has a car Has a property  Children count   Income  \\\n",
       "303   5135462      F         N              Y               3  37800.0   \n",
       "7242  5025850      F         N              Y               0  49500.0   \n",
       "\n",
       "     Employment status                Education level Marital status  \\\n",
       "303          Pensioner  Secondary / secondary special        Married   \n",
       "7242         Pensioner  Secondary / secondary special        Married   \n",
       "\n",
       "               Dwelling  Age  Employment length  Has a mobile phone  \\\n",
       "303   House / apartment   33                 42                   1   \n",
       "7242  House / apartment    7                 42                   1   \n",
       "\n",
       "      Has a work phone  Has a phone  Has an email Job title  \\\n",
       "303                  0            0             0       NaN   \n",
       "7242                 0            0             0       NaN   \n",
       "\n",
       "      Family member count  Account age  Is high risk  \n",
       "303                   5.0         -1.0             0  \n",
       "7242                  2.0        -55.0             0  "
      ]
     },
     "execution_count": 698,
     "metadata": {},
     "output_type": "execute_result"
    }
   ],
   "source": [
    "test_df.sample(2)"
   ]
  },
  {
   "cell_type": "code",
   "execution_count": 699,
   "id": "21b3f5eb",
   "metadata": {},
   "outputs": [],
   "source": [
    "### Correcting the 'Employment length'.  Duration of the applicant's current employment\n",
    "train_df['Employment length']=newtraindf"
   ]
  },
  {
   "cell_type": "code",
   "execution_count": 700,
   "id": "27525afd",
   "metadata": {},
   "outputs": [
    {
     "data": {
      "text/html": [
       "<div>\n",
       "<style scoped>\n",
       "    .dataframe tbody tr th:only-of-type {\n",
       "        vertical-align: middle;\n",
       "    }\n",
       "\n",
       "    .dataframe tbody tr th {\n",
       "        vertical-align: top;\n",
       "    }\n",
       "\n",
       "    .dataframe thead th {\n",
       "        text-align: right;\n",
       "    }\n",
       "</style>\n",
       "<table border=\"1\" class=\"dataframe\">\n",
       "  <thead>\n",
       "    <tr style=\"text-align: right;\">\n",
       "      <th></th>\n",
       "      <th>ID</th>\n",
       "      <th>Gender</th>\n",
       "      <th>Has a car</th>\n",
       "      <th>Has a property</th>\n",
       "      <th>Children count</th>\n",
       "      <th>Income</th>\n",
       "      <th>Employment status</th>\n",
       "      <th>Education level</th>\n",
       "      <th>Marital status</th>\n",
       "      <th>Dwelling</th>\n",
       "      <th>Age</th>\n",
       "      <th>Employment length</th>\n",
       "      <th>Has a mobile phone</th>\n",
       "      <th>Has a work phone</th>\n",
       "      <th>Has a phone</th>\n",
       "      <th>Has an email</th>\n",
       "      <th>Job title</th>\n",
       "      <th>Family member count</th>\n",
       "      <th>Account age</th>\n",
       "      <th>Is high risk</th>\n",
       "    </tr>\n",
       "  </thead>\n",
       "  <tbody>\n",
       "    <tr>\n",
       "      <th>25504</th>\n",
       "      <td>5042143</td>\n",
       "      <td>F</td>\n",
       "      <td>N</td>\n",
       "      <td>N</td>\n",
       "      <td>0</td>\n",
       "      <td>247500.0</td>\n",
       "      <td>Working</td>\n",
       "      <td>Higher education</td>\n",
       "      <td>Married</td>\n",
       "      <td>House / apartment</td>\n",
       "      <td>30</td>\n",
       "      <td>22</td>\n",
       "      <td>1</td>\n",
       "      <td>1</td>\n",
       "      <td>1</td>\n",
       "      <td>0</td>\n",
       "      <td>Managers</td>\n",
       "      <td>2.0</td>\n",
       "      <td>-5.0</td>\n",
       "      <td>0</td>\n",
       "    </tr>\n",
       "    <tr>\n",
       "      <th>23142</th>\n",
       "      <td>5135479</td>\n",
       "      <td>F</td>\n",
       "      <td>N</td>\n",
       "      <td>N</td>\n",
       "      <td>2</td>\n",
       "      <td>121500.0</td>\n",
       "      <td>Working</td>\n",
       "      <td>Secondary / secondary special</td>\n",
       "      <td>Married</td>\n",
       "      <td>With parents</td>\n",
       "      <td>41</td>\n",
       "      <td>41</td>\n",
       "      <td>1</td>\n",
       "      <td>0</td>\n",
       "      <td>0</td>\n",
       "      <td>0</td>\n",
       "      <td>Medicine staff</td>\n",
       "      <td>4.0</td>\n",
       "      <td>-2.0</td>\n",
       "      <td>0</td>\n",
       "    </tr>\n",
       "  </tbody>\n",
       "</table>\n",
       "</div>"
      ],
      "text/plain": [
       "            ID Gender Has a car Has a property  Children count    Income  \\\n",
       "25504  5042143      F         N              N               0  247500.0   \n",
       "23142  5135479      F         N              N               2  121500.0   \n",
       "\n",
       "      Employment status                Education level Marital status  \\\n",
       "25504           Working               Higher education        Married   \n",
       "23142           Working  Secondary / secondary special        Married   \n",
       "\n",
       "                Dwelling  Age  Employment length  Has a mobile phone  \\\n",
       "25504  House / apartment   30                 22                   1   \n",
       "23142       With parents   41                 41                   1   \n",
       "\n",
       "       Has a work phone  Has a phone  Has an email       Job title  \\\n",
       "25504                 1            1             0        Managers   \n",
       "23142                 0            0             0  Medicine staff   \n",
       "\n",
       "       Family member count  Account age  Is high risk  \n",
       "25504                  2.0         -5.0             0  \n",
       "23142                  4.0         -2.0             0  "
      ]
     },
     "execution_count": 700,
     "metadata": {},
     "output_type": "execute_result"
    }
   ],
   "source": [
    "train_df.sample(2)"
   ]
  },
  {
   "cell_type": "markdown",
   "id": "de023c68",
   "metadata": {},
   "source": [
    "### Outliers detection and removal"
   ]
  },
  {
   "cell_type": "code",
   "execution_count": 701,
   "id": "2d52ecaa",
   "metadata": {},
   "outputs": [],
   "source": [
    "import matplotlib.pyplot as plt"
   ]
  },
  {
   "cell_type": "code",
   "execution_count": 702,
   "id": "496f2a5b",
   "metadata": {},
   "outputs": [
    {
     "data": {
      "image/png": "[encoded data removed]",
      "text/plain": [
       "<Figure size 1600x1000 with 6 Axes>"
      ]
     },
     "metadata": {},
     "output_type": "display_data"
    }
   ],
   "source": [
    "\n",
    "plt.figure(figsize=(16,10))\n",
    "plt.subplot(3,2,1)\n",
    "sns.boxplot(test_df['Children count'])\n",
    "\n",
    "plt.subplot(3,2,2)\n",
    "sns.boxplot(test_df['Income'])\n",
    "\n",
    "plt.subplot(3,2,3)\n",
    "sns.boxplot(test_df['Age'])\n",
    "\n",
    "plt.subplot(3,2,4)\n",
    "sns.boxplot(test_df['Employment length'])\n",
    "\n",
    "plt.subplot(3,2,5)\n",
    "sns.boxplot(test_df['Has a mobile phone'])\n",
    "\n",
    "plt.subplot(3,2,6)\n",
    "sns.boxplot(test_df['Has a work phone'])\n",
    "\n",
    "plt.show()"
   ]
  },
  {
   "cell_type": "code",
   "execution_count": 703,
   "id": "2cef4b30",
   "metadata": {},
   "outputs": [
    {
     "data": {
      "image/png": "[encoded data removed]",
      "text/plain": [
       "<Figure size 1600x1000 with 6 Axes>"
      ]
     },
     "metadata": {},
     "output_type": "display_data"
    }
   ],
   "source": [
    "plt.figure(figsize=(16,10))\n",
    "plt.subplot(3,2,1)\n",
    "sns.boxplot(train_df['Children count'])\n",
    "\n",
    "plt.subplot(3,2,2)\n",
    "sns.boxplot(train_df['Income'])\n",
    "\n",
    "plt.subplot(3,2,3)\n",
    "sns.boxplot(train_df['Age'])\n",
    "\n",
    "plt.subplot(3,2,4)\n",
    "sns.boxplot(train_df['Employment length'])\n",
    "\n",
    "plt.subplot(3,2,5)\n",
    "sns.boxplot(train_df['Has a mobile phone'])\n",
    "\n",
    "plt.subplot(3,2,6)\n",
    "sns.boxplot(train_df['Has a work phone'])\n",
    "\n",
    "plt.show()"
   ]
  },
  {
   "cell_type": "code",
   "execution_count": 704,
   "id": "eba26fb9",
   "metadata": {
    "scrolled": true
   },
   "outputs": [
    {
     "data": {
      "text/plain": [
       "900000.0     11\n",
       "720000.0      7\n",
       "765000.0      4\n",
       "787500.0      4\n",
       "810000.0      2\n",
       "1350000.0     1\n",
       "1575000.0     1\n",
       "990000.0      1\n",
       "742500.0      1\n",
       "945000.0      1\n",
       "Name: Income, dtype: int64"
      ]
     },
     "execution_count": 704,
     "metadata": {},
     "output_type": "execute_result"
    }
   ],
   "source": [
    "### Remove outliers from 'Income'\n",
    "test_df[ (test_df['Income']  >700000)]['Income'].value_counts()"
   ]
  },
  {
   "cell_type": "code",
   "execution_count": 705,
   "id": "feec49d6",
   "metadata": {},
   "outputs": [],
   "source": [
    "# Replace 'Income' values greater than 700000 with 700000\n",
    "test_df.loc[test_df['Income'] > 700000, 'Income'] = 700000\n"
   ]
  },
  {
   "cell_type": "code",
   "execution_count": 706,
   "id": "b7f1a49f",
   "metadata": {},
   "outputs": [
    {
     "data": {
      "text/plain": [
       "Series([], Name: Income, dtype: int64)"
      ]
     },
     "execution_count": 706,
     "metadata": {},
     "output_type": "execute_result"
    }
   ],
   "source": [
    "test_df[ (test_df['Income']  >700000)]['Income'].value_counts()"
   ]
  },
  {
   "cell_type": "code",
   "execution_count": 707,
   "id": "e5332dd5",
   "metadata": {},
   "outputs": [
    {
     "data": {
      "text/plain": [
       "900000.0     28\n",
       "810000.0     13\n",
       "720000.0     12\n",
       "1575000.0     7\n",
       "1350000.0     5\n",
       "765000.0      5\n",
       "742500.0      4\n",
       "945000.0      3\n",
       "990000.0      3\n",
       "1125000.0     3\n",
       "716323.5      2\n",
       "787500.0      1\n",
       "Name: Income, dtype: int64"
      ]
     },
     "execution_count": 707,
     "metadata": {},
     "output_type": "execute_result"
    }
   ],
   "source": [
    "train_df[ (train_df['Income']  >700000)]['Income'].value_counts()"
   ]
  },
  {
   "cell_type": "code",
   "execution_count": 708,
   "id": "7cba37e0",
   "metadata": {},
   "outputs": [],
   "source": [
    "# Replace 'Income' values greater than 700000 with 700000\n",
    "train_df.loc[train_df['Income'] > 700000, 'Income'] = 700000"
   ]
  },
  {
   "cell_type": "code",
   "execution_count": 709,
   "id": "468915ea",
   "metadata": {},
   "outputs": [
    {
     "data": {
      "text/plain": [
       "Series([], Name: Income, dtype: int64)"
      ]
     },
     "execution_count": 709,
     "metadata": {},
     "output_type": "execute_result"
    }
   ],
   "source": [
    "train_df[ (train_df['Income']  >700000)]['Income'].value_counts()"
   ]
  },
  {
   "cell_type": "code",
   "execution_count": 710,
   "id": "02189439",
   "metadata": {
    "scrolled": true
   },
   "outputs": [
    {
     "data": {
      "text/plain": [
       "<Axes: >"
      ]
     },
     "execution_count": 710,
     "metadata": {},
     "output_type": "execute_result"
    },
    {
     "data": {
      "image/png": "[encoded data removed]",
      "text/plain": [
       "<Figure size 640x480 with 1 Axes>"
      ]
     },
     "metadata": {},
     "output_type": "display_data"
    }
   ],
   "source": [
    "# plt.subplot(3,2,4)\n",
    "sns.boxplot(test_df['Income'])"
   ]
  },
  {
   "cell_type": "code",
   "execution_count": 711,
   "id": "aaca2c03",
   "metadata": {},
   "outputs": [
    {
     "data": {
      "text/plain": [
       "<Axes: >"
      ]
     },
     "execution_count": 711,
     "metadata": {},
     "output_type": "execute_result"
    },
    {
     "data": {
      "image/png": "[encoded data removed]",
      "text/plain": [
       "<Figure size 640x480 with 1 Axes>"
      ]
     },
     "metadata": {},
     "output_type": "display_data"
    }
   ],
   "source": [
    "sns.boxplot(train_df['Income'])"
   ]
  },
  {
   "cell_type": "markdown",
   "id": "7a828e38",
   "metadata": {},
   "source": [
    "### Correcting and scaling of 'Account age'"
   ]
  },
  {
   "cell_type": "code",
   "execution_count": 712,
   "id": "a5db745a",
   "metadata": {},
   "outputs": [
    {
     "data": {
      "text/plain": [
       "0       -6.0\n",
       "1      -16.0\n",
       "2      -52.0\n",
       "3      -54.0\n",
       "4      -48.0\n",
       "        ... \n",
       "7287   -22.0\n",
       "7288   -42.0\n",
       "7289   -25.0\n",
       "7290   -49.0\n",
       "7291   -36.0\n",
       "Name: Account age, Length: 7292, dtype: float64"
      ]
     },
     "execution_count": 712,
     "metadata": {},
     "output_type": "execute_result"
    }
   ],
   "source": [
    "test_df['Account age']"
   ]
  },
  {
   "cell_type": "code",
   "execution_count": 713,
   "id": "3ba17eef",
   "metadata": {},
   "outputs": [
    {
     "data": {
      "text/plain": [
       "0.0"
      ]
     },
     "execution_count": 713,
     "metadata": {},
     "output_type": "execute_result"
    }
   ],
   "source": [
    "test_df['Account age'].max()"
   ]
  },
  {
   "cell_type": "code",
   "execution_count": 714,
   "id": "9e36a14f",
   "metadata": {},
   "outputs": [
    {
     "data": {
      "text/plain": [
       "-60.0"
      ]
     },
     "execution_count": 714,
     "metadata": {},
     "output_type": "execute_result"
    }
   ],
   "source": [
    "test_df['Account age'].min()"
   ]
  },
  {
   "cell_type": "code",
   "execution_count": 715,
   "id": "15fbfb3b",
   "metadata": {},
   "outputs": [
    {
     "data": {
      "text/plain": [
       "0       54.0\n",
       "1       44.0\n",
       "2        8.0\n",
       "3        6.0\n",
       "4       12.0\n",
       "        ... \n",
       "7287    38.0\n",
       "7288    18.0\n",
       "7289    35.0\n",
       "7290    11.0\n",
       "7291    24.0\n",
       "Name: Account age, Length: 7292, dtype: float64"
      ]
     },
     "execution_count": 715,
     "metadata": {},
     "output_type": "execute_result"
    }
   ],
   "source": [
    "dataFrame=test_df['Account age']+60\n",
    "dataFrame"
   ]
  },
  {
   "cell_type": "code",
   "execution_count": 716,
   "id": "61defc6e",
   "metadata": {},
   "outputs": [
    {
     "data": {
      "text/plain": [
       "<Axes: >"
      ]
     },
     "execution_count": 716,
     "metadata": {},
     "output_type": "execute_result"
    },
    {
     "data": {
      "image/png": "[encoded data removed]",
      "text/plain": [
       "<Figure size 640x480 with 1 Axes>"
      ]
     },
     "metadata": {},
     "output_type": "display_data"
    }
   ],
   "source": [
    "sns.boxplot(dataFrame)"
   ]
  },
  {
   "cell_type": "code",
   "execution_count": 717,
   "id": "aba30a35",
   "metadata": {},
   "outputs": [],
   "source": [
    "test_df['Account age']=dataFrame"
   ]
  },
  {
   "cell_type": "code",
   "execution_count": 718,
   "id": "798f7ec9",
   "metadata": {},
   "outputs": [
    {
     "data": {
      "text/html": [
       "<div>\n",
       "<style scoped>\n",
       "    .dataframe tbody tr th:only-of-type {\n",
       "        vertical-align: middle;\n",
       "    }\n",
       "\n",
       "    .dataframe tbody tr th {\n",
       "        vertical-align: top;\n",
       "    }\n",
       "\n",
       "    .dataframe thead th {\n",
       "        text-align: right;\n",
       "    }\n",
       "</style>\n",
       "<table border=\"1\" class=\"dataframe\">\n",
       "  <thead>\n",
       "    <tr style=\"text-align: right;\">\n",
       "      <th></th>\n",
       "      <th>ID</th>\n",
       "      <th>Gender</th>\n",
       "      <th>Has a car</th>\n",
       "      <th>Has a property</th>\n",
       "      <th>Children count</th>\n",
       "      <th>Income</th>\n",
       "      <th>Employment status</th>\n",
       "      <th>Education level</th>\n",
       "      <th>Marital status</th>\n",
       "      <th>Dwelling</th>\n",
       "      <th>Age</th>\n",
       "      <th>Employment length</th>\n",
       "      <th>Has a mobile phone</th>\n",
       "      <th>Has a work phone</th>\n",
       "      <th>Has a phone</th>\n",
       "      <th>Has an email</th>\n",
       "      <th>Job title</th>\n",
       "      <th>Family member count</th>\n",
       "      <th>Account age</th>\n",
       "      <th>Is high risk</th>\n",
       "    </tr>\n",
       "  </thead>\n",
       "  <tbody>\n",
       "    <tr>\n",
       "      <th>310</th>\n",
       "      <td>5068715</td>\n",
       "      <td>M</td>\n",
       "      <td>Y</td>\n",
       "      <td>Y</td>\n",
       "      <td>0</td>\n",
       "      <td>180000.0</td>\n",
       "      <td>Working</td>\n",
       "      <td>Secondary / secondary special</td>\n",
       "      <td>Married</td>\n",
       "      <td>House / apartment</td>\n",
       "      <td>43</td>\n",
       "      <td>38</td>\n",
       "      <td>1</td>\n",
       "      <td>0</td>\n",
       "      <td>0</td>\n",
       "      <td>0</td>\n",
       "      <td>Laborers</td>\n",
       "      <td>2.0</td>\n",
       "      <td>26.0</td>\n",
       "      <td>0</td>\n",
       "    </tr>\n",
       "    <tr>\n",
       "      <th>2510</th>\n",
       "      <td>5115906</td>\n",
       "      <td>F</td>\n",
       "      <td>N</td>\n",
       "      <td>Y</td>\n",
       "      <td>1</td>\n",
       "      <td>157500.0</td>\n",
       "      <td>Commercial associate</td>\n",
       "      <td>Secondary / secondary special</td>\n",
       "      <td>Civil marriage</td>\n",
       "      <td>House / apartment</td>\n",
       "      <td>28</td>\n",
       "      <td>41</td>\n",
       "      <td>1</td>\n",
       "      <td>0</td>\n",
       "      <td>0</td>\n",
       "      <td>0</td>\n",
       "      <td>Cooking staff</td>\n",
       "      <td>3.0</td>\n",
       "      <td>48.0</td>\n",
       "      <td>0</td>\n",
       "    </tr>\n",
       "    <tr>\n",
       "      <th>1532</th>\n",
       "      <td>5100298</td>\n",
       "      <td>M</td>\n",
       "      <td>Y</td>\n",
       "      <td>N</td>\n",
       "      <td>0</td>\n",
       "      <td>99000.0</td>\n",
       "      <td>Working</td>\n",
       "      <td>Secondary / secondary special</td>\n",
       "      <td>Married</td>\n",
       "      <td>House / apartment</td>\n",
       "      <td>35</td>\n",
       "      <td>42</td>\n",
       "      <td>1</td>\n",
       "      <td>0</td>\n",
       "      <td>0</td>\n",
       "      <td>0</td>\n",
       "      <td>NaN</td>\n",
       "      <td>2.0</td>\n",
       "      <td>38.0</td>\n",
       "      <td>0</td>\n",
       "    </tr>\n",
       "    <tr>\n",
       "      <th>2664</th>\n",
       "      <td>5026642</td>\n",
       "      <td>M</td>\n",
       "      <td>Y</td>\n",
       "      <td>N</td>\n",
       "      <td>0</td>\n",
       "      <td>135000.0</td>\n",
       "      <td>Working</td>\n",
       "      <td>Secondary / secondary special</td>\n",
       "      <td>Single / not married</td>\n",
       "      <td>House / apartment</td>\n",
       "      <td>19</td>\n",
       "      <td>35</td>\n",
       "      <td>1</td>\n",
       "      <td>1</td>\n",
       "      <td>0</td>\n",
       "      <td>0</td>\n",
       "      <td>Laborers</td>\n",
       "      <td>1.0</td>\n",
       "      <td>7.0</td>\n",
       "      <td>0</td>\n",
       "    </tr>\n",
       "    <tr>\n",
       "      <th>1715</th>\n",
       "      <td>5096847</td>\n",
       "      <td>F</td>\n",
       "      <td>N</td>\n",
       "      <td>Y</td>\n",
       "      <td>0</td>\n",
       "      <td>94500.0</td>\n",
       "      <td>Pensioner</td>\n",
       "      <td>Higher education</td>\n",
       "      <td>Single / not married</td>\n",
       "      <td>House / apartment</td>\n",
       "      <td>7</td>\n",
       "      <td>42</td>\n",
       "      <td>1</td>\n",
       "      <td>0</td>\n",
       "      <td>0</td>\n",
       "      <td>0</td>\n",
       "      <td>NaN</td>\n",
       "      <td>1.0</td>\n",
       "      <td>33.0</td>\n",
       "      <td>0</td>\n",
       "    </tr>\n",
       "  </tbody>\n",
       "</table>\n",
       "</div>"
      ],
      "text/plain": [
       "           ID Gender Has a car Has a property  Children count    Income  \\\n",
       "310   5068715      M         Y              Y               0  180000.0   \n",
       "2510  5115906      F         N              Y               1  157500.0   \n",
       "1532  5100298      M         Y              N               0   99000.0   \n",
       "2664  5026642      M         Y              N               0  135000.0   \n",
       "1715  5096847      F         N              Y               0   94500.0   \n",
       "\n",
       "         Employment status                Education level  \\\n",
       "310                Working  Secondary / secondary special   \n",
       "2510  Commercial associate  Secondary / secondary special   \n",
       "1532               Working  Secondary / secondary special   \n",
       "2664               Working  Secondary / secondary special   \n",
       "1715             Pensioner               Higher education   \n",
       "\n",
       "            Marital status           Dwelling  Age  Employment length  \\\n",
       "310                Married  House / apartment   43                 38   \n",
       "2510        Civil marriage  House / apartment   28                 41   \n",
       "1532               Married  House / apartment   35                 42   \n",
       "2664  Single / not married  House / apartment   19                 35   \n",
       "1715  Single / not married  House / apartment    7                 42   \n",
       "\n",
       "      Has a mobile phone  Has a work phone  Has a phone  Has an email  \\\n",
       "310                    1                 0            0             0   \n",
       "2510                   1                 0            0             0   \n",
       "1532                   1                 0            0             0   \n",
       "2664                   1                 1            0             0   \n",
       "1715                   1                 0            0             0   \n",
       "\n",
       "          Job title  Family member count  Account age  Is high risk  \n",
       "310        Laborers                  2.0         26.0             0  \n",
       "2510  Cooking staff                  3.0         48.0             0  \n",
       "1532            NaN                  2.0         38.0             0  \n",
       "2664       Laborers                  1.0          7.0             0  \n",
       "1715            NaN                  1.0         33.0             0  "
      ]
     },
     "execution_count": 718,
     "metadata": {},
     "output_type": "execute_result"
    }
   ],
   "source": [
    "test_df.sample(5)"
   ]
  },
  {
   "cell_type": "code",
   "execution_count": 719,
   "id": "4ececcbb",
   "metadata": {},
   "outputs": [
    {
     "data": {
      "text/plain": [
       "<Axes: xlabel='Age', ylabel='Income'>"
      ]
     },
     "execution_count": 719,
     "metadata": {},
     "output_type": "execute_result"
    },
    {
     "data": {
      "image/png": "[encoded data removed]",
      "text/plain": [
       "<Figure size 640x480 with 1 Axes>"
      ]
     },
     "metadata": {},
     "output_type": "display_data"
    }
   ],
   "source": [
    "sns.scatterplot(y=test_df['Income'],x=test_df['Age'])"
   ]
  },
  {
   "cell_type": "code",
   "execution_count": 720,
   "id": "06a04240",
   "metadata": {},
   "outputs": [
    {
     "data": {
      "text/plain": [
       "0       -17.0\n",
       "1        -1.0\n",
       "2       -38.0\n",
       "3       -11.0\n",
       "4       -41.0\n",
       "         ... \n",
       "29160    -5.0\n",
       "29161   -24.0\n",
       "29162   -29.0\n",
       "29163   -37.0\n",
       "29164   -43.0\n",
       "Name: Account age, Length: 29165, dtype: float64"
      ]
     },
     "execution_count": 720,
     "metadata": {},
     "output_type": "execute_result"
    }
   ],
   "source": [
    "train_df['Account age']"
   ]
  },
  {
   "cell_type": "code",
   "execution_count": 721,
   "id": "b3818b0e",
   "metadata": {},
   "outputs": [
    {
     "data": {
      "text/plain": [
       "-60.0"
      ]
     },
     "execution_count": 721,
     "metadata": {},
     "output_type": "execute_result"
    }
   ],
   "source": [
    "train_df['Account age'].min()"
   ]
  },
  {
   "cell_type": "code",
   "execution_count": 722,
   "id": "a9edbfd3",
   "metadata": {},
   "outputs": [
    {
     "data": {
      "text/plain": [
       "0.0"
      ]
     },
     "execution_count": 722,
     "metadata": {},
     "output_type": "execute_result"
    }
   ],
   "source": [
    "train_df['Account age'].max()"
   ]
  },
  {
   "cell_type": "code",
   "execution_count": 723,
   "id": "c390aee1",
   "metadata": {},
   "outputs": [],
   "source": [
    "train_df['Account age']=train_df['Account age']+60"
   ]
  },
  {
   "cell_type": "code",
   "execution_count": 724,
   "id": "0aafc29b",
   "metadata": {},
   "outputs": [
    {
     "data": {
      "text/plain": [
       "0.0"
      ]
     },
     "execution_count": 724,
     "metadata": {},
     "output_type": "execute_result"
    }
   ],
   "source": [
    "train_df['Account age'].min()"
   ]
  },
  {
   "cell_type": "code",
   "execution_count": 725,
   "id": "e110c8f5",
   "metadata": {},
   "outputs": [
    {
     "data": {
      "text/plain": [
       "60.0"
      ]
     },
     "execution_count": 725,
     "metadata": {},
     "output_type": "execute_result"
    }
   ],
   "source": [
    "train_df['Account age'].max()"
   ]
  },
  {
   "cell_type": "markdown",
   "id": "85e06e3a",
   "metadata": {},
   "source": [
    "### Add 'Other' category for null values of 'Job titles'"
   ]
  },
  {
   "cell_type": "code",
   "execution_count": 726,
   "id": "ecfc176d",
   "metadata": {},
   "outputs": [],
   "source": [
    "### Correct the 'Job title'"
   ]
  },
  {
   "cell_type": "code",
   "execution_count": 727,
   "id": "6af081c0",
   "metadata": {},
   "outputs": [
    {
     "data": {
      "text/plain": [
       "False    4996\n",
       "True     2296\n",
       "Name: Job title, dtype: int64"
      ]
     },
     "execution_count": 727,
     "metadata": {},
     "output_type": "execute_result"
    }
   ],
   "source": [
    "test_df['Job title'].isnull().value_counts()"
   ]
  },
  {
   "cell_type": "code",
   "execution_count": 728,
   "id": "ba386080",
   "metadata": {},
   "outputs": [
    {
     "data": {
      "text/plain": [
       "Laborers                 1207\n",
       "Core staff                725\n",
       "Sales staff               712\n",
       "Managers                  590\n",
       "Drivers                   416\n",
       "Medicine staff            251\n",
       "High skill tech staff     250\n",
       "Accountants               243\n",
       "Cooking staff             134\n",
       "Security staff            128\n",
       "Cleaning staff            126\n",
       "Private service staff      57\n",
       "Waiters/barmen staff       47\n",
       "Low-skill Laborers         37\n",
       "Secretaries                29\n",
       "Realty agents              19\n",
       "HR staff                   13\n",
       "IT staff                   12\n",
       "Name: Job title, dtype: int64"
      ]
     },
     "execution_count": 728,
     "metadata": {},
     "output_type": "execute_result"
    }
   ],
   "source": [
    "test_df['Job title'].value_counts()"
   ]
  },
  {
   "cell_type": "code",
   "execution_count": 729,
   "id": "9dad11bb",
   "metadata": {},
   "outputs": [],
   "source": [
    "test_df['Job title']=test_df['Job title'].fillna('Other')"
   ]
  },
  {
   "cell_type": "code",
   "execution_count": 730,
   "id": "c6169229",
   "metadata": {},
   "outputs": [
    {
     "data": {
      "text/plain": [
       "Other                    2296\n",
       "Laborers                 1207\n",
       "Core staff                725\n",
       "Sales staff               712\n",
       "Managers                  590\n",
       "Drivers                   416\n",
       "Medicine staff            251\n",
       "High skill tech staff     250\n",
       "Accountants               243\n",
       "Cooking staff             134\n",
       "Security staff            128\n",
       "Cleaning staff            126\n",
       "Private service staff      57\n",
       "Waiters/barmen staff       47\n",
       "Low-skill Laborers         37\n",
       "Secretaries                29\n",
       "Realty agents              19\n",
       "HR staff                   13\n",
       "IT staff                   12\n",
       "Name: Job title, dtype: int64"
      ]
     },
     "execution_count": 730,
     "metadata": {},
     "output_type": "execute_result"
    }
   ],
   "source": [
    "test_df['Job title'].value_counts()"
   ]
  },
  {
   "cell_type": "code",
   "execution_count": 731,
   "id": "588bce4d",
   "metadata": {},
   "outputs": [
    {
     "data": {
      "text/plain": [
       "False    7292\n",
       "Name: Job title, dtype: int64"
      ]
     },
     "execution_count": 731,
     "metadata": {},
     "output_type": "execute_result"
    }
   ],
   "source": [
    "test_df['Job title'].isnull().value_counts()"
   ]
  },
  {
   "cell_type": "code",
   "execution_count": 732,
   "id": "d2895bbc",
   "metadata": {},
   "outputs": [
    {
     "name": "stdout",
     "output_type": "stream",
     "text": [
      "<class 'pandas.core.frame.DataFrame'>\n",
      "RangeIndex: 7292 entries, 0 to 7291\n",
      "Data columns (total 20 columns):\n",
      " #   Column               Non-Null Count  Dtype  \n",
      "---  ------               --------------  -----  \n",
      " 0   ID                   7292 non-null   int64  \n",
      " 1   Gender               7292 non-null   object \n",
      " 2   Has a car            7292 non-null   object \n",
      " 3   Has a property       7292 non-null   object \n",
      " 4   Children count       7292 non-null   int64  \n",
      " 5   Income               7292 non-null   float64\n",
      " 6   Employment status    7292 non-null   object \n",
      " 7   Education level      7292 non-null   object \n",
      " 8   Marital status       7292 non-null   object \n",
      " 9   Dwelling             7292 non-null   object \n",
      " 10  Age                  7292 non-null   int64  \n",
      " 11  Employment length    7292 non-null   int64  \n",
      " 12  Has a mobile phone   7292 non-null   int64  \n",
      " 13  Has a work phone     7292 non-null   int64  \n",
      " 14  Has a phone          7292 non-null   int64  \n",
      " 15  Has an email         7292 non-null   int64  \n",
      " 16  Job title            7292 non-null   object \n",
      " 17  Family member count  7292 non-null   float64\n",
      " 18  Account age          7292 non-null   float64\n",
      " 19  Is high risk         7292 non-null   int64  \n",
      "dtypes: float64(3), int64(9), object(8)\n",
      "memory usage: 1.1+ MB\n"
     ]
    }
   ],
   "source": [
    "test_df.info()"
   ]
  },
  {
   "cell_type": "code",
   "execution_count": 733,
   "id": "c8f12518",
   "metadata": {},
   "outputs": [
    {
     "data": {
      "text/html": [
       "<div>\n",
       "<style scoped>\n",
       "    .dataframe tbody tr th:only-of-type {\n",
       "        vertical-align: middle;\n",
       "    }\n",
       "\n",
       "    .dataframe tbody tr th {\n",
       "        vertical-align: top;\n",
       "    }\n",
       "\n",
       "    .dataframe thead th {\n",
       "        text-align: right;\n",
       "    }\n",
       "</style>\n",
       "<table border=\"1\" class=\"dataframe\">\n",
       "  <thead>\n",
       "    <tr style=\"text-align: right;\">\n",
       "      <th></th>\n",
       "      <th>ID</th>\n",
       "      <th>Gender</th>\n",
       "      <th>Has a car</th>\n",
       "      <th>Has a property</th>\n",
       "      <th>Children count</th>\n",
       "      <th>Income</th>\n",
       "      <th>Employment status</th>\n",
       "      <th>Education level</th>\n",
       "      <th>Marital status</th>\n",
       "      <th>Dwelling</th>\n",
       "      <th>Age</th>\n",
       "      <th>Employment length</th>\n",
       "      <th>Has a mobile phone</th>\n",
       "      <th>Has a work phone</th>\n",
       "      <th>Has a phone</th>\n",
       "      <th>Has an email</th>\n",
       "      <th>Job title</th>\n",
       "      <th>Family member count</th>\n",
       "      <th>Account age</th>\n",
       "      <th>Is high risk</th>\n",
       "    </tr>\n",
       "  </thead>\n",
       "  <tbody>\n",
       "    <tr>\n",
       "      <th>2415</th>\n",
       "      <td>5028757</td>\n",
       "      <td>F</td>\n",
       "      <td>Y</td>\n",
       "      <td>N</td>\n",
       "      <td>1</td>\n",
       "      <td>337500.0</td>\n",
       "      <td>Working</td>\n",
       "      <td>Higher education</td>\n",
       "      <td>Married</td>\n",
       "      <td>House / apartment</td>\n",
       "      <td>39</td>\n",
       "      <td>35</td>\n",
       "      <td>1</td>\n",
       "      <td>0</td>\n",
       "      <td>0</td>\n",
       "      <td>0</td>\n",
       "      <td>Other</td>\n",
       "      <td>3.0</td>\n",
       "      <td>17.0</td>\n",
       "      <td>0</td>\n",
       "    </tr>\n",
       "    <tr>\n",
       "      <th>6719</th>\n",
       "      <td>5089894</td>\n",
       "      <td>F</td>\n",
       "      <td>N</td>\n",
       "      <td>Y</td>\n",
       "      <td>0</td>\n",
       "      <td>67500.0</td>\n",
       "      <td>Pensioner</td>\n",
       "      <td>Higher education</td>\n",
       "      <td>Single / not married</td>\n",
       "      <td>Municipal apartment</td>\n",
       "      <td>3</td>\n",
       "      <td>42</td>\n",
       "      <td>1</td>\n",
       "      <td>0</td>\n",
       "      <td>0</td>\n",
       "      <td>1</td>\n",
       "      <td>Other</td>\n",
       "      <td>1.0</td>\n",
       "      <td>25.0</td>\n",
       "      <td>0</td>\n",
       "    </tr>\n",
       "    <tr>\n",
       "      <th>2640</th>\n",
       "      <td>5061415</td>\n",
       "      <td>F</td>\n",
       "      <td>N</td>\n",
       "      <td>Y</td>\n",
       "      <td>0</td>\n",
       "      <td>157500.0</td>\n",
       "      <td>Working</td>\n",
       "      <td>Higher education</td>\n",
       "      <td>Married</td>\n",
       "      <td>House / apartment</td>\n",
       "      <td>21</td>\n",
       "      <td>39</td>\n",
       "      <td>1</td>\n",
       "      <td>0</td>\n",
       "      <td>0</td>\n",
       "      <td>1</td>\n",
       "      <td>Core staff</td>\n",
       "      <td>2.0</td>\n",
       "      <td>42.0</td>\n",
       "      <td>0</td>\n",
       "    </tr>\n",
       "    <tr>\n",
       "      <th>2209</th>\n",
       "      <td>5087972</td>\n",
       "      <td>M</td>\n",
       "      <td>N</td>\n",
       "      <td>Y</td>\n",
       "      <td>0</td>\n",
       "      <td>99000.0</td>\n",
       "      <td>Working</td>\n",
       "      <td>Higher education</td>\n",
       "      <td>Married</td>\n",
       "      <td>Co-op apartment</td>\n",
       "      <td>41</td>\n",
       "      <td>41</td>\n",
       "      <td>1</td>\n",
       "      <td>0</td>\n",
       "      <td>0</td>\n",
       "      <td>0</td>\n",
       "      <td>Managers</td>\n",
       "      <td>2.0</td>\n",
       "      <td>39.0</td>\n",
       "      <td>0</td>\n",
       "    </tr>\n",
       "    <tr>\n",
       "      <th>98</th>\n",
       "      <td>5047929</td>\n",
       "      <td>M</td>\n",
       "      <td>Y</td>\n",
       "      <td>N</td>\n",
       "      <td>0</td>\n",
       "      <td>292500.0</td>\n",
       "      <td>Working</td>\n",
       "      <td>Secondary / secondary special</td>\n",
       "      <td>Single / not married</td>\n",
       "      <td>House / apartment</td>\n",
       "      <td>30</td>\n",
       "      <td>38</td>\n",
       "      <td>1</td>\n",
       "      <td>0</td>\n",
       "      <td>1</td>\n",
       "      <td>0</td>\n",
       "      <td>Drivers</td>\n",
       "      <td>1.0</td>\n",
       "      <td>42.0</td>\n",
       "      <td>0</td>\n",
       "    </tr>\n",
       "    <tr>\n",
       "      <th>6835</th>\n",
       "      <td>5113620</td>\n",
       "      <td>M</td>\n",
       "      <td>N</td>\n",
       "      <td>N</td>\n",
       "      <td>0</td>\n",
       "      <td>225000.0</td>\n",
       "      <td>Working</td>\n",
       "      <td>Secondary / secondary special</td>\n",
       "      <td>Widow</td>\n",
       "      <td>Municipal apartment</td>\n",
       "      <td>15</td>\n",
       "      <td>41</td>\n",
       "      <td>1</td>\n",
       "      <td>0</td>\n",
       "      <td>0</td>\n",
       "      <td>0</td>\n",
       "      <td>Security staff</td>\n",
       "      <td>1.0</td>\n",
       "      <td>52.0</td>\n",
       "      <td>0</td>\n",
       "    </tr>\n",
       "    <tr>\n",
       "      <th>4756</th>\n",
       "      <td>5053006</td>\n",
       "      <td>F</td>\n",
       "      <td>N</td>\n",
       "      <td>N</td>\n",
       "      <td>0</td>\n",
       "      <td>157500.0</td>\n",
       "      <td>Working</td>\n",
       "      <td>Secondary / secondary special</td>\n",
       "      <td>Single / not married</td>\n",
       "      <td>House / apartment</td>\n",
       "      <td>16</td>\n",
       "      <td>10</td>\n",
       "      <td>1</td>\n",
       "      <td>0</td>\n",
       "      <td>0</td>\n",
       "      <td>0</td>\n",
       "      <td>Medicine staff</td>\n",
       "      <td>1.0</td>\n",
       "      <td>34.0</td>\n",
       "      <td>0</td>\n",
       "    </tr>\n",
       "    <tr>\n",
       "      <th>4306</th>\n",
       "      <td>5023635</td>\n",
       "      <td>M</td>\n",
       "      <td>N</td>\n",
       "      <td>Y</td>\n",
       "      <td>1</td>\n",
       "      <td>157500.0</td>\n",
       "      <td>Working</td>\n",
       "      <td>Secondary / secondary special</td>\n",
       "      <td>Married</td>\n",
       "      <td>House / apartment</td>\n",
       "      <td>35</td>\n",
       "      <td>36</td>\n",
       "      <td>1</td>\n",
       "      <td>1</td>\n",
       "      <td>0</td>\n",
       "      <td>0</td>\n",
       "      <td>Laborers</td>\n",
       "      <td>3.0</td>\n",
       "      <td>14.0</td>\n",
       "      <td>0</td>\n",
       "    </tr>\n",
       "    <tr>\n",
       "      <th>6685</th>\n",
       "      <td>5054424</td>\n",
       "      <td>F</td>\n",
       "      <td>N</td>\n",
       "      <td>Y</td>\n",
       "      <td>0</td>\n",
       "      <td>112500.0</td>\n",
       "      <td>Working</td>\n",
       "      <td>Secondary / secondary special</td>\n",
       "      <td>Married</td>\n",
       "      <td>House / apartment</td>\n",
       "      <td>36</td>\n",
       "      <td>38</td>\n",
       "      <td>1</td>\n",
       "      <td>1</td>\n",
       "      <td>0</td>\n",
       "      <td>0</td>\n",
       "      <td>Core staff</td>\n",
       "      <td>2.0</td>\n",
       "      <td>51.0</td>\n",
       "      <td>0</td>\n",
       "    </tr>\n",
       "    <tr>\n",
       "      <th>6417</th>\n",
       "      <td>5085831</td>\n",
       "      <td>M</td>\n",
       "      <td>Y</td>\n",
       "      <td>Y</td>\n",
       "      <td>1</td>\n",
       "      <td>247500.0</td>\n",
       "      <td>Working</td>\n",
       "      <td>Secondary / secondary special</td>\n",
       "      <td>Married</td>\n",
       "      <td>House / apartment</td>\n",
       "      <td>31</td>\n",
       "      <td>36</td>\n",
       "      <td>1</td>\n",
       "      <td>0</td>\n",
       "      <td>0</td>\n",
       "      <td>0</td>\n",
       "      <td>Laborers</td>\n",
       "      <td>3.0</td>\n",
       "      <td>37.0</td>\n",
       "      <td>0</td>\n",
       "    </tr>\n",
       "  </tbody>\n",
       "</table>\n",
       "</div>"
      ],
      "text/plain": [
       "           ID Gender Has a car Has a property  Children count    Income  \\\n",
       "2415  5028757      F         Y              N               1  337500.0   \n",
       "6719  5089894      F         N              Y               0   67500.0   \n",
       "2640  5061415      F         N              Y               0  157500.0   \n",
       "2209  5087972      M         N              Y               0   99000.0   \n",
       "98    5047929      M         Y              N               0  292500.0   \n",
       "6835  5113620      M         N              N               0  225000.0   \n",
       "4756  5053006      F         N              N               0  157500.0   \n",
       "4306  5023635      M         N              Y               1  157500.0   \n",
       "6685  5054424      F         N              Y               0  112500.0   \n",
       "6417  5085831      M         Y              Y               1  247500.0   \n",
       "\n",
       "     Employment status                Education level        Marital status  \\\n",
       "2415           Working               Higher education               Married   \n",
       "6719         Pensioner               Higher education  Single / not married   \n",
       "2640           Working               Higher education               Married   \n",
       "2209           Working               Higher education               Married   \n",
       "98             Working  Secondary / secondary special  Single / not married   \n",
       "6835           Working  Secondary / secondary special                 Widow   \n",
       "4756           Working  Secondary / secondary special  Single / not married   \n",
       "4306           Working  Secondary / secondary special               Married   \n",
       "6685           Working  Secondary / secondary special               Married   \n",
       "6417           Working  Secondary / secondary special               Married   \n",
       "\n",
       "                 Dwelling  Age  Employment length  Has a mobile phone  \\\n",
       "2415    House / apartment   39                 35                   1   \n",
       "6719  Municipal apartment    3                 42                   1   \n",
       "2640    House / apartment   21                 39                   1   \n",
       "2209      Co-op apartment   41                 41                   1   \n",
       "98      House / apartment   30                 38                   1   \n",
       "6835  Municipal apartment   15                 41                   1   \n",
       "4756    House / apartment   16                 10                   1   \n",
       "4306    House / apartment   35                 36                   1   \n",
       "6685    House / apartment   36                 38                   1   \n",
       "6417    House / apartment   31                 36                   1   \n",
       "\n",
       "      Has a work phone  Has a phone  Has an email       Job title  \\\n",
       "2415                 0            0             0           Other   \n",
       "6719                 0            0             1           Other   \n",
       "2640                 0            0             1      Core staff   \n",
       "2209                 0            0             0        Managers   \n",
       "98                   0            1             0         Drivers   \n",
       "6835                 0            0             0  Security staff   \n",
       "4756                 0            0             0  Medicine staff   \n",
       "4306                 1            0             0        Laborers   \n",
       "6685                 1            0             0      Core staff   \n",
       "6417                 0            0             0        Laborers   \n",
       "\n",
       "      Family member count  Account age  Is high risk  \n",
       "2415                  3.0         17.0             0  \n",
       "6719                  1.0         25.0             0  \n",
       "2640                  2.0         42.0             0  \n",
       "2209                  2.0         39.0             0  \n",
       "98                    1.0         42.0             0  \n",
       "6835                  1.0         52.0             0  \n",
       "4756                  1.0         34.0             0  \n",
       "4306                  3.0         14.0             0  \n",
       "6685                  2.0         51.0             0  \n",
       "6417                  3.0         37.0             0  "
      ]
     },
     "execution_count": 733,
     "metadata": {},
     "output_type": "execute_result"
    }
   ],
   "source": [
    "test_df.sample(10)"
   ]
  },
  {
   "cell_type": "code",
   "execution_count": null,
   "id": "e2f41624",
   "metadata": {},
   "outputs": [],
   "source": []
  },
  {
   "cell_type": "code",
   "execution_count": null,
   "id": "279add35",
   "metadata": {},
   "outputs": [],
   "source": []
  },
  {
   "cell_type": "code",
   "execution_count": null,
   "id": "de69c999",
   "metadata": {},
   "outputs": [],
   "source": []
  },
  {
   "cell_type": "code",
   "execution_count": 734,
   "id": "4bcb8c45",
   "metadata": {},
   "outputs": [],
   "source": [
    "##### correct the 'Gender'"
   ]
  },
  {
   "cell_type": "code",
   "execution_count": 735,
   "id": "d1dd2ae5",
   "metadata": {},
   "outputs": [
    {
     "data": {
      "text/plain": [
       "F    4881\n",
       "M    2411\n",
       "Name: Gender, dtype: int64"
      ]
     },
     "execution_count": 735,
     "metadata": {},
     "output_type": "execute_result"
    }
   ],
   "source": [
    "test_df['Gender'].value_counts()"
   ]
  },
  {
   "cell_type": "code",
   "execution_count": 736,
   "id": "96c7f37e",
   "metadata": {},
   "outputs": [],
   "source": [
    "test_df['Gender'] = test_df['Gender'].replace(['F', 'M'], [1, 0])"
   ]
  },
  {
   "cell_type": "code",
   "execution_count": 737,
   "id": "76721c21",
   "metadata": {},
   "outputs": [
    {
     "data": {
      "text/plain": [
       "1    4881\n",
       "0    2411\n",
       "Name: Gender, dtype: int64"
      ]
     },
     "execution_count": 737,
     "metadata": {},
     "output_type": "execute_result"
    }
   ],
   "source": [
    "test_df['Gender'].value_counts()"
   ]
  },
  {
   "cell_type": "code",
   "execution_count": 738,
   "id": "ae5918de",
   "metadata": {},
   "outputs": [
    {
     "data": {
      "text/plain": [
       "0       1\n",
       "1       0\n",
       "2       1\n",
       "3       1\n",
       "4       1\n",
       "       ..\n",
       "7287    1\n",
       "7288    1\n",
       "7289    1\n",
       "7290    1\n",
       "7291    1\n",
       "Name: Gender, Length: 7292, dtype: int64"
      ]
     },
     "execution_count": 738,
     "metadata": {},
     "output_type": "execute_result"
    }
   ],
   "source": [
    "test_df['Gender']"
   ]
  },
  {
   "cell_type": "code",
   "execution_count": 739,
   "id": "bca2f58b",
   "metadata": {},
   "outputs": [
    {
     "data": {
      "text/plain": [
       "F    19549\n",
       "M     9616\n",
       "Name: Gender, dtype: int64"
      ]
     },
     "execution_count": 739,
     "metadata": {},
     "output_type": "execute_result"
    }
   ],
   "source": [
    "train_df['Gender'].value_counts()"
   ]
  },
  {
   "cell_type": "code",
   "execution_count": 740,
   "id": "0ab07251",
   "metadata": {},
   "outputs": [],
   "source": [
    "train_df['Gender'] = train_df['Gender'].replace(['F', 'M'], [1, 0])"
   ]
  },
  {
   "cell_type": "code",
   "execution_count": 741,
   "id": "41eaed3b",
   "metadata": {},
   "outputs": [
    {
     "data": {
      "text/plain": [
       "1    19549\n",
       "0     9616\n",
       "Name: Gender, dtype: int64"
      ]
     },
     "execution_count": 741,
     "metadata": {},
     "output_type": "execute_result"
    }
   ],
   "source": [
    "train_df['Gender'].value_counts()"
   ]
  },
  {
   "cell_type": "code",
   "execution_count": 742,
   "id": "9b58aa11",
   "metadata": {},
   "outputs": [
    {
     "data": {
      "text/plain": [
       "0        0\n",
       "1        1\n",
       "2        1\n",
       "3        1\n",
       "4        1\n",
       "        ..\n",
       "29160    1\n",
       "29161    1\n",
       "29162    1\n",
       "29163    1\n",
       "29164    1\n",
       "Name: Gender, Length: 29165, dtype: int64"
      ]
     },
     "execution_count": 742,
     "metadata": {},
     "output_type": "execute_result"
    }
   ],
   "source": [
    "train_df['Gender']"
   ]
  },
  {
   "cell_type": "code",
   "execution_count": 743,
   "id": "321a260f",
   "metadata": {},
   "outputs": [],
   "source": [
    "####Scaling on Income column\n",
    "test_df['Income'] = test_df['Income']/100000"
   ]
  },
  {
   "cell_type": "code",
   "execution_count": 744,
   "id": "3529fb78",
   "metadata": {},
   "outputs": [
    {
     "data": {
      "text/plain": [
       "0       2.0250\n",
       "1       6.7500\n",
       "2       2.3400\n",
       "3       4.4550\n",
       "4       2.2500\n",
       "         ...  \n",
       "7287    1.3500\n",
       "7288    1.5750\n",
       "7289    0.6750\n",
       "7290    0.9585\n",
       "7291    1.3500\n",
       "Name: Income, Length: 7292, dtype: float64"
      ]
     },
     "execution_count": 744,
     "metadata": {},
     "output_type": "execute_result"
    }
   ],
   "source": [
    "test_df['Income']"
   ]
  },
  {
   "cell_type": "code",
   "execution_count": 745,
   "id": "1009f245",
   "metadata": {},
   "outputs": [],
   "source": [
    "train_df['Income'] = train_df['Income']/100000"
   ]
  },
  {
   "cell_type": "code",
   "execution_count": 746,
   "id": "e02f9da3",
   "metadata": {},
   "outputs": [
    {
     "data": {
      "text/plain": [
       "0        1.350\n",
       "1        1.350\n",
       "2        1.800\n",
       "3        3.600\n",
       "4        2.700\n",
       "         ...  \n",
       "29160    1.125\n",
       "29161    1.350\n",
       "29162    0.765\n",
       "29163    1.575\n",
       "29164    5.850\n",
       "Name: Income, Length: 29165, dtype: float64"
      ]
     },
     "execution_count": 746,
     "metadata": {},
     "output_type": "execute_result"
    }
   ],
   "source": [
    "train_df['Income']"
   ]
  },
  {
   "cell_type": "markdown",
   "id": "dadc3ff7",
   "metadata": {},
   "source": [
    "## Encoding of categorical columns/features"
   ]
  },
  {
   "cell_type": "code",
   "execution_count": 747,
   "id": "294c2799",
   "metadata": {},
   "outputs": [],
   "source": [
    "### Encoding of  'Has a car'. Replace Y to 1 and N to 0"
   ]
  },
  {
   "cell_type": "code",
   "execution_count": 748,
   "id": "81e8dbac",
   "metadata": {},
   "outputs": [
    {
     "data": {
      "text/plain": [
       "N    4486\n",
       "Y    2806\n",
       "Name: Has a car, dtype: int64"
      ]
     },
     "execution_count": 748,
     "metadata": {},
     "output_type": "execute_result"
    }
   ],
   "source": [
    "test_df['Has a car'].value_counts()"
   ]
  },
  {
   "cell_type": "code",
   "execution_count": 749,
   "id": "c0da7a17",
   "metadata": {},
   "outputs": [],
   "source": [
    "test_df['Has a car'] = test_df['Has a car'].replace(['Y', 'N'], [1, 0])"
   ]
  },
  {
   "cell_type": "code",
   "execution_count": 750,
   "id": "a1c79834",
   "metadata": {},
   "outputs": [
    {
     "data": {
      "text/plain": [
       "0    4486\n",
       "1    2806\n",
       "Name: Has a car, dtype: int64"
      ]
     },
     "execution_count": 750,
     "metadata": {},
     "output_type": "execute_result"
    }
   ],
   "source": [
    "test_df['Has a car'].value_counts()"
   ]
  },
  {
   "cell_type": "code",
   "execution_count": 751,
   "id": "6f6248d1",
   "metadata": {},
   "outputs": [
    {
     "data": {
      "text/plain": [
       "N    18128\n",
       "Y    11037\n",
       "Name: Has a car, dtype: int64"
      ]
     },
     "execution_count": 751,
     "metadata": {},
     "output_type": "execute_result"
    }
   ],
   "source": [
    "#Train dataset\n",
    "train_df['Has a car'].value_counts()"
   ]
  },
  {
   "cell_type": "code",
   "execution_count": 752,
   "id": "801af261",
   "metadata": {},
   "outputs": [],
   "source": [
    "train_df['Has a car'] = train_df['Has a car'].replace(['Y', 'N'], [1, 0])"
   ]
  },
  {
   "cell_type": "code",
   "execution_count": 753,
   "id": "3c2cea54",
   "metadata": {},
   "outputs": [
    {
     "data": {
      "text/plain": [
       "0    18128\n",
       "1    11037\n",
       "Name: Has a car, dtype: int64"
      ]
     },
     "execution_count": 753,
     "metadata": {},
     "output_type": "execute_result"
    }
   ],
   "source": [
    "train_df['Has a car'].value_counts()"
   ]
  },
  {
   "cell_type": "code",
   "execution_count": 754,
   "id": "2cac67a0",
   "metadata": {},
   "outputs": [],
   "source": [
    "## Encoding for \tEmployment status"
   ]
  },
  {
   "cell_type": "code",
   "execution_count": 755,
   "id": "d8604bb9",
   "metadata": {},
   "outputs": [
    {
     "data": {
      "text/plain": [
       "Working                 3763\n",
       "Commercial associate    1689\n",
       "Pensioner               1232\n",
       "State servant            604\n",
       "Student                    4\n",
       "Name: Employment status, dtype: int64"
      ]
     },
     "execution_count": 755,
     "metadata": {},
     "output_type": "execute_result"
    }
   ],
   "source": [
    "test_df['Employment status'].value_counts()"
   ]
  },
  {
   "cell_type": "code",
   "execution_count": 756,
   "id": "ca143c91",
   "metadata": {},
   "outputs": [],
   "source": [
    "test_df['Employment status'] = test_df['Employment status'].replace(['Working', 'Commercial associate','Pensioner','State servant','Student'], [0, 1,2,3,4])"
   ]
  },
  {
   "cell_type": "code",
   "execution_count": 757,
   "id": "d4f9611c",
   "metadata": {},
   "outputs": [
    {
     "data": {
      "text/plain": [
       "0    3763\n",
       "1    1689\n",
       "2    1232\n",
       "3     604\n",
       "4       4\n",
       "Name: Employment status, dtype: int64"
      ]
     },
     "execution_count": 757,
     "metadata": {},
     "output_type": "execute_result"
    }
   ],
   "source": [
    "test_df['Employment status'].value_counts()"
   ]
  },
  {
   "cell_type": "code",
   "execution_count": 758,
   "id": "c83576a3",
   "metadata": {},
   "outputs": [
    {
     "data": {
      "text/html": [
       "<div>\n",
       "<style scoped>\n",
       "    .dataframe tbody tr th:only-of-type {\n",
       "        vertical-align: middle;\n",
       "    }\n",
       "\n",
       "    .dataframe tbody tr th {\n",
       "        vertical-align: top;\n",
       "    }\n",
       "\n",
       "    .dataframe thead th {\n",
       "        text-align: right;\n",
       "    }\n",
       "</style>\n",
       "<table border=\"1\" class=\"dataframe\">\n",
       "  <thead>\n",
       "    <tr style=\"text-align: right;\">\n",
       "      <th></th>\n",
       "      <th>ID</th>\n",
       "      <th>Gender</th>\n",
       "      <th>Has a car</th>\n",
       "      <th>Has a property</th>\n",
       "      <th>Children count</th>\n",
       "      <th>Income</th>\n",
       "      <th>Employment status</th>\n",
       "      <th>Education level</th>\n",
       "      <th>Marital status</th>\n",
       "      <th>Dwelling</th>\n",
       "      <th>Age</th>\n",
       "      <th>Employment length</th>\n",
       "      <th>Has a mobile phone</th>\n",
       "      <th>Has a work phone</th>\n",
       "      <th>Has a phone</th>\n",
       "      <th>Has an email</th>\n",
       "      <th>Job title</th>\n",
       "      <th>Family member count</th>\n",
       "      <th>Account age</th>\n",
       "      <th>Is high risk</th>\n",
       "    </tr>\n",
       "  </thead>\n",
       "  <tbody>\n",
       "    <tr>\n",
       "      <th>0</th>\n",
       "      <td>5091261</td>\n",
       "      <td>1</td>\n",
       "      <td>0</td>\n",
       "      <td>Y</td>\n",
       "      <td>0</td>\n",
       "      <td>2.025</td>\n",
       "      <td>3</td>\n",
       "      <td>Secondary / secondary special</td>\n",
       "      <td>Separated</td>\n",
       "      <td>House / apartment</td>\n",
       "      <td>22</td>\n",
       "      <td>38</td>\n",
       "      <td>1</td>\n",
       "      <td>0</td>\n",
       "      <td>0</td>\n",
       "      <td>0</td>\n",
       "      <td>Medicine staff</td>\n",
       "      <td>1.0</td>\n",
       "      <td>54.0</td>\n",
       "      <td>0</td>\n",
       "    </tr>\n",
       "    <tr>\n",
       "      <th>1</th>\n",
       "      <td>5096963</td>\n",
       "      <td>0</td>\n",
       "      <td>1</td>\n",
       "      <td>N</td>\n",
       "      <td>0</td>\n",
       "      <td>6.750</td>\n",
       "      <td>1</td>\n",
       "      <td>Higher education</td>\n",
       "      <td>Married</td>\n",
       "      <td>House / apartment</td>\n",
       "      <td>19</td>\n",
       "      <td>40</td>\n",
       "      <td>1</td>\n",
       "      <td>0</td>\n",
       "      <td>1</td>\n",
       "      <td>0</td>\n",
       "      <td>Managers</td>\n",
       "      <td>2.0</td>\n",
       "      <td>44.0</td>\n",
       "      <td>0</td>\n",
       "    </tr>\n",
       "    <tr>\n",
       "      <th>2</th>\n",
       "      <td>5087880</td>\n",
       "      <td>1</td>\n",
       "      <td>0</td>\n",
       "      <td>N</td>\n",
       "      <td>0</td>\n",
       "      <td>2.340</td>\n",
       "      <td>3</td>\n",
       "      <td>Higher education</td>\n",
       "      <td>Civil marriage</td>\n",
       "      <td>House / apartment</td>\n",
       "      <td>8</td>\n",
       "      <td>28</td>\n",
       "      <td>1</td>\n",
       "      <td>0</td>\n",
       "      <td>0</td>\n",
       "      <td>1</td>\n",
       "      <td>Core staff</td>\n",
       "      <td>2.0</td>\n",
       "      <td>8.0</td>\n",
       "      <td>0</td>\n",
       "    </tr>\n",
       "    <tr>\n",
       "      <th>3</th>\n",
       "      <td>5021949</td>\n",
       "      <td>1</td>\n",
       "      <td>1</td>\n",
       "      <td>Y</td>\n",
       "      <td>0</td>\n",
       "      <td>4.455</td>\n",
       "      <td>1</td>\n",
       "      <td>Higher education</td>\n",
       "      <td>Married</td>\n",
       "      <td>House / apartment</td>\n",
       "      <td>34</td>\n",
       "      <td>41</td>\n",
       "      <td>1</td>\n",
       "      <td>0</td>\n",
       "      <td>0</td>\n",
       "      <td>0</td>\n",
       "      <td>Managers</td>\n",
       "      <td>2.0</td>\n",
       "      <td>6.0</td>\n",
       "      <td>0</td>\n",
       "    </tr>\n",
       "    <tr>\n",
       "      <th>4</th>\n",
       "      <td>5105705</td>\n",
       "      <td>1</td>\n",
       "      <td>1</td>\n",
       "      <td>N</td>\n",
       "      <td>0</td>\n",
       "      <td>2.250</td>\n",
       "      <td>0</td>\n",
       "      <td>Secondary / secondary special</td>\n",
       "      <td>Married</td>\n",
       "      <td>Municipal apartment</td>\n",
       "      <td>35</td>\n",
       "      <td>41</td>\n",
       "      <td>1</td>\n",
       "      <td>0</td>\n",
       "      <td>0</td>\n",
       "      <td>0</td>\n",
       "      <td>Laborers</td>\n",
       "      <td>2.0</td>\n",
       "      <td>12.0</td>\n",
       "      <td>0</td>\n",
       "    </tr>\n",
       "  </tbody>\n",
       "</table>\n",
       "</div>"
      ],
      "text/plain": [
       "        ID  Gender  Has a car Has a property  Children count  Income  \\\n",
       "0  5091261       1          0              Y               0   2.025   \n",
       "1  5096963       0          1              N               0   6.750   \n",
       "2  5087880       1          0              N               0   2.340   \n",
       "3  5021949       1          1              Y               0   4.455   \n",
       "4  5105705       1          1              N               0   2.250   \n",
       "\n",
       "   Employment status                Education level  Marital status  \\\n",
       "0                  3  Secondary / secondary special       Separated   \n",
       "1                  1               Higher education         Married   \n",
       "2                  3               Higher education  Civil marriage   \n",
       "3                  1               Higher education         Married   \n",
       "4                  0  Secondary / secondary special         Married   \n",
       "\n",
       "              Dwelling  Age  Employment length  Has a mobile phone  \\\n",
       "0    House / apartment   22                 38                   1   \n",
       "1    House / apartment   19                 40                   1   \n",
       "2    House / apartment    8                 28                   1   \n",
       "3    House / apartment   34                 41                   1   \n",
       "4  Municipal apartment   35                 41                   1   \n",
       "\n",
       "   Has a work phone  Has a phone  Has an email       Job title  \\\n",
       "0                 0            0             0  Medicine staff   \n",
       "1                 0            1             0        Managers   \n",
       "2                 0            0             1      Core staff   \n",
       "3                 0            0             0        Managers   \n",
       "4                 0            0             0        Laborers   \n",
       "\n",
       "   Family member count  Account age  Is high risk  \n",
       "0                  1.0         54.0             0  \n",
       "1                  2.0         44.0             0  \n",
       "2                  2.0          8.0             0  \n",
       "3                  2.0          6.0             0  \n",
       "4                  2.0         12.0             0  "
      ]
     },
     "execution_count": 758,
     "metadata": {},
     "output_type": "execute_result"
    }
   ],
   "source": [
    "test_df.head()"
   ]
  },
  {
   "cell_type": "code",
   "execution_count": 759,
   "id": "b08199c0",
   "metadata": {},
   "outputs": [
    {
     "data": {
      "text/plain": [
       "Working                 15056\n",
       "Commercial associate     6801\n",
       "Pensioner                4920\n",
       "State servant            2381\n",
       "Student                     7\n",
       "Name: Employment status, dtype: int64"
      ]
     },
     "execution_count": 759,
     "metadata": {},
     "output_type": "execute_result"
    }
   ],
   "source": [
    "## Train dataset\n",
    "train_df['Employment status'].value_counts()"
   ]
  },
  {
   "cell_type": "code",
   "execution_count": 760,
   "id": "ccb1f11d",
   "metadata": {},
   "outputs": [],
   "source": [
    "train_df['Employment status'] = train_df['Employment status'].replace(['Working', 'Commercial associate','Pensioner','State servant','Student'], [0, 1,2,3,4])"
   ]
  },
  {
   "cell_type": "code",
   "execution_count": 761,
   "id": "acfc8983",
   "metadata": {},
   "outputs": [
    {
     "data": {
      "text/plain": [
       "0    15056\n",
       "1     6801\n",
       "2     4920\n",
       "3     2381\n",
       "4        7\n",
       "Name: Employment status, dtype: int64"
      ]
     },
     "execution_count": 761,
     "metadata": {},
     "output_type": "execute_result"
    }
   ],
   "source": [
    "train_df['Employment status'].value_counts()"
   ]
  },
  {
   "cell_type": "code",
   "execution_count": 762,
   "id": "abd3ce92",
   "metadata": {},
   "outputs": [],
   "source": [
    "### Encoding for 'Education level'"
   ]
  },
  {
   "cell_type": "code",
   "execution_count": 763,
   "id": "7b14a7c7",
   "metadata": {},
   "outputs": [
    {
     "data": {
      "text/plain": [
       "Secondary / secondary special    4974\n",
       "Higher education                 1954\n",
       "Incomplete higher                 281\n",
       "Lower secondary                    76\n",
       "Academic degree                     7\n",
       "Name: Education level, dtype: int64"
      ]
     },
     "execution_count": 763,
     "metadata": {},
     "output_type": "execute_result"
    }
   ],
   "source": [
    "test_df['Education level'].value_counts()"
   ]
  },
  {
   "cell_type": "code",
   "execution_count": 764,
   "id": "951c3069",
   "metadata": {},
   "outputs": [],
   "source": [
    "test_df['Education level'] = test_df['Education level'].replace(['Secondary / secondary special', 'Higher education','Incomplete higher','Lower secondary','Academic degree'], [0, 1,2,3,4])"
   ]
  },
  {
   "cell_type": "code",
   "execution_count": 765,
   "id": "504b0804",
   "metadata": {},
   "outputs": [
    {
     "data": {
      "text/plain": [
       "0    4974\n",
       "1    1954\n",
       "2     281\n",
       "3      76\n",
       "4       7\n",
       "Name: Education level, dtype: int64"
      ]
     },
     "execution_count": 765,
     "metadata": {},
     "output_type": "execute_result"
    }
   ],
   "source": [
    "test_df['Education level'].value_counts()"
   ]
  },
  {
   "cell_type": "code",
   "execution_count": 766,
   "id": "5c1d5e7e",
   "metadata": {},
   "outputs": [
    {
     "data": {
      "text/plain": [
       "Secondary / secondary special    19803\n",
       "Higher education                  7910\n",
       "Incomplete higher                 1129\n",
       "Lower secondary                    298\n",
       "Academic degree                     25\n",
       "Name: Education level, dtype: int64"
      ]
     },
     "execution_count": 766,
     "metadata": {},
     "output_type": "execute_result"
    }
   ],
   "source": [
    "## Train dataset\n",
    "train_df['Education level'].value_counts()"
   ]
  },
  {
   "cell_type": "code",
   "execution_count": 767,
   "id": "0803721c",
   "metadata": {},
   "outputs": [],
   "source": [
    "train_df['Education level'] = train_df['Education level'].replace(['Secondary / secondary special', 'Higher education','Incomplete higher','Lower secondary','Academic degree'], [0, 1,2,3,4])"
   ]
  },
  {
   "cell_type": "code",
   "execution_count": 768,
   "id": "0f4cc5bc",
   "metadata": {},
   "outputs": [
    {
     "data": {
      "text/plain": [
       "0    19803\n",
       "1     7910\n",
       "2     1129\n",
       "3      298\n",
       "4       25\n",
       "Name: Education level, dtype: int64"
      ]
     },
     "execution_count": 768,
     "metadata": {},
     "output_type": "execute_result"
    }
   ],
   "source": [
    "train_df['Education level'].value_counts()"
   ]
  },
  {
   "cell_type": "code",
   "execution_count": 769,
   "id": "12c9aca4",
   "metadata": {},
   "outputs": [
    {
     "data": {
      "text/html": [
       "<div>\n",
       "<style scoped>\n",
       "    .dataframe tbody tr th:only-of-type {\n",
       "        vertical-align: middle;\n",
       "    }\n",
       "\n",
       "    .dataframe tbody tr th {\n",
       "        vertical-align: top;\n",
       "    }\n",
       "\n",
       "    .dataframe thead th {\n",
       "        text-align: right;\n",
       "    }\n",
       "</style>\n",
       "<table border=\"1\" class=\"dataframe\">\n",
       "  <thead>\n",
       "    <tr style=\"text-align: right;\">\n",
       "      <th></th>\n",
       "      <th>ID</th>\n",
       "      <th>Gender</th>\n",
       "      <th>Has a car</th>\n",
       "      <th>Has a property</th>\n",
       "      <th>Children count</th>\n",
       "      <th>Income</th>\n",
       "      <th>Employment status</th>\n",
       "      <th>Education level</th>\n",
       "      <th>Marital status</th>\n",
       "      <th>Dwelling</th>\n",
       "      <th>Age</th>\n",
       "      <th>Employment length</th>\n",
       "      <th>Has a mobile phone</th>\n",
       "      <th>Has a work phone</th>\n",
       "      <th>Has a phone</th>\n",
       "      <th>Has an email</th>\n",
       "      <th>Job title</th>\n",
       "      <th>Family member count</th>\n",
       "      <th>Account age</th>\n",
       "      <th>Is high risk</th>\n",
       "    </tr>\n",
       "  </thead>\n",
       "  <tbody>\n",
       "    <tr>\n",
       "      <th>0</th>\n",
       "      <td>5091261</td>\n",
       "      <td>1</td>\n",
       "      <td>0</td>\n",
       "      <td>Y</td>\n",
       "      <td>0</td>\n",
       "      <td>2.025</td>\n",
       "      <td>3</td>\n",
       "      <td>0</td>\n",
       "      <td>Separated</td>\n",
       "      <td>House / apartment</td>\n",
       "      <td>22</td>\n",
       "      <td>38</td>\n",
       "      <td>1</td>\n",
       "      <td>0</td>\n",
       "      <td>0</td>\n",
       "      <td>0</td>\n",
       "      <td>Medicine staff</td>\n",
       "      <td>1.0</td>\n",
       "      <td>54.0</td>\n",
       "      <td>0</td>\n",
       "    </tr>\n",
       "    <tr>\n",
       "      <th>1</th>\n",
       "      <td>5096963</td>\n",
       "      <td>0</td>\n",
       "      <td>1</td>\n",
       "      <td>N</td>\n",
       "      <td>0</td>\n",
       "      <td>6.750</td>\n",
       "      <td>1</td>\n",
       "      <td>1</td>\n",
       "      <td>Married</td>\n",
       "      <td>House / apartment</td>\n",
       "      <td>19</td>\n",
       "      <td>40</td>\n",
       "      <td>1</td>\n",
       "      <td>0</td>\n",
       "      <td>1</td>\n",
       "      <td>0</td>\n",
       "      <td>Managers</td>\n",
       "      <td>2.0</td>\n",
       "      <td>44.0</td>\n",
       "      <td>0</td>\n",
       "    </tr>\n",
       "  </tbody>\n",
       "</table>\n",
       "</div>"
      ],
      "text/plain": [
       "        ID  Gender  Has a car Has a property  Children count  Income  \\\n",
       "0  5091261       1          0              Y               0   2.025   \n",
       "1  5096963       0          1              N               0   6.750   \n",
       "\n",
       "   Employment status  Education level Marital status           Dwelling  Age  \\\n",
       "0                  3                0      Separated  House / apartment   22   \n",
       "1                  1                1        Married  House / apartment   19   \n",
       "\n",
       "   Employment length  Has a mobile phone  Has a work phone  Has a phone  \\\n",
       "0                 38                   1                 0            0   \n",
       "1                 40                   1                 0            1   \n",
       "\n",
       "   Has an email       Job title  Family member count  Account age  \\\n",
       "0             0  Medicine staff                  1.0         54.0   \n",
       "1             0        Managers                  2.0         44.0   \n",
       "\n",
       "   Is high risk  \n",
       "0             0  \n",
       "1             0  "
      ]
     },
     "execution_count": 769,
     "metadata": {},
     "output_type": "execute_result"
    }
   ],
   "source": [
    "test_df.head(2)"
   ]
  },
  {
   "cell_type": "code",
   "execution_count": 770,
   "id": "518fffca",
   "metadata": {},
   "outputs": [],
   "source": [
    "## Encoding for Marital status"
   ]
  },
  {
   "cell_type": "code",
   "execution_count": 771,
   "id": "28b05bd5",
   "metadata": {},
   "outputs": [
    {
     "data": {
      "text/plain": [
       "Married                 5004\n",
       "Single / not married     965\n",
       "Civil marriage           633\n",
       "Separated                391\n",
       "Widow                    299\n",
       "Name: Marital status, dtype: int64"
      ]
     },
     "execution_count": 771,
     "metadata": {},
     "output_type": "execute_result"
    }
   ],
   "source": [
    "## Test dataset\n",
    "test_df['Marital status'].value_counts()"
   ]
  },
  {
   "cell_type": "code",
   "execution_count": 772,
   "id": "bbbce807",
   "metadata": {},
   "outputs": [],
   "source": [
    "test_df['Marital status'] = test_df['Marital status'].replace(['Married','Single / not married','Civil marriage','Separated','Widow'], [0, 1,2,3,4])"
   ]
  },
  {
   "cell_type": "code",
   "execution_count": 773,
   "id": "110f99ed",
   "metadata": {},
   "outputs": [
    {
     "data": {
      "text/plain": [
       "0    5004\n",
       "1     965\n",
       "2     633\n",
       "3     391\n",
       "4     299\n",
       "Name: Marital status, dtype: int64"
      ]
     },
     "execution_count": 773,
     "metadata": {},
     "output_type": "execute_result"
    }
   ],
   "source": [
    "test_df['Marital status'].value_counts()"
   ]
  },
  {
   "cell_type": "code",
   "execution_count": 774,
   "id": "c6efbe39",
   "metadata": {},
   "outputs": [
    {
     "data": {
      "text/plain": [
       "Married                 20044\n",
       "Single / not married     3864\n",
       "Civil marriage           2312\n",
       "Separated                1712\n",
       "Widow                    1233\n",
       "Name: Marital status, dtype: int64"
      ]
     },
     "execution_count": 774,
     "metadata": {},
     "output_type": "execute_result"
    }
   ],
   "source": [
    "### Train dataset\n",
    "train_df['Marital status'].value_counts()"
   ]
  },
  {
   "cell_type": "code",
   "execution_count": 775,
   "id": "6f1ebc6d",
   "metadata": {},
   "outputs": [],
   "source": [
    "train_df['Marital status'] = train_df['Marital status'].replace(['Married','Single / not married','Civil marriage','Separated','Widow'], [0, 1,2,3,4])"
   ]
  },
  {
   "cell_type": "code",
   "execution_count": 776,
   "id": "3cb90108",
   "metadata": {},
   "outputs": [
    {
     "data": {
      "text/plain": [
       "0    20044\n",
       "1     3864\n",
       "2     2312\n",
       "3     1712\n",
       "4     1233\n",
       "Name: Marital status, dtype: int64"
      ]
     },
     "execution_count": 776,
     "metadata": {},
     "output_type": "execute_result"
    }
   ],
   "source": [
    "train_df['Marital status'].value_counts()"
   ]
  },
  {
   "cell_type": "code",
   "execution_count": 777,
   "id": "a1c1a276",
   "metadata": {},
   "outputs": [
    {
     "data": {
      "text/html": [
       "<div>\n",
       "<style scoped>\n",
       "    .dataframe tbody tr th:only-of-type {\n",
       "        vertical-align: middle;\n",
       "    }\n",
       "\n",
       "    .dataframe tbody tr th {\n",
       "        vertical-align: top;\n",
       "    }\n",
       "\n",
       "    .dataframe thead th {\n",
       "        text-align: right;\n",
       "    }\n",
       "</style>\n",
       "<table border=\"1\" class=\"dataframe\">\n",
       "  <thead>\n",
       "    <tr style=\"text-align: right;\">\n",
       "      <th></th>\n",
       "      <th>ID</th>\n",
       "      <th>Gender</th>\n",
       "      <th>Has a car</th>\n",
       "      <th>Has a property</th>\n",
       "      <th>Children count</th>\n",
       "      <th>Income</th>\n",
       "      <th>Employment status</th>\n",
       "      <th>Education level</th>\n",
       "      <th>Marital status</th>\n",
       "      <th>Dwelling</th>\n",
       "      <th>Age</th>\n",
       "      <th>Employment length</th>\n",
       "      <th>Has a mobile phone</th>\n",
       "      <th>Has a work phone</th>\n",
       "      <th>Has a phone</th>\n",
       "      <th>Has an email</th>\n",
       "      <th>Job title</th>\n",
       "      <th>Family member count</th>\n",
       "      <th>Account age</th>\n",
       "      <th>Is high risk</th>\n",
       "    </tr>\n",
       "  </thead>\n",
       "  <tbody>\n",
       "    <tr>\n",
       "      <th>0</th>\n",
       "      <td>5091261</td>\n",
       "      <td>1</td>\n",
       "      <td>0</td>\n",
       "      <td>Y</td>\n",
       "      <td>0</td>\n",
       "      <td>2.025</td>\n",
       "      <td>3</td>\n",
       "      <td>0</td>\n",
       "      <td>3</td>\n",
       "      <td>House / apartment</td>\n",
       "      <td>22</td>\n",
       "      <td>38</td>\n",
       "      <td>1</td>\n",
       "      <td>0</td>\n",
       "      <td>0</td>\n",
       "      <td>0</td>\n",
       "      <td>Medicine staff</td>\n",
       "      <td>1.0</td>\n",
       "      <td>54.0</td>\n",
       "      <td>0</td>\n",
       "    </tr>\n",
       "    <tr>\n",
       "      <th>1</th>\n",
       "      <td>5096963</td>\n",
       "      <td>0</td>\n",
       "      <td>1</td>\n",
       "      <td>N</td>\n",
       "      <td>0</td>\n",
       "      <td>6.750</td>\n",
       "      <td>1</td>\n",
       "      <td>1</td>\n",
       "      <td>0</td>\n",
       "      <td>House / apartment</td>\n",
       "      <td>19</td>\n",
       "      <td>40</td>\n",
       "      <td>1</td>\n",
       "      <td>0</td>\n",
       "      <td>1</td>\n",
       "      <td>0</td>\n",
       "      <td>Managers</td>\n",
       "      <td>2.0</td>\n",
       "      <td>44.0</td>\n",
       "      <td>0</td>\n",
       "    </tr>\n",
       "  </tbody>\n",
       "</table>\n",
       "</div>"
      ],
      "text/plain": [
       "        ID  Gender  Has a car Has a property  Children count  Income  \\\n",
       "0  5091261       1          0              Y               0   2.025   \n",
       "1  5096963       0          1              N               0   6.750   \n",
       "\n",
       "   Employment status  Education level  Marital status           Dwelling  Age  \\\n",
       "0                  3                0               3  House / apartment   22   \n",
       "1                  1                1               0  House / apartment   19   \n",
       "\n",
       "   Employment length  Has a mobile phone  Has a work phone  Has a phone  \\\n",
       "0                 38                   1                 0            0   \n",
       "1                 40                   1                 0            1   \n",
       "\n",
       "   Has an email       Job title  Family member count  Account age  \\\n",
       "0             0  Medicine staff                  1.0         54.0   \n",
       "1             0        Managers                  2.0         44.0   \n",
       "\n",
       "   Is high risk  \n",
       "0             0  \n",
       "1             0  "
      ]
     },
     "execution_count": 777,
     "metadata": {},
     "output_type": "execute_result"
    }
   ],
   "source": [
    "test_df.head(2)"
   ]
  },
  {
   "cell_type": "code",
   "execution_count": 778,
   "id": "fd014c82",
   "metadata": {},
   "outputs": [],
   "source": [
    "## Encoding for Dwelling"
   ]
  },
  {
   "cell_type": "code",
   "execution_count": 779,
   "id": "1bd829b5",
   "metadata": {},
   "outputs": [
    {
     "data": {
      "text/plain": [
       "House / apartment      6489\n",
       "With parents            370\n",
       "Municipal apartment     216\n",
       "Rented apartment        122\n",
       "Office apartment         54\n",
       "Co-op apartment          41\n",
       "Name: Dwelling, dtype: int64"
      ]
     },
     "execution_count": 779,
     "metadata": {},
     "output_type": "execute_result"
    }
   ],
   "source": [
    "### Test dataset\n",
    "test_df['Dwelling'].value_counts()"
   ]
  },
  {
   "cell_type": "code",
   "execution_count": 780,
   "id": "8f3007aa",
   "metadata": {},
   "outputs": [],
   "source": [
    "test_df['Dwelling'] = test_df['Dwelling'].replace(['House / apartment','With parents','Municipal apartment','Rented apartment','Office apartment','Co-op apartment'], [0, 1,2,3,4,5])"
   ]
  },
  {
   "cell_type": "code",
   "execution_count": 781,
   "id": "0d40347d",
   "metadata": {},
   "outputs": [
    {
     "data": {
      "text/plain": [
       "0    6489\n",
       "1     370\n",
       "2     216\n",
       "3     122\n",
       "4      54\n",
       "5      41\n",
       "Name: Dwelling, dtype: int64"
      ]
     },
     "execution_count": 781,
     "metadata": {},
     "output_type": "execute_result"
    }
   ],
   "source": [
    "test_df['Dwelling'].value_counts()"
   ]
  },
  {
   "cell_type": "code",
   "execution_count": 782,
   "id": "e7cd12b7",
   "metadata": {},
   "outputs": [
    {
     "data": {
      "text/plain": [
       "House / apartment      26059\n",
       "With parents            1406\n",
       "Municipal apartment      912\n",
       "Rented apartment         453\n",
       "Office apartment         208\n",
       "Co-op apartment          127\n",
       "Name: Dwelling, dtype: int64"
      ]
     },
     "execution_count": 782,
     "metadata": {},
     "output_type": "execute_result"
    }
   ],
   "source": [
    "### Train dataset\n",
    "train_df['Dwelling'].value_counts()"
   ]
  },
  {
   "cell_type": "code",
   "execution_count": 783,
   "id": "81f38bef",
   "metadata": {},
   "outputs": [],
   "source": [
    "train_df['Dwelling'] = train_df['Dwelling'].replace(['House / apartment','With parents','Municipal apartment','Rented apartment','Office apartment','Co-op apartment'], [0, 1,2,3,4,5])"
   ]
  },
  {
   "cell_type": "code",
   "execution_count": 784,
   "id": "e71effe6",
   "metadata": {},
   "outputs": [
    {
     "data": {
      "text/plain": [
       "0    26059\n",
       "1     1406\n",
       "2      912\n",
       "3      453\n",
       "4      208\n",
       "5      127\n",
       "Name: Dwelling, dtype: int64"
      ]
     },
     "execution_count": 784,
     "metadata": {},
     "output_type": "execute_result"
    }
   ],
   "source": [
    "train_df['Dwelling'].value_counts()"
   ]
  },
  {
   "cell_type": "code",
   "execution_count": 785,
   "id": "360893e0",
   "metadata": {},
   "outputs": [
    {
     "data": {
      "text/html": [
       "<div>\n",
       "<style scoped>\n",
       "    .dataframe tbody tr th:only-of-type {\n",
       "        vertical-align: middle;\n",
       "    }\n",
       "\n",
       "    .dataframe tbody tr th {\n",
       "        vertical-align: top;\n",
       "    }\n",
       "\n",
       "    .dataframe thead th {\n",
       "        text-align: right;\n",
       "    }\n",
       "</style>\n",
       "<table border=\"1\" class=\"dataframe\">\n",
       "  <thead>\n",
       "    <tr style=\"text-align: right;\">\n",
       "      <th></th>\n",
       "      <th>ID</th>\n",
       "      <th>Gender</th>\n",
       "      <th>Has a car</th>\n",
       "      <th>Has a property</th>\n",
       "      <th>Children count</th>\n",
       "      <th>Income</th>\n",
       "      <th>Employment status</th>\n",
       "      <th>Education level</th>\n",
       "      <th>Marital status</th>\n",
       "      <th>Dwelling</th>\n",
       "      <th>Age</th>\n",
       "      <th>Employment length</th>\n",
       "      <th>Has a mobile phone</th>\n",
       "      <th>Has a work phone</th>\n",
       "      <th>Has a phone</th>\n",
       "      <th>Has an email</th>\n",
       "      <th>Job title</th>\n",
       "      <th>Family member count</th>\n",
       "      <th>Account age</th>\n",
       "      <th>Is high risk</th>\n",
       "    </tr>\n",
       "  </thead>\n",
       "  <tbody>\n",
       "    <tr>\n",
       "      <th>0</th>\n",
       "      <td>5091261</td>\n",
       "      <td>1</td>\n",
       "      <td>0</td>\n",
       "      <td>Y</td>\n",
       "      <td>0</td>\n",
       "      <td>2.025</td>\n",
       "      <td>3</td>\n",
       "      <td>0</td>\n",
       "      <td>3</td>\n",
       "      <td>0</td>\n",
       "      <td>22</td>\n",
       "      <td>38</td>\n",
       "      <td>1</td>\n",
       "      <td>0</td>\n",
       "      <td>0</td>\n",
       "      <td>0</td>\n",
       "      <td>Medicine staff</td>\n",
       "      <td>1.0</td>\n",
       "      <td>54.0</td>\n",
       "      <td>0</td>\n",
       "    </tr>\n",
       "    <tr>\n",
       "      <th>1</th>\n",
       "      <td>5096963</td>\n",
       "      <td>0</td>\n",
       "      <td>1</td>\n",
       "      <td>N</td>\n",
       "      <td>0</td>\n",
       "      <td>6.750</td>\n",
       "      <td>1</td>\n",
       "      <td>1</td>\n",
       "      <td>0</td>\n",
       "      <td>0</td>\n",
       "      <td>19</td>\n",
       "      <td>40</td>\n",
       "      <td>1</td>\n",
       "      <td>0</td>\n",
       "      <td>1</td>\n",
       "      <td>0</td>\n",
       "      <td>Managers</td>\n",
       "      <td>2.0</td>\n",
       "      <td>44.0</td>\n",
       "      <td>0</td>\n",
       "    </tr>\n",
       "  </tbody>\n",
       "</table>\n",
       "</div>"
      ],
      "text/plain": [
       "        ID  Gender  Has a car Has a property  Children count  Income  \\\n",
       "0  5091261       1          0              Y               0   2.025   \n",
       "1  5096963       0          1              N               0   6.750   \n",
       "\n",
       "   Employment status  Education level  Marital status  Dwelling  Age  \\\n",
       "0                  3                0               3         0   22   \n",
       "1                  1                1               0         0   19   \n",
       "\n",
       "   Employment length  Has a mobile phone  Has a work phone  Has a phone  \\\n",
       "0                 38                   1                 0            0   \n",
       "1                 40                   1                 0            1   \n",
       "\n",
       "   Has an email       Job title  Family member count  Account age  \\\n",
       "0             0  Medicine staff                  1.0         54.0   \n",
       "1             0        Managers                  2.0         44.0   \n",
       "\n",
       "   Is high risk  \n",
       "0             0  \n",
       "1             0  "
      ]
     },
     "execution_count": 785,
     "metadata": {},
     "output_type": "execute_result"
    }
   ],
   "source": [
    "test_df.head(2)"
   ]
  },
  {
   "cell_type": "code",
   "execution_count": 786,
   "id": "148f8bb3",
   "metadata": {},
   "outputs": [],
   "source": [
    "### Encoding for Job title"
   ]
  },
  {
   "cell_type": "code",
   "execution_count": 787,
   "id": "d3b386ad",
   "metadata": {},
   "outputs": [
    {
     "data": {
      "text/plain": [
       "Other                    2296\n",
       "Laborers                 1207\n",
       "Core staff                725\n",
       "Sales staff               712\n",
       "Managers                  590\n",
       "Drivers                   416\n",
       "Medicine staff            251\n",
       "High skill tech staff     250\n",
       "Accountants               243\n",
       "Cooking staff             134\n",
       "Security staff            128\n",
       "Cleaning staff            126\n",
       "Private service staff      57\n",
       "Waiters/barmen staff       47\n",
       "Low-skill Laborers         37\n",
       "Secretaries                29\n",
       "Realty agents              19\n",
       "HR staff                   13\n",
       "IT staff                   12\n",
       "Name: Job title, dtype: int64"
      ]
     },
     "execution_count": 787,
     "metadata": {},
     "output_type": "execute_result"
    }
   ],
   "source": [
    "## Test dataset\n",
    "test_df['Job title'].value_counts()"
   ]
  },
  {
   "cell_type": "code",
   "execution_count": 788,
   "id": "aca566d0",
   "metadata": {},
   "outputs": [],
   "source": [
    "categories=test_df['Job title'].unique()"
   ]
  },
  {
   "cell_type": "code",
   "execution_count": 789,
   "id": "d0fdb3e6",
   "metadata": {},
   "outputs": [
    {
     "data": {
      "text/plain": [
       "array(['Medicine staff', 'Managers', 'Core staff', 'Laborers', 'Other',\n",
       "       'Sales staff', 'Waiters/barmen staff', 'High skill tech staff',\n",
       "       'Drivers', 'HR staff', 'Cleaning staff', 'Accountants',\n",
       "       'Realty agents', 'Security staff', 'Secretaries', 'Cooking staff',\n",
       "       'Private service staff', 'IT staff', 'Low-skill Laborers'],\n",
       "      dtype=object)"
      ]
     },
     "execution_count": 789,
     "metadata": {},
     "output_type": "execute_result"
    }
   ],
   "source": [
    "categories"
   ]
  },
  {
   "cell_type": "code",
   "execution_count": 790,
   "id": "c0123251",
   "metadata": {},
   "outputs": [
    {
     "name": "stdout",
     "output_type": "stream",
     "text": [
      "0 Medicine staff\n",
      "1 Managers\n",
      "2 Core staff\n",
      "3 Laborers\n",
      "4 Other\n",
      "5 Sales staff\n",
      "6 Waiters/barmen staff\n",
      "7 High skill tech staff\n",
      "8 Drivers\n",
      "9 HR staff\n",
      "10 Cleaning staff\n",
      "11 Accountants\n",
      "12 Realty agents\n",
      "13 Security staff\n",
      "14 Secretaries\n",
      "15 Cooking staff\n",
      "16 Private service staff\n",
      "17 IT staff\n",
      "18 Low-skill Laborers\n"
     ]
    }
   ],
   "source": [
    "for i in range(len(categories)):\n",
    "    print(i,categories[i])"
   ]
  },
  {
   "cell_type": "code",
   "execution_count": 791,
   "id": "d77ead05",
   "metadata": {},
   "outputs": [],
   "source": [
    "for i in range(len(categories)):\n",
    "    test_df['Job title'].replace(categories[i], i, inplace=True)"
   ]
  },
  {
   "cell_type": "code",
   "execution_count": 792,
   "id": "4fea646e",
   "metadata": {},
   "outputs": [
    {
     "data": {
      "text/plain": [
       "4     2296\n",
       "3     1207\n",
       "2      725\n",
       "5      712\n",
       "1      590\n",
       "8      416\n",
       "0      251\n",
       "7      250\n",
       "11     243\n",
       "15     134\n",
       "13     128\n",
       "10     126\n",
       "16      57\n",
       "6       47\n",
       "18      37\n",
       "14      29\n",
       "12      19\n",
       "9       13\n",
       "17      12\n",
       "Name: Job title, dtype: int64"
      ]
     },
     "execution_count": 792,
     "metadata": {},
     "output_type": "execute_result"
    }
   ],
   "source": [
    "test_df['Job title'].value_counts()"
   ]
  },
  {
   "cell_type": "code",
   "execution_count": 793,
   "id": "90f4741d",
   "metadata": {},
   "outputs": [
    {
     "data": {
      "text/plain": [
       "Laborers                 5004\n",
       "Core staff               2866\n",
       "Sales staff              2773\n",
       "Managers                 2422\n",
       "Drivers                  1722\n",
       "High skill tech staff    1133\n",
       "Accountants               998\n",
       "Medicine staff            956\n",
       "Cooking staff             521\n",
       "Security staff            464\n",
       "Cleaning staff            425\n",
       "Private service staff     287\n",
       "Low-skill Laborers        138\n",
       "Waiters/barmen staff      127\n",
       "Secretaries               122\n",
       "HR staff                   72\n",
       "Realty agents              60\n",
       "IT staff                   48\n",
       "Name: Job title, dtype: int64"
      ]
     },
     "execution_count": 793,
     "metadata": {},
     "output_type": "execute_result"
    }
   ],
   "source": [
    "## Train dataset\n",
    "train_df['Job title'].value_counts()"
   ]
  },
  {
   "cell_type": "code",
   "execution_count": 794,
   "id": "2ae9823d",
   "metadata": {},
   "outputs": [
    {
     "data": {
      "text/plain": [
       "False    20138\n",
       "True      9027\n",
       "Name: Job title, dtype: int64"
      ]
     },
     "execution_count": 794,
     "metadata": {},
     "output_type": "execute_result"
    }
   ],
   "source": [
    "train_df['Job title'].isnull().value_counts()"
   ]
  },
  {
   "cell_type": "code",
   "execution_count": 795,
   "id": "15c34595",
   "metadata": {},
   "outputs": [],
   "source": [
    "train_df['Job title']=train_df['Job title'].fillna('Other')"
   ]
  },
  {
   "cell_type": "code",
   "execution_count": 796,
   "id": "9313c392",
   "metadata": {},
   "outputs": [
    {
     "data": {
      "text/plain": [
       "Other                    9027\n",
       "Laborers                 5004\n",
       "Core staff               2866\n",
       "Sales staff              2773\n",
       "Managers                 2422\n",
       "Drivers                  1722\n",
       "High skill tech staff    1133\n",
       "Accountants               998\n",
       "Medicine staff            956\n",
       "Cooking staff             521\n",
       "Security staff            464\n",
       "Cleaning staff            425\n",
       "Private service staff     287\n",
       "Low-skill Laborers        138\n",
       "Waiters/barmen staff      127\n",
       "Secretaries               122\n",
       "HR staff                   72\n",
       "Realty agents              60\n",
       "IT staff                   48\n",
       "Name: Job title, dtype: int64"
      ]
     },
     "execution_count": 796,
     "metadata": {},
     "output_type": "execute_result"
    }
   ],
   "source": [
    "train_df['Job title'].value_counts()"
   ]
  },
  {
   "cell_type": "code",
   "execution_count": 797,
   "id": "acdbb221",
   "metadata": {},
   "outputs": [],
   "source": [
    "for i in range(len(categories)):\n",
    "    train_df['Job title'].replace(categories[i], i, inplace=True)"
   ]
  },
  {
   "cell_type": "code",
   "execution_count": 798,
   "id": "ef06fd84",
   "metadata": {},
   "outputs": [
    {
     "data": {
      "text/plain": [
       "4     9027\n",
       "3     5004\n",
       "2     2866\n",
       "5     2773\n",
       "1     2422\n",
       "8     1722\n",
       "7     1133\n",
       "11     998\n",
       "0      956\n",
       "15     521\n",
       "13     464\n",
       "10     425\n",
       "16     287\n",
       "18     138\n",
       "6      127\n",
       "14     122\n",
       "9       72\n",
       "12      60\n",
       "17      48\n",
       "Name: Job title, dtype: int64"
      ]
     },
     "execution_count": 798,
     "metadata": {},
     "output_type": "execute_result"
    }
   ],
   "source": [
    "train_df['Job title'].value_counts()"
   ]
  },
  {
   "cell_type": "code",
   "execution_count": 799,
   "id": "b03e7a1c",
   "metadata": {},
   "outputs": [
    {
     "data": {
      "text/html": [
       "<div>\n",
       "<style scoped>\n",
       "    .dataframe tbody tr th:only-of-type {\n",
       "        vertical-align: middle;\n",
       "    }\n",
       "\n",
       "    .dataframe tbody tr th {\n",
       "        vertical-align: top;\n",
       "    }\n",
       "\n",
       "    .dataframe thead th {\n",
       "        text-align: right;\n",
       "    }\n",
       "</style>\n",
       "<table border=\"1\" class=\"dataframe\">\n",
       "  <thead>\n",
       "    <tr style=\"text-align: right;\">\n",
       "      <th></th>\n",
       "      <th>ID</th>\n",
       "      <th>Gender</th>\n",
       "      <th>Has a car</th>\n",
       "      <th>Has a property</th>\n",
       "      <th>Children count</th>\n",
       "      <th>Income</th>\n",
       "      <th>Employment status</th>\n",
       "      <th>Education level</th>\n",
       "      <th>Marital status</th>\n",
       "      <th>Dwelling</th>\n",
       "      <th>Age</th>\n",
       "      <th>Employment length</th>\n",
       "      <th>Has a mobile phone</th>\n",
       "      <th>Has a work phone</th>\n",
       "      <th>Has a phone</th>\n",
       "      <th>Has an email</th>\n",
       "      <th>Job title</th>\n",
       "      <th>Family member count</th>\n",
       "      <th>Account age</th>\n",
       "      <th>Is high risk</th>\n",
       "    </tr>\n",
       "  </thead>\n",
       "  <tbody>\n",
       "    <tr>\n",
       "      <th>0</th>\n",
       "      <td>5091261</td>\n",
       "      <td>1</td>\n",
       "      <td>0</td>\n",
       "      <td>Y</td>\n",
       "      <td>0</td>\n",
       "      <td>2.025</td>\n",
       "      <td>3</td>\n",
       "      <td>0</td>\n",
       "      <td>3</td>\n",
       "      <td>0</td>\n",
       "      <td>22</td>\n",
       "      <td>38</td>\n",
       "      <td>1</td>\n",
       "      <td>0</td>\n",
       "      <td>0</td>\n",
       "      <td>0</td>\n",
       "      <td>0</td>\n",
       "      <td>1.0</td>\n",
       "      <td>54.0</td>\n",
       "      <td>0</td>\n",
       "    </tr>\n",
       "    <tr>\n",
       "      <th>1</th>\n",
       "      <td>5096963</td>\n",
       "      <td>0</td>\n",
       "      <td>1</td>\n",
       "      <td>N</td>\n",
       "      <td>0</td>\n",
       "      <td>6.750</td>\n",
       "      <td>1</td>\n",
       "      <td>1</td>\n",
       "      <td>0</td>\n",
       "      <td>0</td>\n",
       "      <td>19</td>\n",
       "      <td>40</td>\n",
       "      <td>1</td>\n",
       "      <td>0</td>\n",
       "      <td>1</td>\n",
       "      <td>0</td>\n",
       "      <td>1</td>\n",
       "      <td>2.0</td>\n",
       "      <td>44.0</td>\n",
       "      <td>0</td>\n",
       "    </tr>\n",
       "  </tbody>\n",
       "</table>\n",
       "</div>"
      ],
      "text/plain": [
       "        ID  Gender  Has a car Has a property  Children count  Income  \\\n",
       "0  5091261       1          0              Y               0   2.025   \n",
       "1  5096963       0          1              N               0   6.750   \n",
       "\n",
       "   Employment status  Education level  Marital status  Dwelling  Age  \\\n",
       "0                  3                0               3         0   22   \n",
       "1                  1                1               0         0   19   \n",
       "\n",
       "   Employment length  Has a mobile phone  Has a work phone  Has a phone  \\\n",
       "0                 38                   1                 0            0   \n",
       "1                 40                   1                 0            1   \n",
       "\n",
       "   Has an email  Job title  Family member count  Account age  Is high risk  \n",
       "0             0          0                  1.0         54.0             0  \n",
       "1             0          1                  2.0         44.0             0  "
      ]
     },
     "execution_count": 799,
     "metadata": {},
     "output_type": "execute_result"
    }
   ],
   "source": [
    "test_df.head(2)"
   ]
  },
  {
   "cell_type": "code",
   "execution_count": 800,
   "id": "4f260fe2",
   "metadata": {},
   "outputs": [
    {
     "data": {
      "text/plain": [
       "Y    4949\n",
       "N    2343\n",
       "Name: Has a property, dtype: int64"
      ]
     },
     "execution_count": 800,
     "metadata": {},
     "output_type": "execute_result"
    }
   ],
   "source": [
    "### Encoding of 'Has a property'\n",
    "### Test dataset\n",
    "test_df['Has a property'].value_counts()"
   ]
  },
  {
   "cell_type": "code",
   "execution_count": 801,
   "id": "72aa07b9",
   "metadata": {},
   "outputs": [],
   "source": [
    "test_df['Has a property']=test_df['Has a property'].replace(['Y','N'],[1,0]);"
   ]
  },
  {
   "cell_type": "code",
   "execution_count": 802,
   "id": "eed2755c",
   "metadata": {},
   "outputs": [
    {
     "data": {
      "text/plain": [
       "1    4949\n",
       "0    2343\n",
       "Name: Has a property, dtype: int64"
      ]
     },
     "execution_count": 802,
     "metadata": {},
     "output_type": "execute_result"
    }
   ],
   "source": [
    "test_df['Has a property'].value_counts()"
   ]
  },
  {
   "cell_type": "code",
   "execution_count": 803,
   "id": "7fb4fafd",
   "metadata": {},
   "outputs": [
    {
     "data": {
      "text/plain": [
       "Y    19557\n",
       "N     9608\n",
       "Name: Has a property, dtype: int64"
      ]
     },
     "execution_count": 803,
     "metadata": {},
     "output_type": "execute_result"
    }
   ],
   "source": [
    "### Train dataset\n",
    "train_df['Has a property'].value_counts()"
   ]
  },
  {
   "cell_type": "code",
   "execution_count": 804,
   "id": "15d94b5e",
   "metadata": {},
   "outputs": [],
   "source": [
    "train_df['Has a property']=train_df['Has a property'].replace(['Y','N'],[1,0]);"
   ]
  },
  {
   "cell_type": "code",
   "execution_count": 805,
   "id": "0077d52d",
   "metadata": {},
   "outputs": [
    {
     "data": {
      "text/plain": [
       "1    19557\n",
       "0     9608\n",
       "Name: Has a property, dtype: int64"
      ]
     },
     "execution_count": 805,
     "metadata": {},
     "output_type": "execute_result"
    }
   ],
   "source": [
    "train_df['Has a property'].value_counts()"
   ]
  },
  {
   "cell_type": "code",
   "execution_count": 806,
   "id": "a912f504",
   "metadata": {},
   "outputs": [
    {
     "data": {
      "text/html": [
       "<div>\n",
       "<style scoped>\n",
       "    .dataframe tbody tr th:only-of-type {\n",
       "        vertical-align: middle;\n",
       "    }\n",
       "\n",
       "    .dataframe tbody tr th {\n",
       "        vertical-align: top;\n",
       "    }\n",
       "\n",
       "    .dataframe thead th {\n",
       "        text-align: right;\n",
       "    }\n",
       "</style>\n",
       "<table border=\"1\" class=\"dataframe\">\n",
       "  <thead>\n",
       "    <tr style=\"text-align: right;\">\n",
       "      <th></th>\n",
       "      <th>ID</th>\n",
       "      <th>Gender</th>\n",
       "      <th>Has a car</th>\n",
       "      <th>Has a property</th>\n",
       "      <th>Children count</th>\n",
       "      <th>Income</th>\n",
       "      <th>Employment status</th>\n",
       "      <th>Education level</th>\n",
       "      <th>Marital status</th>\n",
       "      <th>Dwelling</th>\n",
       "      <th>Age</th>\n",
       "      <th>Employment length</th>\n",
       "      <th>Has a mobile phone</th>\n",
       "      <th>Has a work phone</th>\n",
       "      <th>Has a phone</th>\n",
       "      <th>Has an email</th>\n",
       "      <th>Job title</th>\n",
       "      <th>Family member count</th>\n",
       "      <th>Account age</th>\n",
       "      <th>Is high risk</th>\n",
       "    </tr>\n",
       "  </thead>\n",
       "  <tbody>\n",
       "    <tr>\n",
       "      <th>0</th>\n",
       "      <td>5091261</td>\n",
       "      <td>1</td>\n",
       "      <td>0</td>\n",
       "      <td>1</td>\n",
       "      <td>0</td>\n",
       "      <td>2.025</td>\n",
       "      <td>3</td>\n",
       "      <td>0</td>\n",
       "      <td>3</td>\n",
       "      <td>0</td>\n",
       "      <td>22</td>\n",
       "      <td>38</td>\n",
       "      <td>1</td>\n",
       "      <td>0</td>\n",
       "      <td>0</td>\n",
       "      <td>0</td>\n",
       "      <td>0</td>\n",
       "      <td>1.0</td>\n",
       "      <td>54.0</td>\n",
       "      <td>0</td>\n",
       "    </tr>\n",
       "    <tr>\n",
       "      <th>1</th>\n",
       "      <td>5096963</td>\n",
       "      <td>0</td>\n",
       "      <td>1</td>\n",
       "      <td>0</td>\n",
       "      <td>0</td>\n",
       "      <td>6.750</td>\n",
       "      <td>1</td>\n",
       "      <td>1</td>\n",
       "      <td>0</td>\n",
       "      <td>0</td>\n",
       "      <td>19</td>\n",
       "      <td>40</td>\n",
       "      <td>1</td>\n",
       "      <td>0</td>\n",
       "      <td>1</td>\n",
       "      <td>0</td>\n",
       "      <td>1</td>\n",
       "      <td>2.0</td>\n",
       "      <td>44.0</td>\n",
       "      <td>0</td>\n",
       "    </tr>\n",
       "  </tbody>\n",
       "</table>\n",
       "</div>"
      ],
      "text/plain": [
       "        ID  Gender  Has a car  Has a property  Children count  Income  \\\n",
       "0  5091261       1          0               1               0   2.025   \n",
       "1  5096963       0          1               0               0   6.750   \n",
       "\n",
       "   Employment status  Education level  Marital status  Dwelling  Age  \\\n",
       "0                  3                0               3         0   22   \n",
       "1                  1                1               0         0   19   \n",
       "\n",
       "   Employment length  Has a mobile phone  Has a work phone  Has a phone  \\\n",
       "0                 38                   1                 0            0   \n",
       "1                 40                   1                 0            1   \n",
       "\n",
       "   Has an email  Job title  Family member count  Account age  Is high risk  \n",
       "0             0          0                  1.0         54.0             0  \n",
       "1             0          1                  2.0         44.0             0  "
      ]
     },
     "execution_count": 806,
     "metadata": {},
     "output_type": "execute_result"
    }
   ],
   "source": [
    "test_df.head(2)"
   ]
  },
  {
   "cell_type": "code",
   "execution_count": 807,
   "id": "bb3e2ca8",
   "metadata": {},
   "outputs": [
    {
     "name": "stdout",
     "output_type": "stream",
     "text": [
      "<class 'pandas.core.frame.DataFrame'>\n",
      "RangeIndex: 7292 entries, 0 to 7291\n",
      "Data columns (total 20 columns):\n",
      " #   Column               Non-Null Count  Dtype  \n",
      "---  ------               --------------  -----  \n",
      " 0   ID                   7292 non-null   int64  \n",
      " 1   Gender               7292 non-null   int64  \n",
      " 2   Has a car            7292 non-null   int64  \n",
      " 3   Has a property       7292 non-null   int64  \n",
      " 4   Children count       7292 non-null   int64  \n",
      " 5   Income               7292 non-null   float64\n",
      " 6   Employment status    7292 non-null   int64  \n",
      " 7   Education level      7292 non-null   int64  \n",
      " 8   Marital status       7292 non-null   int64  \n",
      " 9   Dwelling             7292 non-null   int64  \n",
      " 10  Age                  7292 non-null   int64  \n",
      " 11  Employment length    7292 non-null   int64  \n",
      " 12  Has a mobile phone   7292 non-null   int64  \n",
      " 13  Has a work phone     7292 non-null   int64  \n",
      " 14  Has a phone          7292 non-null   int64  \n",
      " 15  Has an email         7292 non-null   int64  \n",
      " 16  Job title            7292 non-null   int64  \n",
      " 17  Family member count  7292 non-null   float64\n",
      " 18  Account age          7292 non-null   float64\n",
      " 19  Is high risk         7292 non-null   int64  \n",
      "dtypes: float64(3), int64(17)\n",
      "memory usage: 1.1 MB\n"
     ]
    }
   ],
   "source": [
    "test_df.info()"
   ]
  },
  {
   "cell_type": "code",
   "execution_count": 808,
   "id": "6270f7ae",
   "metadata": {},
   "outputs": [
    {
     "name": "stdout",
     "output_type": "stream",
     "text": [
      "<class 'pandas.core.frame.DataFrame'>\n",
      "RangeIndex: 29165 entries, 0 to 29164\n",
      "Data columns (total 20 columns):\n",
      " #   Column               Non-Null Count  Dtype  \n",
      "---  ------               --------------  -----  \n",
      " 0   ID                   29165 non-null  int64  \n",
      " 1   Gender               29165 non-null  int64  \n",
      " 2   Has a car            29165 non-null  int64  \n",
      " 3   Has a property       29165 non-null  int64  \n",
      " 4   Children count       29165 non-null  int64  \n",
      " 5   Income               29165 non-null  float64\n",
      " 6   Employment status    29165 non-null  int64  \n",
      " 7   Education level      29165 non-null  int64  \n",
      " 8   Marital status       29165 non-null  int64  \n",
      " 9   Dwelling             29165 non-null  int64  \n",
      " 10  Age                  29165 non-null  int64  \n",
      " 11  Employment length    29165 non-null  int64  \n",
      " 12  Has a mobile phone   29165 non-null  int64  \n",
      " 13  Has a work phone     29165 non-null  int64  \n",
      " 14  Has a phone          29165 non-null  int64  \n",
      " 15  Has an email         29165 non-null  int64  \n",
      " 16  Job title            29165 non-null  int64  \n",
      " 17  Family member count  29165 non-null  float64\n",
      " 18  Account age          29165 non-null  float64\n",
      " 19  Is high risk         29165 non-null  int64  \n",
      "dtypes: float64(3), int64(17)\n",
      "memory usage: 4.5 MB\n"
     ]
    }
   ],
   "source": [
    "train_df.info()"
   ]
  },
  {
   "cell_type": "markdown",
   "id": "ffa78865",
   "metadata": {},
   "source": [
    "### Drop 'ID' column"
   ]
  },
  {
   "cell_type": "code",
   "execution_count": 809,
   "id": "878f194b",
   "metadata": {},
   "outputs": [],
   "source": [
    "## Test dataset\n",
    "test_df=test_df.drop(['ID'],axis=1);"
   ]
  },
  {
   "cell_type": "code",
   "execution_count": 810,
   "id": "cc824fbc",
   "metadata": {},
   "outputs": [
    {
     "name": "stdout",
     "output_type": "stream",
     "text": [
      "<class 'pandas.core.frame.DataFrame'>\n",
      "RangeIndex: 7292 entries, 0 to 7291\n",
      "Data columns (total 19 columns):\n",
      " #   Column               Non-Null Count  Dtype  \n",
      "---  ------               --------------  -----  \n",
      " 0   Gender               7292 non-null   int64  \n",
      " 1   Has a car            7292 non-null   int64  \n",
      " 2   Has a property       7292 non-null   int64  \n",
      " 3   Children count       7292 non-null   int64  \n",
      " 4   Income               7292 non-null   float64\n",
      " 5   Employment status    7292 non-null   int64  \n",
      " 6   Education level      7292 non-null   int64  \n",
      " 7   Marital status       7292 non-null   int64  \n",
      " 8   Dwelling             7292 non-null   int64  \n",
      " 9   Age                  7292 non-null   int64  \n",
      " 10  Employment length    7292 non-null   int64  \n",
      " 11  Has a mobile phone   7292 non-null   int64  \n",
      " 12  Has a work phone     7292 non-null   int64  \n",
      " 13  Has a phone          7292 non-null   int64  \n",
      " 14  Has an email         7292 non-null   int64  \n",
      " 15  Job title            7292 non-null   int64  \n",
      " 16  Family member count  7292 non-null   float64\n",
      " 17  Account age          7292 non-null   float64\n",
      " 18  Is high risk         7292 non-null   int64  \n",
      "dtypes: float64(3), int64(16)\n",
      "memory usage: 1.1 MB\n"
     ]
    }
   ],
   "source": [
    "test_df.info()"
   ]
  },
  {
   "cell_type": "code",
   "execution_count": 811,
   "id": "36efe2e1",
   "metadata": {},
   "outputs": [],
   "source": [
    "## Train dataset\n",
    "train_df=train_df.drop(['ID'],axis=1);"
   ]
  },
  {
   "cell_type": "code",
   "execution_count": 812,
   "id": "8f45d9f5",
   "metadata": {},
   "outputs": [
    {
     "name": "stdout",
     "output_type": "stream",
     "text": [
      "<class 'pandas.core.frame.DataFrame'>\n",
      "RangeIndex: 29165 entries, 0 to 29164\n",
      "Data columns (total 19 columns):\n",
      " #   Column               Non-Null Count  Dtype  \n",
      "---  ------               --------------  -----  \n",
      " 0   Gender               29165 non-null  int64  \n",
      " 1   Has a car            29165 non-null  int64  \n",
      " 2   Has a property       29165 non-null  int64  \n",
      " 3   Children count       29165 non-null  int64  \n",
      " 4   Income               29165 non-null  float64\n",
      " 5   Employment status    29165 non-null  int64  \n",
      " 6   Education level      29165 non-null  int64  \n",
      " 7   Marital status       29165 non-null  int64  \n",
      " 8   Dwelling             29165 non-null  int64  \n",
      " 9   Age                  29165 non-null  int64  \n",
      " 10  Employment length    29165 non-null  int64  \n",
      " 11  Has a mobile phone   29165 non-null  int64  \n",
      " 12  Has a work phone     29165 non-null  int64  \n",
      " 13  Has a phone          29165 non-null  int64  \n",
      " 14  Has an email         29165 non-null  int64  \n",
      " 15  Job title            29165 non-null  int64  \n",
      " 16  Family member count  29165 non-null  float64\n",
      " 17  Account age          29165 non-null  float64\n",
      " 18  Is high risk         29165 non-null  int64  \n",
      "dtypes: float64(3), int64(16)\n",
      "memory usage: 4.2 MB\n"
     ]
    }
   ],
   "source": [
    "train_df.info()"
   ]
  },
  {
   "cell_type": "markdown",
   "id": "5c5dc623",
   "metadata": {},
   "source": [
    "### X_test, y_test split"
   ]
  },
  {
   "cell_type": "code",
   "execution_count": 813,
   "id": "e4ad2106",
   "metadata": {},
   "outputs": [],
   "source": [
    "X_test=test_df.drop(['Is high risk'], axis=1)"
   ]
  },
  {
   "cell_type": "code",
   "execution_count": 814,
   "id": "0667fa37",
   "metadata": {},
   "outputs": [
    {
     "data": {
      "text/html": [
       "<div>\n",
       "<style scoped>\n",
       "    .dataframe tbody tr th:only-of-type {\n",
       "        vertical-align: middle;\n",
       "    }\n",
       "\n",
       "    .dataframe tbody tr th {\n",
       "        vertical-align: top;\n",
       "    }\n",
       "\n",
       "    .dataframe thead th {\n",
       "        text-align: right;\n",
       "    }\n",
       "</style>\n",
       "<table border=\"1\" class=\"dataframe\">\n",
       "  <thead>\n",
       "    <tr style=\"text-align: right;\">\n",
       "      <th></th>\n",
       "      <th>Gender</th>\n",
       "      <th>Has a car</th>\n",
       "      <th>Has a property</th>\n",
       "      <th>Children count</th>\n",
       "      <th>Income</th>\n",
       "      <th>Employment status</th>\n",
       "      <th>Education level</th>\n",
       "      <th>Marital status</th>\n",
       "      <th>Dwelling</th>\n",
       "      <th>Age</th>\n",
       "      <th>Employment length</th>\n",
       "      <th>Has a mobile phone</th>\n",
       "      <th>Has a work phone</th>\n",
       "      <th>Has a phone</th>\n",
       "      <th>Has an email</th>\n",
       "      <th>Job title</th>\n",
       "      <th>Family member count</th>\n",
       "      <th>Account age</th>\n",
       "    </tr>\n",
       "  </thead>\n",
       "  <tbody>\n",
       "    <tr>\n",
       "      <th>0</th>\n",
       "      <td>1</td>\n",
       "      <td>0</td>\n",
       "      <td>1</td>\n",
       "      <td>0</td>\n",
       "      <td>2.025</td>\n",
       "      <td>3</td>\n",
       "      <td>0</td>\n",
       "      <td>3</td>\n",
       "      <td>0</td>\n",
       "      <td>22</td>\n",
       "      <td>38</td>\n",
       "      <td>1</td>\n",
       "      <td>0</td>\n",
       "      <td>0</td>\n",
       "      <td>0</td>\n",
       "      <td>0</td>\n",
       "      <td>1.0</td>\n",
       "      <td>54.0</td>\n",
       "    </tr>\n",
       "    <tr>\n",
       "      <th>1</th>\n",
       "      <td>0</td>\n",
       "      <td>1</td>\n",
       "      <td>0</td>\n",
       "      <td>0</td>\n",
       "      <td>6.750</td>\n",
       "      <td>1</td>\n",
       "      <td>1</td>\n",
       "      <td>0</td>\n",
       "      <td>0</td>\n",
       "      <td>19</td>\n",
       "      <td>40</td>\n",
       "      <td>1</td>\n",
       "      <td>0</td>\n",
       "      <td>1</td>\n",
       "      <td>0</td>\n",
       "      <td>1</td>\n",
       "      <td>2.0</td>\n",
       "      <td>44.0</td>\n",
       "    </tr>\n",
       "  </tbody>\n",
       "</table>\n",
       "</div>"
      ],
      "text/plain": [
       "   Gender  Has a car  Has a property  Children count  Income  \\\n",
       "0       1          0               1               0   2.025   \n",
       "1       0          1               0               0   6.750   \n",
       "\n",
       "   Employment status  Education level  Marital status  Dwelling  Age  \\\n",
       "0                  3                0               3         0   22   \n",
       "1                  1                1               0         0   19   \n",
       "\n",
       "   Employment length  Has a mobile phone  Has a work phone  Has a phone  \\\n",
       "0                 38                   1                 0            0   \n",
       "1                 40                   1                 0            1   \n",
       "\n",
       "   Has an email  Job title  Family member count  Account age  \n",
       "0             0          0                  1.0         54.0  \n",
       "1             0          1                  2.0         44.0  "
      ]
     },
     "execution_count": 814,
     "metadata": {},
     "output_type": "execute_result"
    }
   ],
   "source": [
    "X_test.head(2)"
   ]
  },
  {
   "cell_type": "code",
   "execution_count": 815,
   "id": "95af98b2",
   "metadata": {},
   "outputs": [
    {
     "name": "stdout",
     "output_type": "stream",
     "text": [
      "<class 'pandas.core.frame.DataFrame'>\n",
      "RangeIndex: 7292 entries, 0 to 7291\n",
      "Data columns (total 18 columns):\n",
      " #   Column               Non-Null Count  Dtype  \n",
      "---  ------               --------------  -----  \n",
      " 0   Gender               7292 non-null   int64  \n",
      " 1   Has a car            7292 non-null   int64  \n",
      " 2   Has a property       7292 non-null   int64  \n",
      " 3   Children count       7292 non-null   int64  \n",
      " 4   Income               7292 non-null   float64\n",
      " 5   Employment status    7292 non-null   int64  \n",
      " 6   Education level      7292 non-null   int64  \n",
      " 7   Marital status       7292 non-null   int64  \n",
      " 8   Dwelling             7292 non-null   int64  \n",
      " 9   Age                  7292 non-null   int64  \n",
      " 10  Employment length    7292 non-null   int64  \n",
      " 11  Has a mobile phone   7292 non-null   int64  \n",
      " 12  Has a work phone     7292 non-null   int64  \n",
      " 13  Has a phone          7292 non-null   int64  \n",
      " 14  Has an email         7292 non-null   int64  \n",
      " 15  Job title            7292 non-null   int64  \n",
      " 16  Family member count  7292 non-null   float64\n",
      " 17  Account age          7292 non-null   float64\n",
      "dtypes: float64(3), int64(15)\n",
      "memory usage: 1.0 MB\n"
     ]
    }
   ],
   "source": [
    "X_test.info()"
   ]
  },
  {
   "cell_type": "code",
   "execution_count": 816,
   "id": "4e914069",
   "metadata": {},
   "outputs": [],
   "source": [
    "y_test=test_df['Is high risk']"
   ]
  },
  {
   "cell_type": "code",
   "execution_count": 817,
   "id": "a8e5a2ee",
   "metadata": {},
   "outputs": [
    {
     "name": "stdout",
     "output_type": "stream",
     "text": [
      "<class 'pandas.core.series.Series'>\n",
      "RangeIndex: 7292 entries, 0 to 7291\n",
      "Series name: Is high risk\n",
      "Non-Null Count  Dtype\n",
      "--------------  -----\n",
      "7292 non-null   int64\n",
      "dtypes: int64(1)\n",
      "memory usage: 57.1 KB\n"
     ]
    }
   ],
   "source": [
    "y_test.info()"
   ]
  },
  {
   "cell_type": "markdown",
   "id": "6a97c474",
   "metadata": {},
   "source": [
    "## X_train, y_train split"
   ]
  },
  {
   "cell_type": "code",
   "execution_count": 818,
   "id": "620ed3ec",
   "metadata": {},
   "outputs": [
    {
     "data": {
      "text/html": [
       "<div>\n",
       "<style scoped>\n",
       "    .dataframe tbody tr th:only-of-type {\n",
       "        vertical-align: middle;\n",
       "    }\n",
       "\n",
       "    .dataframe tbody tr th {\n",
       "        vertical-align: top;\n",
       "    }\n",
       "\n",
       "    .dataframe thead th {\n",
       "        text-align: right;\n",
       "    }\n",
       "</style>\n",
       "<table border=\"1\" class=\"dataframe\">\n",
       "  <thead>\n",
       "    <tr style=\"text-align: right;\">\n",
       "      <th></th>\n",
       "      <th>Gender</th>\n",
       "      <th>Has a car</th>\n",
       "      <th>Has a property</th>\n",
       "      <th>Children count</th>\n",
       "      <th>Income</th>\n",
       "      <th>Employment status</th>\n",
       "      <th>Education level</th>\n",
       "      <th>Marital status</th>\n",
       "      <th>Dwelling</th>\n",
       "      <th>Age</th>\n",
       "      <th>Employment length</th>\n",
       "      <th>Has a mobile phone</th>\n",
       "      <th>Has a work phone</th>\n",
       "      <th>Has a phone</th>\n",
       "      <th>Has an email</th>\n",
       "      <th>Job title</th>\n",
       "      <th>Family member count</th>\n",
       "      <th>Account age</th>\n",
       "      <th>Is high risk</th>\n",
       "    </tr>\n",
       "  </thead>\n",
       "  <tbody>\n",
       "    <tr>\n",
       "      <th>0</th>\n",
       "      <td>0</td>\n",
       "      <td>1</td>\n",
       "      <td>1</td>\n",
       "      <td>0</td>\n",
       "      <td>1.35</td>\n",
       "      <td>0</td>\n",
       "      <td>0</td>\n",
       "      <td>0</td>\n",
       "      <td>1</td>\n",
       "      <td>24</td>\n",
       "      <td>34</td>\n",
       "      <td>1</td>\n",
       "      <td>0</td>\n",
       "      <td>0</td>\n",
       "      <td>0</td>\n",
       "      <td>2</td>\n",
       "      <td>2.0</td>\n",
       "      <td>43.0</td>\n",
       "      <td>0</td>\n",
       "    </tr>\n",
       "    <tr>\n",
       "      <th>1</th>\n",
       "      <td>1</td>\n",
       "      <td>1</td>\n",
       "      <td>0</td>\n",
       "      <td>1</td>\n",
       "      <td>1.35</td>\n",
       "      <td>1</td>\n",
       "      <td>1</td>\n",
       "      <td>1</td>\n",
       "      <td>0</td>\n",
       "      <td>41</td>\n",
       "      <td>38</td>\n",
       "      <td>1</td>\n",
       "      <td>0</td>\n",
       "      <td>0</td>\n",
       "      <td>0</td>\n",
       "      <td>11</td>\n",
       "      <td>2.0</td>\n",
       "      <td>59.0</td>\n",
       "      <td>0</td>\n",
       "    </tr>\n",
       "    <tr>\n",
       "      <th>2</th>\n",
       "      <td>1</td>\n",
       "      <td>0</td>\n",
       "      <td>1</td>\n",
       "      <td>2</td>\n",
       "      <td>1.80</td>\n",
       "      <td>1</td>\n",
       "      <td>0</td>\n",
       "      <td>0</td>\n",
       "      <td>0</td>\n",
       "      <td>33</td>\n",
       "      <td>27</td>\n",
       "      <td>1</td>\n",
       "      <td>0</td>\n",
       "      <td>0</td>\n",
       "      <td>0</td>\n",
       "      <td>3</td>\n",
       "      <td>4.0</td>\n",
       "      <td>22.0</td>\n",
       "      <td>0</td>\n",
       "    </tr>\n",
       "    <tr>\n",
       "      <th>3</th>\n",
       "      <td>1</td>\n",
       "      <td>1</td>\n",
       "      <td>1</td>\n",
       "      <td>0</td>\n",
       "      <td>3.60</td>\n",
       "      <td>1</td>\n",
       "      <td>1</td>\n",
       "      <td>1</td>\n",
       "      <td>0</td>\n",
       "      <td>11</td>\n",
       "      <td>37</td>\n",
       "      <td>1</td>\n",
       "      <td>0</td>\n",
       "      <td>0</td>\n",
       "      <td>1</td>\n",
       "      <td>1</td>\n",
       "      <td>1.0</td>\n",
       "      <td>49.0</td>\n",
       "      <td>0</td>\n",
       "    </tr>\n",
       "    <tr>\n",
       "      <th>4</th>\n",
       "      <td>1</td>\n",
       "      <td>0</td>\n",
       "      <td>0</td>\n",
       "      <td>0</td>\n",
       "      <td>2.70</td>\n",
       "      <td>0</td>\n",
       "      <td>0</td>\n",
       "      <td>3</td>\n",
       "      <td>0</td>\n",
       "      <td>24</td>\n",
       "      <td>41</td>\n",
       "      <td>1</td>\n",
       "      <td>0</td>\n",
       "      <td>1</td>\n",
       "      <td>0</td>\n",
       "      <td>4</td>\n",
       "      <td>1.0</td>\n",
       "      <td>19.0</td>\n",
       "      <td>0</td>\n",
       "    </tr>\n",
       "  </tbody>\n",
       "</table>\n",
       "</div>"
      ],
      "text/plain": [
       "   Gender  Has a car  Has a property  Children count  Income  \\\n",
       "0       0          1               1               0    1.35   \n",
       "1       1          1               0               1    1.35   \n",
       "2       1          0               1               2    1.80   \n",
       "3       1          1               1               0    3.60   \n",
       "4       1          0               0               0    2.70   \n",
       "\n",
       "   Employment status  Education level  Marital status  Dwelling  Age  \\\n",
       "0                  0                0               0         1   24   \n",
       "1                  1                1               1         0   41   \n",
       "2                  1                0               0         0   33   \n",
       "3                  1                1               1         0   11   \n",
       "4                  0                0               3         0   24   \n",
       "\n",
       "   Employment length  Has a mobile phone  Has a work phone  Has a phone  \\\n",
       "0                 34                   1                 0            0   \n",
       "1                 38                   1                 0            0   \n",
       "2                 27                   1                 0            0   \n",
       "3                 37                   1                 0            0   \n",
       "4                 41                   1                 0            1   \n",
       "\n",
       "   Has an email  Job title  Family member count  Account age  Is high risk  \n",
       "0             0          2                  2.0         43.0             0  \n",
       "1             0         11                  2.0         59.0             0  \n",
       "2             0          3                  4.0         22.0             0  \n",
       "3             1          1                  1.0         49.0             0  \n",
       "4             0          4                  1.0         19.0             0  "
      ]
     },
     "execution_count": 818,
     "metadata": {},
     "output_type": "execute_result"
    }
   ],
   "source": [
    "train_df.head()"
   ]
  },
  {
   "cell_type": "code",
   "execution_count": 819,
   "id": "d05f06c0",
   "metadata": {},
   "outputs": [],
   "source": [
    "X_train=train_df.drop(['Is high risk'], axis=1);"
   ]
  },
  {
   "cell_type": "code",
   "execution_count": 820,
   "id": "a15d97f1",
   "metadata": {},
   "outputs": [
    {
     "data": {
      "text/html": [
       "<div>\n",
       "<style scoped>\n",
       "    .dataframe tbody tr th:only-of-type {\n",
       "        vertical-align: middle;\n",
       "    }\n",
       "\n",
       "    .dataframe tbody tr th {\n",
       "        vertical-align: top;\n",
       "    }\n",
       "\n",
       "    .dataframe thead th {\n",
       "        text-align: right;\n",
       "    }\n",
       "</style>\n",
       "<table border=\"1\" class=\"dataframe\">\n",
       "  <thead>\n",
       "    <tr style=\"text-align: right;\">\n",
       "      <th></th>\n",
       "      <th>Gender</th>\n",
       "      <th>Has a car</th>\n",
       "      <th>Has a property</th>\n",
       "      <th>Children count</th>\n",
       "      <th>Income</th>\n",
       "      <th>Employment status</th>\n",
       "      <th>Education level</th>\n",
       "      <th>Marital status</th>\n",
       "      <th>Dwelling</th>\n",
       "      <th>Age</th>\n",
       "      <th>Employment length</th>\n",
       "      <th>Has a mobile phone</th>\n",
       "      <th>Has a work phone</th>\n",
       "      <th>Has a phone</th>\n",
       "      <th>Has an email</th>\n",
       "      <th>Job title</th>\n",
       "      <th>Family member count</th>\n",
       "      <th>Account age</th>\n",
       "    </tr>\n",
       "  </thead>\n",
       "  <tbody>\n",
       "    <tr>\n",
       "      <th>0</th>\n",
       "      <td>0</td>\n",
       "      <td>1</td>\n",
       "      <td>1</td>\n",
       "      <td>0</td>\n",
       "      <td>1.35</td>\n",
       "      <td>0</td>\n",
       "      <td>0</td>\n",
       "      <td>0</td>\n",
       "      <td>1</td>\n",
       "      <td>24</td>\n",
       "      <td>34</td>\n",
       "      <td>1</td>\n",
       "      <td>0</td>\n",
       "      <td>0</td>\n",
       "      <td>0</td>\n",
       "      <td>2</td>\n",
       "      <td>2.0</td>\n",
       "      <td>43.0</td>\n",
       "    </tr>\n",
       "    <tr>\n",
       "      <th>1</th>\n",
       "      <td>1</td>\n",
       "      <td>1</td>\n",
       "      <td>0</td>\n",
       "      <td>1</td>\n",
       "      <td>1.35</td>\n",
       "      <td>1</td>\n",
       "      <td>1</td>\n",
       "      <td>1</td>\n",
       "      <td>0</td>\n",
       "      <td>41</td>\n",
       "      <td>38</td>\n",
       "      <td>1</td>\n",
       "      <td>0</td>\n",
       "      <td>0</td>\n",
       "      <td>0</td>\n",
       "      <td>11</td>\n",
       "      <td>2.0</td>\n",
       "      <td>59.0</td>\n",
       "    </tr>\n",
       "  </tbody>\n",
       "</table>\n",
       "</div>"
      ],
      "text/plain": [
       "   Gender  Has a car  Has a property  Children count  Income  \\\n",
       "0       0          1               1               0    1.35   \n",
       "1       1          1               0               1    1.35   \n",
       "\n",
       "   Employment status  Education level  Marital status  Dwelling  Age  \\\n",
       "0                  0                0               0         1   24   \n",
       "1                  1                1               1         0   41   \n",
       "\n",
       "   Employment length  Has a mobile phone  Has a work phone  Has a phone  \\\n",
       "0                 34                   1                 0            0   \n",
       "1                 38                   1                 0            0   \n",
       "\n",
       "   Has an email  Job title  Family member count  Account age  \n",
       "0             0          2                  2.0         43.0  \n",
       "1             0         11                  2.0         59.0  "
      ]
     },
     "execution_count": 820,
     "metadata": {},
     "output_type": "execute_result"
    }
   ],
   "source": [
    "X_train.head(2)"
   ]
  },
  {
   "cell_type": "code",
   "execution_count": 821,
   "id": "8fadee11",
   "metadata": {},
   "outputs": [],
   "source": [
    "y_train=train_df['Is high risk']"
   ]
  },
  {
   "cell_type": "code",
   "execution_count": 822,
   "id": "b4059cf9",
   "metadata": {},
   "outputs": [
    {
     "data": {
      "text/plain": [
       "0    0\n",
       "1    0\n",
       "Name: Is high risk, dtype: int64"
      ]
     },
     "execution_count": 822,
     "metadata": {},
     "output_type": "execute_result"
    }
   ],
   "source": [
    "y_train.head(2)"
   ]
  },
  {
   "cell_type": "markdown",
   "id": "27614aaa",
   "metadata": {},
   "source": [
    "## Different models and their accuracy"
   ]
  },
  {
   "cell_type": "code",
   "execution_count": 823,
   "id": "c8033b4f",
   "metadata": {},
   "outputs": [],
   "source": [
    "from sklearn.metrics import accuracy_score, precision_score, recall_score, f1_score, confusion_matrix, roc_auc_score,classification_report, roc_curve"
   ]
  },
  {
   "cell_type": "markdown",
   "id": "6eade3a0",
   "metadata": {},
   "source": [
    "#### 1. Logistic regression"
   ]
  },
  {
   "cell_type": "code",
   "execution_count": 824,
   "id": "7f96262d",
   "metadata": {},
   "outputs": [],
   "source": [
    "from sklearn.linear_model import LogisticRegression\n",
    "LR=LogisticRegression()\n"
   ]
  },
  {
   "cell_type": "code",
   "execution_count": 826,
   "id": "bbc016f2",
   "metadata": {},
   "outputs": [
    {
     "name": "stderr",
     "output_type": "stream",
     "text": [
      "C:\\Users\\prash\\anaconda3\\Lib\\site-packages\\sklearn\\linear_model\\_logistic.py:460: ConvergenceWarning: lbfgs failed to converge (status=1):\n",
      "STOP: TOTAL NO. of ITERATIONS REACHED LIMIT.\n",
      "\n",
      "Increase the number of iterations (max_iter) or scale the data as shown in:\n",
      "    https://scikit-learn.org/stable/modules/preprocessing.html\n",
      "Please also refer to the documentation for alternative solver options:\n",
      "    https://scikit-learn.org/stable/modules/linear_model.html#logistic-regression\n",
      "  n_iter_i = _check_optimize_result(\n"
     ]
    },
    {
     "data": {
      "text/html": [
       "<style>#sk-container-id-10 {color: black;}#sk-container-id-10 pre{padding: 0;}#sk-container-id-10 div.sk-toggleable {background-color: white;}#sk-container-id-10 label.sk-toggleable__label {cursor: pointer;display: block;width: 100%;margin-bottom: 0;padding: 0.3em;box-sizing: border-box;text-align: center;}#sk-container-id-10 label.sk-toggleable__label-arrow:before {content: \"▸\";float: left;margin-right: 0.25em;color: #696969;}#sk-container-id-10 label.sk-toggleable__label-arrow:hover:before {color: black;}#sk-container-id-10 div.sk-estimator:hover label.sk-toggleable__label-arrow:before {color: black;}#sk-container-id-10 div.sk-toggleable__content {max-height: 0;max-width: 0;overflow: hidden;text-align: left;background-color: #f0f8ff;}#sk-container-id-10 div.sk-toggleable__content pre {margin: 0.2em;color: black;border-radius: 0.25em;background-color: #f0f8ff;}#sk-container-id-10 input.sk-toggleable__control:checked~div.sk-toggleable__content {max-height: 200px;max-width: 100%;overflow: auto;}#sk-container-id-10 input.sk-toggleable__control:checked~label.sk-toggleable__label-arrow:before {content: \"▾\";}#sk-container-id-10 div.sk-estimator input.sk-toggleable__control:checked~label.sk-toggleable__label {background-color: #d4ebff;}#sk-container-id-10 div.sk-label input.sk-toggleable__control:checked~label.sk-toggleable__label {background-color: #d4ebff;}#sk-container-id-10 input.sk-hidden--visually {border: 0;clip: rect(1px 1px 1px 1px);clip: rect(1px, 1px, 1px, 1px);height: 1px;margin: -1px;overflow: hidden;padding: 0;position: absolute;width: 1px;}#sk-container-id-10 div.sk-estimator {font-family: monospace;background-color: #f0f8ff;border: 1px dotted black;border-radius: 0.25em;box-sizing: border-box;margin-bottom: 0.5em;}#sk-container-id-10 div.sk-estimator:hover {background-color: #d4ebff;}#sk-container-id-10 div.sk-parallel-item::after {content: \"\";width: 100%;border-bottom: 1px solid gray;flex-grow: 1;}#sk-container-id-10 div.sk-label:hover label.sk-toggleable__label {background-color: #d4ebff;}#sk-container-id-10 div.sk-serial::before {content: \"\";position: absolute;border-left: 1px solid gray;box-sizing: border-box;top: 0;bottom: 0;left: 50%;z-index: 0;}#sk-container-id-10 div.sk-serial {display: flex;flex-direction: column;align-items: center;background-color: white;padding-right: 0.2em;padding-left: 0.2em;position: relative;}#sk-container-id-10 div.sk-item {position: relative;z-index: 1;}#sk-container-id-10 div.sk-parallel {display: flex;align-items: stretch;justify-content: center;background-color: white;position: relative;}#sk-container-id-10 div.sk-item::before, #sk-container-id-10 div.sk-parallel-item::before {content: \"\";position: absolute;border-left: 1px solid gray;box-sizing: border-box;top: 0;bottom: 0;left: 50%;z-index: -1;}#sk-container-id-10 div.sk-parallel-item {display: flex;flex-direction: column;z-index: 1;position: relative;background-color: white;}#sk-container-id-10 div.sk-parallel-item:first-child::after {align-self: flex-end;width: 50%;}#sk-container-id-10 div.sk-parallel-item:last-child::after {align-self: flex-start;width: 50%;}#sk-container-id-10 div.sk-parallel-item:only-child::after {width: 0;}#sk-container-id-10 div.sk-dashed-wrapped {border: 1px dashed gray;margin: 0 0.4em 0.5em 0.4em;box-sizing: border-box;padding-bottom: 0.4em;background-color: white;}#sk-container-id-10 div.sk-label label {font-family: monospace;font-weight: bold;display: inline-block;line-height: 1.2em;}#sk-container-id-10 div.sk-label-container {text-align: center;}#sk-container-id-10 div.sk-container {/* jupyter's `normalize.less` sets `[hidden] { display: none; }` but bootstrap.min.css set `[hidden] { display: none !important; }` so we also need the `!important` here to be able to override the default hidden behavior on the sphinx rendered scikit-learn.org. See: https://github.com/scikit-learn/scikit-learn/issues/21755 */display: inline-block !important;position: relative;}#sk-container-id-10 div.sk-text-repr-fallback {display: none;}</style><div id=\"sk-container-id-10\" class=\"sk-top-container\"><div class=\"sk-text-repr-fallback\"><pre>LogisticRegression()</pre><b>In a Jupyter environment, please rerun this cell to show the HTML representation or trust the notebook. <br />On GitHub, the HTML representation is unable to render, please try loading this page with nbviewer.org.</b></div><div class=\"sk-container\" hidden><div class=\"sk-item\"><div class=\"sk-estimator sk-toggleable\"><input class=\"sk-toggleable__control sk-hidden--visually\" id=\"sk-estimator-id-10\" type=\"checkbox\" checked><label for=\"sk-estimator-id-10\" class=\"sk-toggleable__label sk-toggleable__label-arrow\">LogisticRegression</label><div class=\"sk-toggleable__content\"><pre>LogisticRegression()</pre></div></div></div></div></div>"
      ],
      "text/plain": [
       "LogisticRegression()"
      ]
     },
     "execution_count": 826,
     "metadata": {},
     "output_type": "execute_result"
    }
   ],
   "source": [
    "LR.fit(X_train,y_train)\n"
   ]
  },
  {
   "cell_type": "code",
   "execution_count": 827,
   "id": "56a877ab",
   "metadata": {},
   "outputs": [
    {
     "name": "stdout",
     "output_type": "stream",
     "text": [
      "Accuracy is  0.9839550191991223\n"
     ]
    }
   ],
   "source": [
    "#Accuracy\n",
    "y_pred=LR.predict(X_test)\n",
    "print(\"Accuracy is \",accuracy_score(y_test,y_pred))"
   ]
  },
  {
   "cell_type": "code",
   "execution_count": 828,
   "id": "72c6b465",
   "metadata": {},
   "outputs": [
    {
     "name": "stdout",
     "output_type": "stream",
     "text": [
      "Precision is 0.0\n"
     ]
    },
    {
     "name": "stderr",
     "output_type": "stream",
     "text": [
      "C:\\Users\\prash\\anaconda3\\Lib\\site-packages\\sklearn\\metrics\\_classification.py:1471: UndefinedMetricWarning: Precision is ill-defined and being set to 0.0 due to no predicted samples. Use `zero_division` parameter to control this behavior.\n",
      "  _warn_prf(average, modifier, msg_start, len(result))\n"
     ]
    }
   ],
   "source": [
    "# Precision\n",
    "precision = precision_score(y_test, y_pred)\n",
    "print(\"Precision is\", precision)"
   ]
  },
  {
   "cell_type": "code",
   "execution_count": 829,
   "id": "ea65d8e9",
   "metadata": {},
   "outputs": [
    {
     "name": "stdout",
     "output_type": "stream",
     "text": [
      "f1_score is 0.0\n"
     ]
    }
   ],
   "source": [
    "# f1_score\n",
    "f1Score = f1_score(y_test, y_pred)\n",
    "print(\"f1_score is\", f1Score)"
   ]
  },
  {
   "cell_type": "code",
   "execution_count": 830,
   "id": "767f9dea",
   "metadata": {},
   "outputs": [
    {
     "name": "stdout",
     "output_type": "stream",
     "text": [
      "rocAuc is 0.5\n"
     ]
    }
   ],
   "source": [
    "# ROC AUC Score\n",
    "rocAuc = roc_auc_score(y_test, y_pred)\n",
    "print(\"rocAuc is\", rocAuc)"
   ]
  },
  {
   "cell_type": "code",
   "execution_count": 831,
   "id": "48f8c529",
   "metadata": {},
   "outputs": [
    {
     "name": "stdout",
     "output_type": "stream",
     "text": [
      "Recall is 0.0\n"
     ]
    }
   ],
   "source": [
    "# Recall\n",
    "recall = recall_score(y_test, y_pred)\n",
    "print(\"Recall is\", recall)"
   ]
  },
  {
   "cell_type": "code",
   "execution_count": 832,
   "id": "b07d265d",
   "metadata": {},
   "outputs": [
    {
     "name": "stdout",
     "output_type": "stream",
     "text": [
      "Confusion Matrix:\n",
      "[[7175    0]\n",
      " [ 117    0]]\n"
     ]
    }
   ],
   "source": [
    "## Confusion Matrix\n",
    "cm = confusion_matrix(y_test, y_pred)\n",
    "print(\"Confusion Matrix:\")\n",
    "print(cm)"
   ]
  },
  {
   "cell_type": "code",
   "execution_count": 833,
   "id": "00232c3d",
   "metadata": {},
   "outputs": [
    {
     "name": "stdout",
     "output_type": "stream",
     "text": [
      "Classification Report:\n",
      "              precision    recall  f1-score   support\n",
      "\n",
      "           0       0.98      1.00      0.99      7175\n",
      "           1       0.00      0.00      0.00       117\n",
      "\n",
      "    accuracy                           0.98      7292\n",
      "   macro avg       0.49      0.50      0.50      7292\n",
      "weighted avg       0.97      0.98      0.98      7292\n",
      "\n"
     ]
    },
    {
     "name": "stderr",
     "output_type": "stream",
     "text": [
      "C:\\Users\\prash\\anaconda3\\Lib\\site-packages\\sklearn\\metrics\\_classification.py:1471: UndefinedMetricWarning: Precision and F-score are ill-defined and being set to 0.0 in labels with no predicted samples. Use `zero_division` parameter to control this behavior.\n",
      "  _warn_prf(average, modifier, msg_start, len(result))\n",
      "C:\\Users\\prash\\anaconda3\\Lib\\site-packages\\sklearn\\metrics\\_classification.py:1471: UndefinedMetricWarning: Precision and F-score are ill-defined and being set to 0.0 in labels with no predicted samples. Use `zero_division` parameter to control this behavior.\n",
      "  _warn_prf(average, modifier, msg_start, len(result))\n",
      "C:\\Users\\prash\\anaconda3\\Lib\\site-packages\\sklearn\\metrics\\_classification.py:1471: UndefinedMetricWarning: Precision and F-score are ill-defined and being set to 0.0 in labels with no predicted samples. Use `zero_division` parameter to control this behavior.\n",
      "  _warn_prf(average, modifier, msg_start, len(result))\n"
     ]
    }
   ],
   "source": [
    "# Generate classification report\n",
    "report = classification_report(y_test, y_pred)\n",
    "print(\"Classification Report:\")\n",
    "print(report)"
   ]
  },
  {
   "cell_type": "markdown",
   "id": "bcf155d2",
   "metadata": {},
   "source": [
    "## 2. Decision Tree"
   ]
  },
  {
   "cell_type": "code",
   "execution_count": 836,
   "id": "1ff621c1",
   "metadata": {},
   "outputs": [
    {
     "name": "stdout",
     "output_type": "stream",
     "text": [
      "Accuracy is  0.9732583653318705\n"
     ]
    }
   ],
   "source": [
    "from sklearn.tree import ExtraTreeClassifier\n",
    "Dt=ExtraTreeClassifier()\n",
    "Dt.fit(X_train,y_train)\n",
    "y_pred2=Dt.predict(X_test)\n",
    "print(\"Accuracy is \",accuracy_score(y_test,y_pred2))"
   ]
  },
  {
   "cell_type": "code",
   "execution_count": 837,
   "id": "779ce178",
   "metadata": {},
   "outputs": [
    {
     "name": "stdout",
     "output_type": "stream",
     "text": [
      "Recall is 0.23076923076923078\n"
     ]
    }
   ],
   "source": [
    "## recall\n",
    "recall2 = recall_score(y_test, y_pred2)\n",
    "print(\"Recall is\", recall2)"
   ]
  },
  {
   "cell_type": "code",
   "execution_count": 838,
   "id": "39b87c11",
   "metadata": {},
   "outputs": [
    {
     "name": "stdout",
     "output_type": "stream",
     "text": [
      "Precision is 0.20454545454545456\n"
     ]
    }
   ],
   "source": [
    "# Precision\n",
    "precision2 = precision_score(y_test, y_pred2)\n",
    "print(\"Precision is\", precision2)"
   ]
  },
  {
   "cell_type": "code",
   "execution_count": 839,
   "id": "e4c6eb71",
   "metadata": {},
   "outputs": [
    {
     "name": "stdout",
     "output_type": "stream",
     "text": [
      "Confusion Matrix:\n",
      "[[7070  105]\n",
      " [  90   27]]\n"
     ]
    }
   ],
   "source": [
    "#Confusion matrix\n",
    "cm = confusion_matrix(y_test, y_pred2)\n",
    "print(\"Confusion Matrix:\")\n",
    "print(cm)"
   ]
  },
  {
   "cell_type": "code",
   "execution_count": 856,
   "id": "7faf30db",
   "metadata": {},
   "outputs": [
    {
     "name": "stdout",
     "output_type": "stream",
     "text": [
      "rocAuc is 0.6080675422138837\n"
     ]
    }
   ],
   "source": [
    "# ROC AUC Score\n",
    "rocAuc = roc_auc_score(y_test, y_pred2)\n",
    "print(\"rocAuc is\", rocAuc)"
   ]
  },
  {
   "cell_type": "code",
   "execution_count": 857,
   "id": "3ab49875",
   "metadata": {},
   "outputs": [
    {
     "name": "stdout",
     "output_type": "stream",
     "text": [
      "f1_score is 0.2168674698795181\n"
     ]
    }
   ],
   "source": [
    "# f1_score\n",
    "f1Score = f1_score(y_test, y_pred2)\n",
    "print(\"f1_score is\", f1Score)"
   ]
  },
  {
   "cell_type": "code",
   "execution_count": 840,
   "id": "dd412551",
   "metadata": {},
   "outputs": [
    {
     "name": "stdout",
     "output_type": "stream",
     "text": [
      "Classification Report:\n",
      "              precision    recall  f1-score   support\n",
      "\n",
      "           0       0.99      0.99      0.99      7175\n",
      "           1       0.20      0.23      0.22       117\n",
      "\n",
      "    accuracy                           0.97      7292\n",
      "   macro avg       0.60      0.61      0.60      7292\n",
      "weighted avg       0.97      0.97      0.97      7292\n",
      "\n"
     ]
    }
   ],
   "source": [
    "# Generate classification report\n",
    "report = classification_report(y_test, y_pred2)\n",
    "print(\"Classification Report:\")\n",
    "print(report)"
   ]
  },
  {
   "cell_type": "markdown",
   "id": "96bc7722",
   "metadata": {},
   "source": [
    "## 3. Random Forest"
   ]
  },
  {
   "cell_type": "code",
   "execution_count": 841,
   "id": "f42f2432",
   "metadata": {},
   "outputs": [
    {
     "name": "stdout",
     "output_type": "stream",
     "text": [
      "Accuracy is  0.9820351069665386\n"
     ]
    }
   ],
   "source": [
    "from sklearn.ensemble import RandomForestClassifier\n",
    "RF=RandomForestClassifier()\n",
    "RF.fit(X_train,y_train)\n",
    "y_pred3=RF.predict(X_test)\n",
    "print(\"Accuracy is \",accuracy_score(y_test,y_pred3))"
   ]
  },
  {
   "cell_type": "code",
   "execution_count": 842,
   "id": "ea69d6b4",
   "metadata": {},
   "outputs": [
    {
     "name": "stdout",
     "output_type": "stream",
     "text": [
      "Recall is 0.1282051282051282\n"
     ]
    }
   ],
   "source": [
    "recall3 = recall_score(y_test, y_pred3)\n",
    "print(\"Recall is\", recall3)"
   ]
  },
  {
   "cell_type": "code",
   "execution_count": 843,
   "id": "af1bb097",
   "metadata": {},
   "outputs": [
    {
     "name": "stdout",
     "output_type": "stream",
     "text": [
      "Precision is 0.3409090909090909\n"
     ]
    }
   ],
   "source": [
    "# Precision\n",
    "precision3 = precision_score(y_test, y_pred3)\n",
    "print(\"Precision is\", precision3)"
   ]
  },
  {
   "cell_type": "code",
   "execution_count": 844,
   "id": "2e05f8a3",
   "metadata": {},
   "outputs": [
    {
     "name": "stdout",
     "output_type": "stream",
     "text": [
      "Confusion Matrix:\n",
      "[[7146   29]\n",
      " [ 102   15]]\n"
     ]
    }
   ],
   "source": [
    "cm = confusion_matrix(y_test, y_pred3)\n",
    "print(\"Confusion Matrix:\")\n",
    "print(cm)"
   ]
  },
  {
   "cell_type": "code",
   "execution_count": 845,
   "id": "e634f740",
   "metadata": {},
   "outputs": [
    {
     "name": "stdout",
     "output_type": "stream",
     "text": [
      "Classification Report:\n",
      "              precision    recall  f1-score   support\n",
      "\n",
      "           0       0.99      1.00      0.99      7175\n",
      "           1       0.34      0.13      0.19       117\n",
      "\n",
      "    accuracy                           0.98      7292\n",
      "   macro avg       0.66      0.56      0.59      7292\n",
      "weighted avg       0.98      0.98      0.98      7292\n",
      "\n"
     ]
    }
   ],
   "source": [
    "# Generate classification report\n",
    "report = classification_report(y_test, y_pred3)\n",
    "print(\"Classification Report:\")\n",
    "print(report)"
   ]
  },
  {
   "cell_type": "markdown",
   "id": "4829141b",
   "metadata": {},
   "source": [
    "## 4.  Boosting Algorithms"
   ]
  },
  {
   "cell_type": "markdown",
   "id": "0eabeb9c",
   "metadata": {},
   "source": [
    "#### A. Gradient Boosting"
   ]
  },
  {
   "cell_type": "code",
   "execution_count": 846,
   "id": "fe6a3f4f",
   "metadata": {},
   "outputs": [],
   "source": [
    "from sklearn.ensemble import GradientBoostingClassifier"
   ]
  },
  {
   "cell_type": "code",
   "execution_count": 847,
   "id": "f5f09f87",
   "metadata": {},
   "outputs": [],
   "source": [
    "# Create the Gradient Boosting model\n",
    "GB = GradientBoostingClassifier()"
   ]
  },
  {
   "cell_type": "code",
   "execution_count": 848,
   "id": "a4615725",
   "metadata": {},
   "outputs": [
    {
     "data": {
      "text/html": [
       "<style>#sk-container-id-11 {color: black;}#sk-container-id-11 pre{padding: 0;}#sk-container-id-11 div.sk-toggleable {background-color: white;}#sk-container-id-11 label.sk-toggleable__label {cursor: pointer;display: block;width: 100%;margin-bottom: 0;padding: 0.3em;box-sizing: border-box;text-align: center;}#sk-container-id-11 label.sk-toggleable__label-arrow:before {content: \"▸\";float: left;margin-right: 0.25em;color: #696969;}#sk-container-id-11 label.sk-toggleable__label-arrow:hover:before {color: black;}#sk-container-id-11 div.sk-estimator:hover label.sk-toggleable__label-arrow:before {color: black;}#sk-container-id-11 div.sk-toggleable__content {max-height: 0;max-width: 0;overflow: hidden;text-align: left;background-color: #f0f8ff;}#sk-container-id-11 div.sk-toggleable__content pre {margin: 0.2em;color: black;border-radius: 0.25em;background-color: #f0f8ff;}#sk-container-id-11 input.sk-toggleable__control:checked~div.sk-toggleable__content {max-height: 200px;max-width: 100%;overflow: auto;}#sk-container-id-11 input.sk-toggleable__control:checked~label.sk-toggleable__label-arrow:before {content: \"▾\";}#sk-container-id-11 div.sk-estimator input.sk-toggleable__control:checked~label.sk-toggleable__label {background-color: #d4ebff;}#sk-container-id-11 div.sk-label input.sk-toggleable__control:checked~label.sk-toggleable__label {background-color: #d4ebff;}#sk-container-id-11 input.sk-hidden--visually {border: 0;clip: rect(1px 1px 1px 1px);clip: rect(1px, 1px, 1px, 1px);height: 1px;margin: -1px;overflow: hidden;padding: 0;position: absolute;width: 1px;}#sk-container-id-11 div.sk-estimator {font-family: monospace;background-color: #f0f8ff;border: 1px dotted black;border-radius: 0.25em;box-sizing: border-box;margin-bottom: 0.5em;}#sk-container-id-11 div.sk-estimator:hover {background-color: #d4ebff;}#sk-container-id-11 div.sk-parallel-item::after {content: \"\";width: 100%;border-bottom: 1px solid gray;flex-grow: 1;}#sk-container-id-11 div.sk-label:hover label.sk-toggleable__label {background-color: #d4ebff;}#sk-container-id-11 div.sk-serial::before {content: \"\";position: absolute;border-left: 1px solid gray;box-sizing: border-box;top: 0;bottom: 0;left: 50%;z-index: 0;}#sk-container-id-11 div.sk-serial {display: flex;flex-direction: column;align-items: center;background-color: white;padding-right: 0.2em;padding-left: 0.2em;position: relative;}#sk-container-id-11 div.sk-item {position: relative;z-index: 1;}#sk-container-id-11 div.sk-parallel {display: flex;align-items: stretch;justify-content: center;background-color: white;position: relative;}#sk-container-id-11 div.sk-item::before, #sk-container-id-11 div.sk-parallel-item::before {content: \"\";position: absolute;border-left: 1px solid gray;box-sizing: border-box;top: 0;bottom: 0;left: 50%;z-index: -1;}#sk-container-id-11 div.sk-parallel-item {display: flex;flex-direction: column;z-index: 1;position: relative;background-color: white;}#sk-container-id-11 div.sk-parallel-item:first-child::after {align-self: flex-end;width: 50%;}#sk-container-id-11 div.sk-parallel-item:last-child::after {align-self: flex-start;width: 50%;}#sk-container-id-11 div.sk-parallel-item:only-child::after {width: 0;}#sk-container-id-11 div.sk-dashed-wrapped {border: 1px dashed gray;margin: 0 0.4em 0.5em 0.4em;box-sizing: border-box;padding-bottom: 0.4em;background-color: white;}#sk-container-id-11 div.sk-label label {font-family: monospace;font-weight: bold;display: inline-block;line-height: 1.2em;}#sk-container-id-11 div.sk-label-container {text-align: center;}#sk-container-id-11 div.sk-container {/* jupyter's `normalize.less` sets `[hidden] { display: none; }` but bootstrap.min.css set `[hidden] { display: none !important; }` so we also need the `!important` here to be able to override the default hidden behavior on the sphinx rendered scikit-learn.org. See: https://github.com/scikit-learn/scikit-learn/issues/21755 */display: inline-block !important;position: relative;}#sk-container-id-11 div.sk-text-repr-fallback {display: none;}</style><div id=\"sk-container-id-11\" class=\"sk-top-container\"><div class=\"sk-text-repr-fallback\"><pre>GradientBoostingClassifier()</pre><b>In a Jupyter environment, please rerun this cell to show the HTML representation or trust the notebook. <br />On GitHub, the HTML representation is unable to render, please try loading this page with nbviewer.org.</b></div><div class=\"sk-container\" hidden><div class=\"sk-item\"><div class=\"sk-estimator sk-toggleable\"><input class=\"sk-toggleable__control sk-hidden--visually\" id=\"sk-estimator-id-11\" type=\"checkbox\" checked><label for=\"sk-estimator-id-11\" class=\"sk-toggleable__label sk-toggleable__label-arrow\">GradientBoostingClassifier</label><div class=\"sk-toggleable__content\"><pre>GradientBoostingClassifier()</pre></div></div></div></div></div>"
      ],
      "text/plain": [
       "GradientBoostingClassifier()"
      ]
     },
     "execution_count": 848,
     "metadata": {},
     "output_type": "execute_result"
    }
   ],
   "source": [
    "# Fit the model to the training data\n",
    "GB.fit(X_train, y_train)"
   ]
  },
  {
   "cell_type": "code",
   "execution_count": 849,
   "id": "9c05f009",
   "metadata": {},
   "outputs": [],
   "source": [
    "# Predict on the test data\n",
    "y_pred_gb = GB.predict(X_test)"
   ]
  },
  {
   "cell_type": "code",
   "execution_count": 850,
   "id": "0ad8757a",
   "metadata": {},
   "outputs": [
    {
     "name": "stdout",
     "output_type": "stream",
     "text": [
      "Gradient Boosting Accuracy is  0.9836807460230389\n"
     ]
    }
   ],
   "source": [
    "# Calculate the accuracy\n",
    "accuracy_gb = accuracy_score(y_test, y_pred_gb)\n",
    "print(\"Gradient Boosting Accuracy is \", accuracy_gb)"
   ]
  },
  {
   "cell_type": "code",
   "execution_count": 851,
   "id": "9ceafc4d",
   "metadata": {},
   "outputs": [
    {
     "name": "stdout",
     "output_type": "stream",
     "text": [
      "Recall is 0.008547008547008548\n"
     ]
    }
   ],
   "source": [
    "recall4 = recall_score(y_test, y_pred_gb)\n",
    "print(\"Recall is\", recall4)"
   ]
  },
  {
   "cell_type": "code",
   "execution_count": 852,
   "id": "b4da4306",
   "metadata": {},
   "outputs": [
    {
     "name": "stdout",
     "output_type": "stream",
     "text": [
      "Precision is 0.25\n"
     ]
    }
   ],
   "source": [
    "# Precision\n",
    "precision4 = precision_score(y_test, y_pred_gb)\n",
    "print(\"Precision is\", precision4)"
   ]
  },
  {
   "cell_type": "code",
   "execution_count": 858,
   "id": "6ba87387",
   "metadata": {
    "scrolled": true
   },
   "outputs": [
    {
     "name": "stdout",
     "output_type": "stream",
     "text": [
      "Confusion Matrix:\n",
      "[[7172    3]\n",
      " [ 116    1]]\n"
     ]
    }
   ],
   "source": [
    "cm = confusion_matrix(y_test, y_pred_gb)\n",
    "print(\"Confusion Matrix:\")\n",
    "print(cm)"
   ]
  },
  {
   "cell_type": "code",
   "execution_count": 859,
   "id": "d2f0fb09",
   "metadata": {},
   "outputs": [
    {
     "name": "stdout",
     "output_type": "stream",
     "text": [
      "rocAuc is 0.5040644450400548\n"
     ]
    }
   ],
   "source": [
    "# ROC AUC Score\n",
    "rocAuc = roc_auc_score(y_test, y_pred_gb)\n",
    "print(\"rocAuc is\", rocAuc)"
   ]
  },
  {
   "cell_type": "code",
   "execution_count": 860,
   "id": "0bc3d5a6",
   "metadata": {},
   "outputs": [
    {
     "name": "stdout",
     "output_type": "stream",
     "text": [
      "f1_score is 0.01652892561983471\n"
     ]
    }
   ],
   "source": [
    "# f1_score\n",
    "f1Score = f1_score(y_test, y_pred_gb)\n",
    "print(\"f1_score is\", f1Score)"
   ]
  },
  {
   "cell_type": "markdown",
   "id": "a6686672",
   "metadata": {},
   "source": [
    "#### B. AdaBoost"
   ]
  },
  {
   "cell_type": "code",
   "execution_count": 861,
   "id": "d908c548",
   "metadata": {},
   "outputs": [
    {
     "name": "stdout",
     "output_type": "stream",
     "text": [
      "AdaBoost Accuracy is  0.9839550191991223\n"
     ]
    }
   ],
   "source": [
    "from sklearn.ensemble import AdaBoostClassifier\n",
    "AB = AdaBoostClassifier()\n",
    "AB.fit(X_train, y_train)\n",
    "y_pred_ab = AB.predict(X_test)\n",
    "accuracy_ab = accuracy_score(y_test, y_pred_ab)\n",
    "print(\"AdaBoost Accuracy is \", accuracy_ab)\n"
   ]
  },
  {
   "cell_type": "code",
   "execution_count": 862,
   "id": "3e11ce5f",
   "metadata": {},
   "outputs": [
    {
     "name": "stdout",
     "output_type": "stream",
     "text": [
      "Precision is 0.0\n"
     ]
    },
    {
     "name": "stderr",
     "output_type": "stream",
     "text": [
      "C:\\Users\\prash\\anaconda3\\Lib\\site-packages\\sklearn\\metrics\\_classification.py:1471: UndefinedMetricWarning: Precision is ill-defined and being set to 0.0 due to no predicted samples. Use `zero_division` parameter to control this behavior.\n",
      "  _warn_prf(average, modifier, msg_start, len(result))\n"
     ]
    }
   ],
   "source": [
    "# Precision\n",
    "precision4 = precision_score(y_test, y_pred_ab)\n",
    "print(\"Precision is\", precision4)"
   ]
  },
  {
   "cell_type": "code",
   "execution_count": 863,
   "id": "a24053a7",
   "metadata": {},
   "outputs": [
    {
     "name": "stdout",
     "output_type": "stream",
     "text": [
      "Recall is 0.0\n"
     ]
    }
   ],
   "source": [
    "recall = recall_score(y_test, y_pred_ab)\n",
    "print(\"Recall is\", recall)"
   ]
  },
  {
   "cell_type": "code",
   "execution_count": 864,
   "id": "06d583dd",
   "metadata": {},
   "outputs": [
    {
     "name": "stdout",
     "output_type": "stream",
     "text": [
      "Confusion Matrix:\n",
      "[[7175    0]\n",
      " [ 117    0]]\n"
     ]
    }
   ],
   "source": [
    "#Confusion matrix\n",
    "cm = confusion_matrix(y_test, y_pred_ab)\n",
    "print(\"Confusion Matrix:\")\n",
    "print(cm)"
   ]
  },
  {
   "cell_type": "code",
   "execution_count": 865,
   "id": "e040ef49",
   "metadata": {},
   "outputs": [
    {
     "name": "stdout",
     "output_type": "stream",
     "text": [
      "rocAuc is 0.5\n"
     ]
    }
   ],
   "source": [
    "# ROC AUC Score\n",
    "rocAuc = roc_auc_score(y_test, y_pred_ab)\n",
    "print(\"rocAuc is\", rocAuc)"
   ]
  },
  {
   "cell_type": "code",
   "execution_count": 866,
   "id": "2c98f2ed",
   "metadata": {},
   "outputs": [
    {
     "name": "stdout",
     "output_type": "stream",
     "text": [
      "f1_score is 0.0\n"
     ]
    }
   ],
   "source": [
    "# f1_score\n",
    "f1Score = f1_score(y_test, y_pred_ab)\n",
    "print(\"f1_score is\", f1Score)"
   ]
  },
  {
   "cell_type": "markdown",
   "id": "be32a482",
   "metadata": {},
   "source": [
    "#### C. XGBoost\n"
   ]
  },
  {
   "cell_type": "code",
   "execution_count": 867,
   "id": "00381c56",
   "metadata": {},
   "outputs": [],
   "source": [
    "# !pip install xgboost\n"
   ]
  },
  {
   "cell_type": "code",
   "execution_count": 868,
   "id": "72d7f953",
   "metadata": {},
   "outputs": [
    {
     "name": "stdout",
     "output_type": "stream",
     "text": [
      "XGBoost Accuracy is  0.9835436094349973\n"
     ]
    }
   ],
   "source": [
    "import xgboost as xgb\n",
    "XGB = xgb.XGBClassifier()\n",
    "XGB.fit(X_train, y_train)\n",
    "y_pred_xgb = XGB.predict(X_test)\n",
    "accuracy_xgb = accuracy_score(y_test, y_pred_xgb)\n",
    "print(\"XGBoost Accuracy is \", accuracy_xgb)\n"
   ]
  },
  {
   "cell_type": "code",
   "execution_count": 869,
   "id": "42a52931",
   "metadata": {},
   "outputs": [
    {
     "name": "stdout",
     "output_type": "stream",
     "text": [
      "Precision is 0.42105263157894735\n"
     ]
    }
   ],
   "source": [
    "# Precision\n",
    "precision = precision_score(y_test, y_pred_xgb)\n",
    "print(\"Precision is\", precision)"
   ]
  },
  {
   "cell_type": "code",
   "execution_count": 871,
   "id": "fe3732a4",
   "metadata": {},
   "outputs": [
    {
     "name": "stdout",
     "output_type": "stream",
     "text": [
      "Recall is 0.06837606837606838\n"
     ]
    }
   ],
   "source": [
    "# recal\n",
    "recall = recall_score(y_test, y_pred_xgb)\n",
    "print(\"Recall is\", recall)"
   ]
  },
  {
   "cell_type": "code",
   "execution_count": 873,
   "id": "c34ef824",
   "metadata": {},
   "outputs": [
    {
     "name": "stdout",
     "output_type": "stream",
     "text": [
      "Confusion Matrix:\n",
      "[[7164   11]\n",
      " [ 109    8]]\n"
     ]
    }
   ],
   "source": [
    "#Confusion matrix\n",
    "cm = confusion_matrix(y_test, y_pred_xgb)\n",
    "print(\"Confusion Matrix:\")\n",
    "print(cm)"
   ]
  },
  {
   "cell_type": "code",
   "execution_count": 874,
   "id": "99d9cffc",
   "metadata": {},
   "outputs": [
    {
     "name": "stdout",
     "output_type": "stream",
     "text": [
      "rocAuc is 0.5334214836653861\n"
     ]
    }
   ],
   "source": [
    "# ROC AUC Score\n",
    "rocAuc = roc_auc_score(y_test, y_pred_xgb)\n",
    "print(\"rocAuc is\", rocAuc)"
   ]
  },
  {
   "cell_type": "code",
   "execution_count": 875,
   "id": "691a4d57",
   "metadata": {},
   "outputs": [
    {
     "name": "stdout",
     "output_type": "stream",
     "text": [
      "f1_score is 0.11764705882352942\n"
     ]
    }
   ],
   "source": [
    "# f1_score\n",
    "f1Score = f1_score(y_test, y_pred_xgb)\n",
    "print(\"f1_score is\", f1Score)"
   ]
  },
  {
   "cell_type": "markdown",
   "id": "40dd26b9",
   "metadata": {},
   "source": [
    "#### D. LightGBM"
   ]
  },
  {
   "cell_type": "code",
   "execution_count": 876,
   "id": "658ab132",
   "metadata": {},
   "outputs": [],
   "source": [
    "# !pip install lightgbm\n"
   ]
  },
  {
   "cell_type": "code",
   "execution_count": 877,
   "id": "f716ff72",
   "metadata": {},
   "outputs": [
    {
     "name": "stdout",
     "output_type": "stream",
     "text": [
      "[LightGBM] [Warning] Found whitespace in feature_names, replace with underlines\n",
      "[LightGBM] [Info] Number of positive: 499, number of negative: 28666\n",
      "[LightGBM] [Info] Auto-choosing row-wise multi-threading, the overhead of testing was 0.003249 seconds.\n",
      "You can set `force_row_wise=true` to remove the overhead.\n",
      "And if memory is not enough, you can set `force_col_wise=true`.\n",
      "[LightGBM] [Info] Total Bins 409\n",
      "[LightGBM] [Info] Number of data points in the train set: 29165, number of used features: 17\n",
      "[LightGBM] [Info] [binary:BoostFromScore]: pavg=0.017110 -> initscore=-4.050861\n",
      "[LightGBM] [Info] Start training from score -4.050861\n",
      "LightGBM Accuracy is  0.9834064728469556\n"
     ]
    }
   ],
   "source": [
    "import lightgbm as lgb\n",
    "LGB = lgb.LGBMClassifier()\n",
    "LGB.fit(X_train, y_train)\n",
    "y_pred_lgb = LGB.predict(X_test)\n",
    "accuracy_lgb = accuracy_score(y_test, y_pred_lgb)\n",
    "print(\"LightGBM Accuracy is \", accuracy_lgb)\n"
   ]
  },
  {
   "cell_type": "code",
   "execution_count": 878,
   "id": "b45f5051",
   "metadata": {},
   "outputs": [
    {
     "name": "stdout",
     "output_type": "stream",
     "text": [
      "Precision is 0.3333333333333333\n"
     ]
    }
   ],
   "source": [
    "# Precision\n",
    "precision = precision_score(y_test, y_pred_lgb)\n",
    "print(\"Precision is\", precision)"
   ]
  },
  {
   "cell_type": "code",
   "execution_count": 879,
   "id": "cddd33d3",
   "metadata": {},
   "outputs": [
    {
     "name": "stdout",
     "output_type": "stream",
     "text": [
      "Recall is 0.03418803418803419\n"
     ]
    }
   ],
   "source": [
    "# recal\n",
    "recall = recall_score(y_test, y_pred_lgb)\n",
    "print(\"Recall is\", recall)"
   ]
  },
  {
   "cell_type": "code",
   "execution_count": 880,
   "id": "09d2d16b",
   "metadata": {},
   "outputs": [
    {
     "name": "stdout",
     "output_type": "stream",
     "text": [
      "Confusion Matrix:\n",
      "[[7167    8]\n",
      " [ 113    4]]\n"
     ]
    }
   ],
   "source": [
    "#Confusion matrix\n",
    "cm = confusion_matrix(y_test, y_pred_lgb)\n",
    "print(\"Confusion Matrix:\")\n",
    "print(cm)"
   ]
  },
  {
   "cell_type": "code",
   "execution_count": 881,
   "id": "fd75eb22",
   "metadata": {},
   "outputs": [
    {
     "name": "stdout",
     "output_type": "stream",
     "text": [
      "rocAuc is 0.5165365258048186\n"
     ]
    }
   ],
   "source": [
    "# ROC AUC Score\n",
    "rocAuc = roc_auc_score(y_test, y_pred_lgb)\n",
    "print(\"rocAuc is\", rocAuc)"
   ]
  },
  {
   "cell_type": "markdown",
   "id": "40879b26",
   "metadata": {},
   "source": [
    "#### Prediction"
   ]
  },
  {
   "cell_type": "code",
   "execution_count": 205,
   "id": "88dfc4b2",
   "metadata": {},
   "outputs": [
    {
     "data": {
      "text/html": [
       "<div>\n",
       "<style scoped>\n",
       "    .dataframe tbody tr th:only-of-type {\n",
       "        vertical-align: middle;\n",
       "    }\n",
       "\n",
       "    .dataframe tbody tr th {\n",
       "        vertical-align: top;\n",
       "    }\n",
       "\n",
       "    .dataframe thead th {\n",
       "        text-align: right;\n",
       "    }\n",
       "</style>\n",
       "<table border=\"1\" class=\"dataframe\">\n",
       "  <thead>\n",
       "    <tr style=\"text-align: right;\">\n",
       "      <th></th>\n",
       "      <th>Gender</th>\n",
       "      <th>Has a car</th>\n",
       "      <th>Has a property</th>\n",
       "      <th>Children count</th>\n",
       "      <th>Income</th>\n",
       "      <th>Employment status</th>\n",
       "      <th>Education level</th>\n",
       "      <th>Marital status</th>\n",
       "      <th>Dwelling</th>\n",
       "      <th>Age</th>\n",
       "      <th>Employment length</th>\n",
       "      <th>Has a mobile phone</th>\n",
       "      <th>Has a work phone</th>\n",
       "      <th>Has a phone</th>\n",
       "      <th>Has an email</th>\n",
       "      <th>Job title</th>\n",
       "      <th>Family member count</th>\n",
       "      <th>Account age</th>\n",
       "    </tr>\n",
       "  </thead>\n",
       "  <tbody>\n",
       "    <tr>\n",
       "      <th>0</th>\n",
       "      <td>1</td>\n",
       "      <td>0</td>\n",
       "      <td>1</td>\n",
       "      <td>0</td>\n",
       "      <td>2.025</td>\n",
       "      <td>3</td>\n",
       "      <td>0</td>\n",
       "      <td>3</td>\n",
       "      <td>0</td>\n",
       "      <td>22</td>\n",
       "      <td>38</td>\n",
       "      <td>1</td>\n",
       "      <td>0</td>\n",
       "      <td>0</td>\n",
       "      <td>0</td>\n",
       "      <td>0</td>\n",
       "      <td>1.0</td>\n",
       "      <td>54.0</td>\n",
       "    </tr>\n",
       "    <tr>\n",
       "      <th>1</th>\n",
       "      <td>0</td>\n",
       "      <td>1</td>\n",
       "      <td>0</td>\n",
       "      <td>0</td>\n",
       "      <td>6.750</td>\n",
       "      <td>1</td>\n",
       "      <td>1</td>\n",
       "      <td>0</td>\n",
       "      <td>0</td>\n",
       "      <td>19</td>\n",
       "      <td>40</td>\n",
       "      <td>1</td>\n",
       "      <td>0</td>\n",
       "      <td>1</td>\n",
       "      <td>0</td>\n",
       "      <td>1</td>\n",
       "      <td>2.0</td>\n",
       "      <td>44.0</td>\n",
       "    </tr>\n",
       "    <tr>\n",
       "      <th>2</th>\n",
       "      <td>1</td>\n",
       "      <td>0</td>\n",
       "      <td>0</td>\n",
       "      <td>0</td>\n",
       "      <td>2.340</td>\n",
       "      <td>3</td>\n",
       "      <td>1</td>\n",
       "      <td>2</td>\n",
       "      <td>0</td>\n",
       "      <td>8</td>\n",
       "      <td>28</td>\n",
       "      <td>1</td>\n",
       "      <td>0</td>\n",
       "      <td>0</td>\n",
       "      <td>1</td>\n",
       "      <td>2</td>\n",
       "      <td>2.0</td>\n",
       "      <td>8.0</td>\n",
       "    </tr>\n",
       "    <tr>\n",
       "      <th>3</th>\n",
       "      <td>1</td>\n",
       "      <td>1</td>\n",
       "      <td>1</td>\n",
       "      <td>0</td>\n",
       "      <td>4.455</td>\n",
       "      <td>1</td>\n",
       "      <td>1</td>\n",
       "      <td>0</td>\n",
       "      <td>0</td>\n",
       "      <td>34</td>\n",
       "      <td>41</td>\n",
       "      <td>1</td>\n",
       "      <td>0</td>\n",
       "      <td>0</td>\n",
       "      <td>0</td>\n",
       "      <td>1</td>\n",
       "      <td>2.0</td>\n",
       "      <td>6.0</td>\n",
       "    </tr>\n",
       "    <tr>\n",
       "      <th>4</th>\n",
       "      <td>1</td>\n",
       "      <td>1</td>\n",
       "      <td>0</td>\n",
       "      <td>0</td>\n",
       "      <td>2.250</td>\n",
       "      <td>0</td>\n",
       "      <td>0</td>\n",
       "      <td>0</td>\n",
       "      <td>2</td>\n",
       "      <td>35</td>\n",
       "      <td>41</td>\n",
       "      <td>1</td>\n",
       "      <td>0</td>\n",
       "      <td>0</td>\n",
       "      <td>0</td>\n",
       "      <td>3</td>\n",
       "      <td>2.0</td>\n",
       "      <td>12.0</td>\n",
       "    </tr>\n",
       "  </tbody>\n",
       "</table>\n",
       "</div>"
      ],
      "text/plain": [
       "   Gender  Has a car  Has a property  Children count  Income  \\\n",
       "0       1          0               1               0   2.025   \n",
       "1       0          1               0               0   6.750   \n",
       "2       1          0               0               0   2.340   \n",
       "3       1          1               1               0   4.455   \n",
       "4       1          1               0               0   2.250   \n",
       "\n",
       "   Employment status  Education level  Marital status  Dwelling  Age  \\\n",
       "0                  3                0               3         0   22   \n",
       "1                  1                1               0         0   19   \n",
       "2                  3                1               2         0    8   \n",
       "3                  1                1               0         0   34   \n",
       "4                  0                0               0         2   35   \n",
       "\n",
       "   Employment length  Has a mobile phone  Has a work phone  Has a phone  \\\n",
       "0                 38                   1                 0            0   \n",
       "1                 40                   1                 0            1   \n",
       "2                 28                   1                 0            0   \n",
       "3                 41                   1                 0            0   \n",
       "4                 41                   1                 0            0   \n",
       "\n",
       "   Has an email  Job title  Family member count  Account age  \n",
       "0             0          0                  1.0         54.0  \n",
       "1             0          1                  2.0         44.0  \n",
       "2             1          2                  2.0          8.0  \n",
       "3             0          1                  2.0          6.0  \n",
       "4             0          3                  2.0         12.0  "
      ]
     },
     "execution_count": 205,
     "metadata": {},
     "output_type": "execute_result"
    }
   ],
   "source": [
    "X_test[0:5]"
   ]
  },
  {
   "cell_type": "code",
   "execution_count": 883,
   "id": "053fe699",
   "metadata": {},
   "outputs": [],
   "source": [
    "result=Dt.predict(X_test)"
   ]
  },
  {
   "cell_type": "code",
   "execution_count": 887,
   "id": "cfedec29",
   "metadata": {},
   "outputs": [
    {
     "name": "stdout",
     "output_type": "stream",
     "text": [
      "1\n",
      "1\n",
      "1\n",
      "1\n",
      "1\n",
      "1\n",
      "1\n",
      "1\n",
      "1\n",
      "1\n",
      "1\n",
      "1\n",
      "1\n",
      "1\n",
      "1\n",
      "1\n",
      "1\n",
      "1\n",
      "1\n",
      "1\n",
      "1\n",
      "1\n",
      "1\n",
      "1\n",
      "1\n",
      "1\n",
      "1\n",
      "1\n",
      "1\n",
      "1\n",
      "1\n",
      "1\n",
      "1\n",
      "1\n",
      "1\n",
      "1\n",
      "1\n",
      "1\n",
      "1\n",
      "1\n",
      "1\n",
      "1\n",
      "1\n",
      "1\n",
      "1\n",
      "1\n",
      "1\n",
      "1\n",
      "1\n",
      "1\n",
      "1\n",
      "1\n",
      "1\n",
      "1\n",
      "1\n",
      "1\n",
      "1\n",
      "1\n",
      "1\n",
      "1\n",
      "1\n",
      "1\n",
      "1\n",
      "1\n",
      "1\n",
      "1\n",
      "1\n",
      "1\n",
      "1\n",
      "1\n",
      "1\n",
      "1\n",
      "1\n",
      "1\n",
      "1\n",
      "1\n",
      "1\n",
      "1\n",
      "1\n",
      "1\n",
      "1\n",
      "1\n",
      "1\n",
      "1\n",
      "1\n",
      "1\n",
      "1\n",
      "1\n",
      "1\n",
      "1\n",
      "1\n",
      "1\n",
      "1\n",
      "1\n",
      "1\n",
      "1\n",
      "1\n",
      "1\n",
      "1\n",
      "1\n",
      "1\n",
      "1\n",
      "1\n",
      "1\n",
      "1\n",
      "1\n",
      "1\n",
      "1\n",
      "1\n",
      "1\n",
      "1\n",
      "1\n",
      "1\n",
      "1\n",
      "1\n",
      "1\n",
      "1\n",
      "1\n",
      "1\n",
      "1\n",
      "1\n",
      "1\n",
      "1\n",
      "1\n",
      "1\n",
      "1\n",
      "1\n",
      "1\n",
      "1\n",
      "1\n",
      "1\n",
      "1\n",
      "j 132\n"
     ]
    }
   ],
   "source": [
    "j=0\n",
    "for i in result:\n",
    "    if i==1:\n",
    "        j=j+1\n",
    "        print(i)\n",
    "print(\"j\",j)"
   ]
  },
  {
   "cell_type": "code",
   "execution_count": 207,
   "id": "3a8a5e0a",
   "metadata": {},
   "outputs": [
    {
     "data": {
      "text/plain": [
       "0    7175\n",
       "1     117\n",
       "Name: Is high risk, dtype: int64"
      ]
     },
     "execution_count": 207,
     "metadata": {},
     "output_type": "execute_result"
    }
   ],
   "source": [
    "y_test.value_counts()"
   ]
  },
  {
   "cell_type": "code",
   "execution_count": 208,
   "id": "0e889c35",
   "metadata": {},
   "outputs": [],
   "source": [
    "# Importing modal"
   ]
  },
  {
   "cell_type": "markdown",
   "id": "3c312244",
   "metadata": {},
   "source": [
    "### Using decision tree model for prediction"
   ]
  },
  {
   "cell_type": "code",
   "execution_count": 888,
   "id": "a353dfc7",
   "metadata": {},
   "outputs": [],
   "source": [
    "# import pickle\n",
    "# pickle.dump(Dt,open('Credit_card_approval.pkl','wb'))"
   ]
  },
  {
   "cell_type": "code",
   "execution_count": 212,
   "id": "6f1aedd3",
   "metadata": {},
   "outputs": [],
   "source": [
    "# import pickle\n",
    "# pickle.dump(LR,open('Credit_card_approval2.pkl','wb'))"
   ]
  },
  {
   "cell_type": "code",
   "execution_count": null,
   "id": "b629eca8",
   "metadata": {},
   "outputs": [],
   "source": []
  },
  {
   "cell_type": "code",
   "execution_count": null,
   "id": "45cab0c3",
   "metadata": {},
   "outputs": [],
   "source": []
  },
  {
   "cell_type": "code",
   "execution_count": null,
   "id": "f366be06",
   "metadata": {},
   "outputs": [],
   "source": []
  },
  {
   "cell_type": "code",
   "execution_count": null,
   "id": "5733ce2e",
   "metadata": {},
   "outputs": [],
   "source": []
  }
 ],
 "metadata": {
  "kernelspec": {
   "display_name": "Python 3 (ipykernel)",
   "language": "python",
   "name": "python3"
  },
  "language_info": {
   "codemirror_mode": {
    "name": "ipython",
    "version": 3
   },
   "file_extension": ".py",
   "mimetype": "text/x-python",
   "name": "python",
   "nbconvert_exporter": "python",
   "pygments_lexer": "ipython3",
   "version": "3.11.5"
  }
 },
 "nbformat": 4,
 "nbformat_minor": 5
}
